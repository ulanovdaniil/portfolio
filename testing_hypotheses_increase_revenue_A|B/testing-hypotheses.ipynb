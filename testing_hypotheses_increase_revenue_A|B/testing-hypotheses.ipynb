{
 "cells": [
  {
   "cell_type": "markdown",
   "id": "46c7dcf8",
   "metadata": {},
   "source": [
    "## Анализ гипотез для интернет-магазина"
   ]
  },
  {
   "cell_type": "markdown",
   "id": "c792c1f5",
   "metadata": {},
   "source": [
    "**Описание исследования:**  \n",
    "Заказчик - крупный интернет-магазин. Вместе с отделом маркетинга мы подготовили список гипотез для увеличения выручки.\n",
    "Наша задача - приоритизировать гипотезы, запустить A/B-тест и проанализировать результаты.  \n",
    "  \n",
    "**Исходные данные:**  \n",
    "  \n",
    "*Данные для первой части:*  \n",
    "  \n",
    "Файл /datasets/hypothesis.csv.  \n",
    "  - Hypothesis — краткое описание гипотезы;  \n",
    "  - Reach — охват пользователей по 10-балльной шкале;  \n",
    "  - Impact — влияние на пользователей по 10-балльной шкале;  \n",
    "  - Confidence — уверенность в гипотезе по 10-балльной шкале;  \n",
    "  - Efforts — затраты ресурсов на проверку гипотезы по 10-балльной шкале. Чем больше значение Efforts, тем дороже проверка гипотезы.  \n",
    "  \n",
    "*Данные для второй части:*  \n",
    "  \n",
    "Файл /datasets/orders.csv.   \n",
    "  - transactionId — идентификатор заказа;  \n",
    "  - visitorId — идентификатор пользователя, совершившего заказ;  \n",
    "  - date — дата, когда был совершён заказ;  \n",
    "  - revenue — выручка заказа;  \n",
    "  - group — группа A/B-теста, в которую попал заказ.  \n",
    "  \n",
    "Файл /datasets/visitors.csv.  \n",
    "  - date — дата;  \n",
    "  - group — группа A/B-теста;  \n",
    "  - visitors — количество пользователей в указанную дату в указанной группе A/B-теста"
   ]
  },
  {
   "cell_type": "markdown",
   "id": "88771428",
   "metadata": {},
   "source": [
    "## Шаг 1. Изучение и предобработка данных"
   ]
  },
  {
   "cell_type": "code",
   "execution_count": 42,
   "id": "a5a471d8",
   "metadata": {},
   "outputs": [],
   "source": [
    "import pandas as pd\n",
    "import matplotlib.pyplot as plt\n",
    "import numpy as np\n",
    "import datetime as dt\n",
    "import scipy.stats as stats"
   ]
  },
  {
   "cell_type": "code",
   "execution_count": 43,
   "id": "1a08cedc",
   "metadata": {},
   "outputs": [
    {
     "data": {
      "text/html": [
       "<div>\n",
       "<style scoped>\n",
       "    .dataframe tbody tr th:only-of-type {\n",
       "        vertical-align: middle;\n",
       "    }\n",
       "\n",
       "    .dataframe tbody tr th {\n",
       "        vertical-align: top;\n",
       "    }\n",
       "\n",
       "    .dataframe thead th {\n",
       "        text-align: right;\n",
       "    }\n",
       "</style>\n",
       "<table border=\"1\" class=\"dataframe\">\n",
       "  <thead>\n",
       "    <tr style=\"text-align: right;\">\n",
       "      <th></th>\n",
       "      <th>Hypothesis</th>\n",
       "      <th>Reach</th>\n",
       "      <th>Impact</th>\n",
       "      <th>Confidence</th>\n",
       "      <th>Efforts</th>\n",
       "    </tr>\n",
       "  </thead>\n",
       "  <tbody>\n",
       "    <tr>\n",
       "      <th>0</th>\n",
       "      <td>Добавить два новых канала привлечения трафика, что позволит привлекать на 30% больше пользователей</td>\n",
       "      <td>3</td>\n",
       "      <td>10</td>\n",
       "      <td>8</td>\n",
       "      <td>6</td>\n",
       "    </tr>\n",
       "    <tr>\n",
       "      <th>1</th>\n",
       "      <td>Запустить собственную службу доставки, что сократит срок доставки заказов</td>\n",
       "      <td>2</td>\n",
       "      <td>5</td>\n",
       "      <td>4</td>\n",
       "      <td>10</td>\n",
       "    </tr>\n",
       "    <tr>\n",
       "      <th>2</th>\n",
       "      <td>Добавить блоки рекомендаций товаров на сайт интернет магазина, чтобы повысить конверсию и средний чек заказа</td>\n",
       "      <td>8</td>\n",
       "      <td>3</td>\n",
       "      <td>7</td>\n",
       "      <td>3</td>\n",
       "    </tr>\n",
       "    <tr>\n",
       "      <th>3</th>\n",
       "      <td>Изменить структура категорий, что увеличит конверсию, т.к. пользователи быстрее найдут нужный товар</td>\n",
       "      <td>8</td>\n",
       "      <td>3</td>\n",
       "      <td>3</td>\n",
       "      <td>8</td>\n",
       "    </tr>\n",
       "    <tr>\n",
       "      <th>4</th>\n",
       "      <td>Изменить цвет фона главной страницы, чтобы увеличить вовлеченность пользователей</td>\n",
       "      <td>3</td>\n",
       "      <td>1</td>\n",
       "      <td>1</td>\n",
       "      <td>1</td>\n",
       "    </tr>\n",
       "    <tr>\n",
       "      <th>5</th>\n",
       "      <td>Добавить страницу отзывов клиентов о магазине, что позволит увеличить количество заказов</td>\n",
       "      <td>3</td>\n",
       "      <td>2</td>\n",
       "      <td>2</td>\n",
       "      <td>3</td>\n",
       "    </tr>\n",
       "    <tr>\n",
       "      <th>6</th>\n",
       "      <td>Показать на главной странице баннеры с актуальными акциями и распродажами, чтобы увеличить конверсию</td>\n",
       "      <td>5</td>\n",
       "      <td>3</td>\n",
       "      <td>8</td>\n",
       "      <td>3</td>\n",
       "    </tr>\n",
       "    <tr>\n",
       "      <th>7</th>\n",
       "      <td>Добавить форму подписки на все основные страницы, чтобы собрать базу клиентов для email-рассылок</td>\n",
       "      <td>10</td>\n",
       "      <td>7</td>\n",
       "      <td>8</td>\n",
       "      <td>5</td>\n",
       "    </tr>\n",
       "    <tr>\n",
       "      <th>8</th>\n",
       "      <td>Запустить акцию, дающую скидку на товар в день рождения</td>\n",
       "      <td>1</td>\n",
       "      <td>9</td>\n",
       "      <td>9</td>\n",
       "      <td>5</td>\n",
       "    </tr>\n",
       "  </tbody>\n",
       "</table>\n",
       "</div>"
      ],
      "text/plain": [
       "                                                                                                     Hypothesis  \\\n",
       "0            Добавить два новых канала привлечения трафика, что позволит привлекать на 30% больше пользователей   \n",
       "1                                     Запустить собственную службу доставки, что сократит срок доставки заказов   \n",
       "2  Добавить блоки рекомендаций товаров на сайт интернет магазина, чтобы повысить конверсию и средний чек заказа   \n",
       "3           Изменить структура категорий, что увеличит конверсию, т.к. пользователи быстрее найдут нужный товар   \n",
       "4                              Изменить цвет фона главной страницы, чтобы увеличить вовлеченность пользователей   \n",
       "5                      Добавить страницу отзывов клиентов о магазине, что позволит увеличить количество заказов   \n",
       "6          Показать на главной странице баннеры с актуальными акциями и распродажами, чтобы увеличить конверсию   \n",
       "7              Добавить форму подписки на все основные страницы, чтобы собрать базу клиентов для email-рассылок   \n",
       "8                                                       Запустить акцию, дающую скидку на товар в день рождения   \n",
       "\n",
       "   Reach  Impact  Confidence  Efforts  \n",
       "0      3      10           8        6  \n",
       "1      2       5           4       10  \n",
       "2      8       3           7        3  \n",
       "3      8       3           3        8  \n",
       "4      3       1           1        1  \n",
       "5      3       2           2        3  \n",
       "6      5       3           8        3  \n",
       "7     10       7           8        5  \n",
       "8      1       9           9        5  "
      ]
     },
     "execution_count": 43,
     "metadata": {},
     "output_type": "execute_result"
    }
   ],
   "source": [
    "pd.options.display.max_colwidth = 110\n",
    "\n",
    "try:\n",
    "    hypothesis = pd.read_csv(r\"D:\\Yandex\\Module2\\4\\project\\hypothesis.csv\")\n",
    "except:\n",
    "    hypothesis = pd.read_csv(\"/datasets/hypothesis.csv\")\n",
    "    \n",
    "hypothesis"
   ]
  },
  {
   "cell_type": "code",
   "execution_count": 44,
   "id": "7019077a",
   "metadata": {},
   "outputs": [
    {
     "name": "stdout",
     "output_type": "stream",
     "text": [
      "<class 'pandas.core.frame.DataFrame'>\n",
      "RangeIndex: 9 entries, 0 to 8\n",
      "Data columns (total 5 columns):\n",
      " #   Column      Non-Null Count  Dtype \n",
      "---  ------      --------------  ----- \n",
      " 0   Hypothesis  9 non-null      object\n",
      " 1   Reach       9 non-null      int64 \n",
      " 2   Impact      9 non-null      int64 \n",
      " 3   Confidence  9 non-null      int64 \n",
      " 4   Efforts     9 non-null      int64 \n",
      "dtypes: int64(4), object(1)\n",
      "memory usage: 488.0+ bytes\n"
     ]
    }
   ],
   "source": [
    "hypothesis.info()"
   ]
  },
  {
   "cell_type": "code",
   "execution_count": 45,
   "id": "93a8880f",
   "metadata": {},
   "outputs": [
    {
     "data": {
      "text/plain": [
       "Index(['hypothesis', 'reach', 'impact', 'confidence', 'efforts'], dtype='object')"
      ]
     },
     "execution_count": 45,
     "metadata": {},
     "output_type": "execute_result"
    }
   ],
   "source": [
    "hypothesis.columns = hypothesis.columns.str.lower()\n",
    "hypothesis.columns"
   ]
  },
  {
   "cell_type": "markdown",
   "id": "a0b157cd",
   "metadata": {},
   "source": [
    "В датасете hypothesis для названий стобцов был поставлен нижний регистр. По типам данных все в порядке."
   ]
  },
  {
   "cell_type": "code",
   "execution_count": 46,
   "id": "82057257",
   "metadata": {},
   "outputs": [
    {
     "data": {
      "text/html": [
       "<div>\n",
       "<style scoped>\n",
       "    .dataframe tbody tr th:only-of-type {\n",
       "        vertical-align: middle;\n",
       "    }\n",
       "\n",
       "    .dataframe tbody tr th {\n",
       "        vertical-align: top;\n",
       "    }\n",
       "\n",
       "    .dataframe thead th {\n",
       "        text-align: right;\n",
       "    }\n",
       "</style>\n",
       "<table border=\"1\" class=\"dataframe\">\n",
       "  <thead>\n",
       "    <tr style=\"text-align: right;\">\n",
       "      <th></th>\n",
       "      <th>transactionId</th>\n",
       "      <th>visitorId</th>\n",
       "      <th>date</th>\n",
       "      <th>revenue</th>\n",
       "      <th>group</th>\n",
       "    </tr>\n",
       "  </thead>\n",
       "  <tbody>\n",
       "    <tr>\n",
       "      <th>0</th>\n",
       "      <td>3667963787</td>\n",
       "      <td>3312258926</td>\n",
       "      <td>2019-08-15</td>\n",
       "      <td>1650</td>\n",
       "      <td>B</td>\n",
       "    </tr>\n",
       "    <tr>\n",
       "      <th>1</th>\n",
       "      <td>2804400009</td>\n",
       "      <td>3642806036</td>\n",
       "      <td>2019-08-15</td>\n",
       "      <td>730</td>\n",
       "      <td>B</td>\n",
       "    </tr>\n",
       "    <tr>\n",
       "      <th>2</th>\n",
       "      <td>2961555356</td>\n",
       "      <td>4069496402</td>\n",
       "      <td>2019-08-15</td>\n",
       "      <td>400</td>\n",
       "      <td>A</td>\n",
       "    </tr>\n",
       "    <tr>\n",
       "      <th>3</th>\n",
       "      <td>3797467345</td>\n",
       "      <td>1196621759</td>\n",
       "      <td>2019-08-15</td>\n",
       "      <td>9759</td>\n",
       "      <td>B</td>\n",
       "    </tr>\n",
       "    <tr>\n",
       "      <th>4</th>\n",
       "      <td>2282983706</td>\n",
       "      <td>2322279887</td>\n",
       "      <td>2019-08-15</td>\n",
       "      <td>2308</td>\n",
       "      <td>B</td>\n",
       "    </tr>\n",
       "  </tbody>\n",
       "</table>\n",
       "</div>"
      ],
      "text/plain": [
       "   transactionId   visitorId        date  revenue group\n",
       "0     3667963787  3312258926  2019-08-15     1650     B\n",
       "1     2804400009  3642806036  2019-08-15      730     B\n",
       "2     2961555356  4069496402  2019-08-15      400     A\n",
       "3     3797467345  1196621759  2019-08-15     9759     B\n",
       "4     2282983706  2322279887  2019-08-15     2308     B"
      ]
     },
     "execution_count": 46,
     "metadata": {},
     "output_type": "execute_result"
    }
   ],
   "source": [
    "try:\n",
    "    orders = pd.read_csv(r\"D:\\Yandex\\Module2\\4\\project\\orders.csv\")\n",
    "except:\n",
    "    orders = pd.read_csv(\"/datasets/orders.csv\")\n",
    "\n",
    "orders.head()"
   ]
  },
  {
   "cell_type": "code",
   "execution_count": 47,
   "id": "ad585610",
   "metadata": {},
   "outputs": [
    {
     "name": "stdout",
     "output_type": "stream",
     "text": [
      "<class 'pandas.core.frame.DataFrame'>\n",
      "RangeIndex: 1197 entries, 0 to 1196\n",
      "Data columns (total 5 columns):\n",
      " #   Column         Non-Null Count  Dtype \n",
      "---  ------         --------------  ----- \n",
      " 0   transactionId  1197 non-null   int64 \n",
      " 1   visitorId      1197 non-null   int64 \n",
      " 2   date           1197 non-null   object\n",
      " 3   revenue        1197 non-null   int64 \n",
      " 4   group          1197 non-null   object\n",
      "dtypes: int64(3), object(2)\n",
      "memory usage: 46.9+ KB\n"
     ]
    }
   ],
   "source": [
    "orders.info()"
   ]
  },
  {
   "cell_type": "code",
   "execution_count": 48,
   "id": "8dab7f02",
   "metadata": {},
   "outputs": [
    {
     "data": {
      "text/plain": [
       "Index(['transaction_id', 'visitor_id', 'date', 'revenue', 'group'], dtype='object')"
      ]
     },
     "execution_count": 48,
     "metadata": {},
     "output_type": "execute_result"
    }
   ],
   "source": [
    "orders = orders.rename(\n",
    "    columns={\n",
    "        'transactionId': 'transaction_id', \n",
    "        'visitorId': 'visitor_id'\n",
    "    }\n",
    ")\n",
    "\n",
    "orders.columns"
   ]
  },
  {
   "cell_type": "markdown",
   "id": "e5626dae",
   "metadata": {},
   "source": [
    "Также, для orders 2 столбца приведены к более \"питоновскому\" виду."
   ]
  },
  {
   "cell_type": "code",
   "execution_count": 49,
   "id": "3dec0a7a",
   "metadata": {},
   "outputs": [
    {
     "name": "stdout",
     "output_type": "stream",
     "text": [
      "<class 'pandas.core.frame.DataFrame'>\n",
      "RangeIndex: 1197 entries, 0 to 1196\n",
      "Data columns (total 5 columns):\n",
      " #   Column          Non-Null Count  Dtype         \n",
      "---  ------          --------------  -----         \n",
      " 0   transaction_id  1197 non-null   int64         \n",
      " 1   visitor_id      1197 non-null   int64         \n",
      " 2   date            1197 non-null   datetime64[ns]\n",
      " 3   revenue         1197 non-null   int64         \n",
      " 4   group           1197 non-null   object        \n",
      "dtypes: datetime64[ns](1), int64(3), object(1)\n",
      "memory usage: 46.9+ KB\n"
     ]
    }
   ],
   "source": [
    "orders['date'] = pd.to_datetime(orders['date'])\n",
    "\n",
    "#проверка на тип данных\n",
    "orders.info()"
   ]
  },
  {
   "cell_type": "markdown",
   "id": "aea6c239",
   "metadata": {},
   "source": [
    "Был изменен тип данных на datetime для столбца с датой."
   ]
  },
  {
   "cell_type": "code",
   "execution_count": 50,
   "id": "df21c946",
   "metadata": {},
   "outputs": [
    {
     "data": {
      "text/html": [
       "<div>\n",
       "<style scoped>\n",
       "    .dataframe tbody tr th:only-of-type {\n",
       "        vertical-align: middle;\n",
       "    }\n",
       "\n",
       "    .dataframe tbody tr th {\n",
       "        vertical-align: top;\n",
       "    }\n",
       "\n",
       "    .dataframe thead th {\n",
       "        text-align: right;\n",
       "    }\n",
       "</style>\n",
       "<table border=\"1\" class=\"dataframe\">\n",
       "  <thead>\n",
       "    <tr style=\"text-align: right;\">\n",
       "      <th></th>\n",
       "      <th>date</th>\n",
       "      <th>group</th>\n",
       "      <th>visitors</th>\n",
       "    </tr>\n",
       "  </thead>\n",
       "  <tbody>\n",
       "    <tr>\n",
       "      <th>0</th>\n",
       "      <td>2019-08-01</td>\n",
       "      <td>A</td>\n",
       "      <td>719</td>\n",
       "    </tr>\n",
       "    <tr>\n",
       "      <th>1</th>\n",
       "      <td>2019-08-02</td>\n",
       "      <td>A</td>\n",
       "      <td>619</td>\n",
       "    </tr>\n",
       "    <tr>\n",
       "      <th>2</th>\n",
       "      <td>2019-08-03</td>\n",
       "      <td>A</td>\n",
       "      <td>507</td>\n",
       "    </tr>\n",
       "    <tr>\n",
       "      <th>3</th>\n",
       "      <td>2019-08-04</td>\n",
       "      <td>A</td>\n",
       "      <td>717</td>\n",
       "    </tr>\n",
       "    <tr>\n",
       "      <th>4</th>\n",
       "      <td>2019-08-05</td>\n",
       "      <td>A</td>\n",
       "      <td>756</td>\n",
       "    </tr>\n",
       "  </tbody>\n",
       "</table>\n",
       "</div>"
      ],
      "text/plain": [
       "         date group  visitors\n",
       "0  2019-08-01     A       719\n",
       "1  2019-08-02     A       619\n",
       "2  2019-08-03     A       507\n",
       "3  2019-08-04     A       717\n",
       "4  2019-08-05     A       756"
      ]
     },
     "execution_count": 50,
     "metadata": {},
     "output_type": "execute_result"
    }
   ],
   "source": [
    "try:\n",
    "    visitors = pd.read_csv(r\"D:\\Yandex\\Module2\\4\\project\\visitors.csv\")\n",
    "except:\n",
    "    visitors = pd.read_csv(\"/datasets/visitors.csv\")\n",
    "\n",
    "visitors.head()"
   ]
  },
  {
   "cell_type": "code",
   "execution_count": 51,
   "id": "7059ea5a",
   "metadata": {},
   "outputs": [
    {
     "name": "stdout",
     "output_type": "stream",
     "text": [
      "<class 'pandas.core.frame.DataFrame'>\n",
      "RangeIndex: 62 entries, 0 to 61\n",
      "Data columns (total 3 columns):\n",
      " #   Column    Non-Null Count  Dtype \n",
      "---  ------    --------------  ----- \n",
      " 0   date      62 non-null     object\n",
      " 1   group     62 non-null     object\n",
      " 2   visitors  62 non-null     int64 \n",
      "dtypes: int64(1), object(2)\n",
      "memory usage: 1.6+ KB\n"
     ]
    }
   ],
   "source": [
    "visitors.info()"
   ]
  },
  {
   "cell_type": "code",
   "execution_count": 52,
   "id": "7247ff74",
   "metadata": {},
   "outputs": [
    {
     "name": "stdout",
     "output_type": "stream",
     "text": [
      "<class 'pandas.core.frame.DataFrame'>\n",
      "RangeIndex: 62 entries, 0 to 61\n",
      "Data columns (total 3 columns):\n",
      " #   Column    Non-Null Count  Dtype         \n",
      "---  ------    --------------  -----         \n",
      " 0   date      62 non-null     datetime64[ns]\n",
      " 1   group     62 non-null     object        \n",
      " 2   visitors  62 non-null     int64         \n",
      "dtypes: datetime64[ns](1), int64(1), object(1)\n",
      "memory usage: 1.6+ KB\n"
     ]
    }
   ],
   "source": [
    "visitors['date'] = pd.to_datetime(visitors['date'])\n",
    "\n",
    "#проверка на тип данных\n",
    "visitors.info()"
   ]
  },
  {
   "cell_type": "markdown",
   "id": "0022dd72",
   "metadata": {},
   "source": [
    "Для visitors также изменен тип данных на datetime в столбце, показывающего дату.  \n",
    "Во всех трех датасетах пропусков не обнаружено."
   ]
  },
  {
   "cell_type": "code",
   "execution_count": 53,
   "id": "f5010872",
   "metadata": {},
   "outputs": [
    {
     "name": "stdout",
     "output_type": "stream",
     "text": [
      "0\n",
      "0\n"
     ]
    }
   ],
   "source": [
    "print(orders.duplicated().sum())\n",
    "print(visitors.duplicated().sum())"
   ]
  },
  {
   "cell_type": "markdown",
   "id": "4baf5b30",
   "metadata": {},
   "source": [
    "Явных дубликатов не обнаружено, проверим, есть ли пользователи, которые попали в обе группы."
   ]
  },
  {
   "cell_type": "code",
   "execution_count": 54,
   "id": "38fe7ca5",
   "metadata": {},
   "outputs": [
    {
     "data": {
      "text/plain": [
       "group    58\n",
       "dtype: int64"
      ]
     },
     "execution_count": 54,
     "metadata": {},
     "output_type": "execute_result"
    }
   ],
   "source": [
    "orders.groupby('visitor_id').agg({'group': 'nunique'}).sort_values(by='group', ascending=False)\n",
    "orders.groupby('visitor_id').agg({'group': 'nunique'}).query('group == 2').count()"
   ]
  },
  {
   "cell_type": "markdown",
   "id": "f9446003",
   "metadata": {},
   "source": [
    "Заметим, что есть пользователи, которые попали в обе группы. Необходимо это учесть в дальнейшем. Данные изучены и подготовлены для анализа."
   ]
  },
  {
   "cell_type": "markdown",
   "id": "58873c41",
   "metadata": {},
   "source": [
    "## Шаг 2. Приоритизация гипотез."
   ]
  },
  {
   "cell_type": "markdown",
   "id": "0f60c7dc",
   "metadata": {},
   "source": [
    "**Применяем фреймворк *ICE* для приоритизации гипотез:**"
   ]
  },
  {
   "cell_type": "code",
   "execution_count": 55,
   "id": "73548bc1",
   "metadata": {},
   "outputs": [
    {
     "data": {
      "text/html": [
       "<div>\n",
       "<style scoped>\n",
       "    .dataframe tbody tr th:only-of-type {\n",
       "        vertical-align: middle;\n",
       "    }\n",
       "\n",
       "    .dataframe tbody tr th {\n",
       "        vertical-align: top;\n",
       "    }\n",
       "\n",
       "    .dataframe thead th {\n",
       "        text-align: right;\n",
       "    }\n",
       "</style>\n",
       "<table border=\"1\" class=\"dataframe\">\n",
       "  <thead>\n",
       "    <tr style=\"text-align: right;\">\n",
       "      <th></th>\n",
       "      <th>hypothesis</th>\n",
       "      <th>ICE</th>\n",
       "    </tr>\n",
       "  </thead>\n",
       "  <tbody>\n",
       "    <tr>\n",
       "      <th>8</th>\n",
       "      <td>Запустить акцию, дающую скидку на товар в день рождения</td>\n",
       "      <td>16.2</td>\n",
       "    </tr>\n",
       "    <tr>\n",
       "      <th>0</th>\n",
       "      <td>Добавить два новых канала привлечения трафика, что позволит привлекать на 30% больше пользователей</td>\n",
       "      <td>13.3</td>\n",
       "    </tr>\n",
       "    <tr>\n",
       "      <th>7</th>\n",
       "      <td>Добавить форму подписки на все основные страницы, чтобы собрать базу клиентов для email-рассылок</td>\n",
       "      <td>11.2</td>\n",
       "    </tr>\n",
       "    <tr>\n",
       "      <th>6</th>\n",
       "      <td>Показать на главной странице баннеры с актуальными акциями и распродажами, чтобы увеличить конверсию</td>\n",
       "      <td>8.0</td>\n",
       "    </tr>\n",
       "    <tr>\n",
       "      <th>2</th>\n",
       "      <td>Добавить блоки рекомендаций товаров на сайт интернет магазина, чтобы повысить конверсию и средний чек заказа</td>\n",
       "      <td>7.0</td>\n",
       "    </tr>\n",
       "    <tr>\n",
       "      <th>1</th>\n",
       "      <td>Запустить собственную службу доставки, что сократит срок доставки заказов</td>\n",
       "      <td>2.0</td>\n",
       "    </tr>\n",
       "    <tr>\n",
       "      <th>5</th>\n",
       "      <td>Добавить страницу отзывов клиентов о магазине, что позволит увеличить количество заказов</td>\n",
       "      <td>1.3</td>\n",
       "    </tr>\n",
       "    <tr>\n",
       "      <th>3</th>\n",
       "      <td>Изменить структура категорий, что увеличит конверсию, т.к. пользователи быстрее найдут нужный товар</td>\n",
       "      <td>1.1</td>\n",
       "    </tr>\n",
       "    <tr>\n",
       "      <th>4</th>\n",
       "      <td>Изменить цвет фона главной страницы, чтобы увеличить вовлеченность пользователей</td>\n",
       "      <td>1.0</td>\n",
       "    </tr>\n",
       "  </tbody>\n",
       "</table>\n",
       "</div>"
      ],
      "text/plain": [
       "                                                                                                     hypothesis  \\\n",
       "8                                                       Запустить акцию, дающую скидку на товар в день рождения   \n",
       "0            Добавить два новых канала привлечения трафика, что позволит привлекать на 30% больше пользователей   \n",
       "7              Добавить форму подписки на все основные страницы, чтобы собрать базу клиентов для email-рассылок   \n",
       "6          Показать на главной странице баннеры с актуальными акциями и распродажами, чтобы увеличить конверсию   \n",
       "2  Добавить блоки рекомендаций товаров на сайт интернет магазина, чтобы повысить конверсию и средний чек заказа   \n",
       "1                                     Запустить собственную службу доставки, что сократит срок доставки заказов   \n",
       "5                      Добавить страницу отзывов клиентов о магазине, что позволит увеличить количество заказов   \n",
       "3           Изменить структура категорий, что увеличит конверсию, т.к. пользователи быстрее найдут нужный товар   \n",
       "4                              Изменить цвет фона главной страницы, чтобы увеличить вовлеченность пользователей   \n",
       "\n",
       "    ICE  \n",
       "8  16.2  \n",
       "0  13.3  \n",
       "7  11.2  \n",
       "6   8.0  \n",
       "2   7.0  \n",
       "1   2.0  \n",
       "5   1.3  \n",
       "3   1.1  \n",
       "4   1.0  "
      ]
     },
     "metadata": {},
     "output_type": "display_data"
    }
   ],
   "source": [
    "hypothesis['ICE'] = round(hypothesis['impact'] * hypothesis['confidence'] / hypothesis['efforts'], 1)\n",
    "\n",
    "display(hypothesis[['hypothesis', 'ICE']].sort_values(by='ICE', ascending=False))"
   ]
  },
  {
   "cell_type": "markdown",
   "id": "dba66223",
   "metadata": {},
   "source": [
    "В результате приоритизации лучший результат показала гипотеза 8: *\"Запустить акцию, дающую скидку на товар в день рождения\"*. Далее идут гипотеза 0: *\"Добавить два новых канала привлечения трафика, что позволит привлекать на 30% больше пользователей\"* и гипотеза 7: *\"Добавить форму подписки на все основные страницы, чтобы собрать базу клиентов для email-рассылок\"*."
   ]
  },
  {
   "cell_type": "markdown",
   "id": "e25210ea",
   "metadata": {},
   "source": [
    "**Применяем фреймворк *RICE* для приоритизации гипотез:**"
   ]
  },
  {
   "cell_type": "code",
   "execution_count": 56,
   "id": "446a0317",
   "metadata": {},
   "outputs": [
    {
     "data": {
      "text/html": [
       "<div>\n",
       "<style scoped>\n",
       "    .dataframe tbody tr th:only-of-type {\n",
       "        vertical-align: middle;\n",
       "    }\n",
       "\n",
       "    .dataframe tbody tr th {\n",
       "        vertical-align: top;\n",
       "    }\n",
       "\n",
       "    .dataframe thead th {\n",
       "        text-align: right;\n",
       "    }\n",
       "</style>\n",
       "<table border=\"1\" class=\"dataframe\">\n",
       "  <thead>\n",
       "    <tr style=\"text-align: right;\">\n",
       "      <th></th>\n",
       "      <th>hypothesis</th>\n",
       "      <th>RICE</th>\n",
       "      <th>ICE</th>\n",
       "    </tr>\n",
       "  </thead>\n",
       "  <tbody>\n",
       "    <tr>\n",
       "      <th>7</th>\n",
       "      <td>Добавить форму подписки на все основные страницы, чтобы собрать базу клиентов для email-рассылок</td>\n",
       "      <td>112.0</td>\n",
       "      <td>11.2</td>\n",
       "    </tr>\n",
       "    <tr>\n",
       "      <th>2</th>\n",
       "      <td>Добавить блоки рекомендаций товаров на сайт интернет магазина, чтобы повысить конверсию и средний чек заказа</td>\n",
       "      <td>56.0</td>\n",
       "      <td>7.0</td>\n",
       "    </tr>\n",
       "    <tr>\n",
       "      <th>0</th>\n",
       "      <td>Добавить два новых канала привлечения трафика, что позволит привлекать на 30% больше пользователей</td>\n",
       "      <td>40.0</td>\n",
       "      <td>13.3</td>\n",
       "    </tr>\n",
       "    <tr>\n",
       "      <th>6</th>\n",
       "      <td>Показать на главной странице баннеры с актуальными акциями и распродажами, чтобы увеличить конверсию</td>\n",
       "      <td>40.0</td>\n",
       "      <td>8.0</td>\n",
       "    </tr>\n",
       "    <tr>\n",
       "      <th>8</th>\n",
       "      <td>Запустить акцию, дающую скидку на товар в день рождения</td>\n",
       "      <td>16.2</td>\n",
       "      <td>16.2</td>\n",
       "    </tr>\n",
       "    <tr>\n",
       "      <th>3</th>\n",
       "      <td>Изменить структура категорий, что увеличит конверсию, т.к. пользователи быстрее найдут нужный товар</td>\n",
       "      <td>9.0</td>\n",
       "      <td>1.1</td>\n",
       "    </tr>\n",
       "    <tr>\n",
       "      <th>1</th>\n",
       "      <td>Запустить собственную службу доставки, что сократит срок доставки заказов</td>\n",
       "      <td>4.0</td>\n",
       "      <td>2.0</td>\n",
       "    </tr>\n",
       "    <tr>\n",
       "      <th>5</th>\n",
       "      <td>Добавить страницу отзывов клиентов о магазине, что позволит увеличить количество заказов</td>\n",
       "      <td>4.0</td>\n",
       "      <td>1.3</td>\n",
       "    </tr>\n",
       "    <tr>\n",
       "      <th>4</th>\n",
       "      <td>Изменить цвет фона главной страницы, чтобы увеличить вовлеченность пользователей</td>\n",
       "      <td>3.0</td>\n",
       "      <td>1.0</td>\n",
       "    </tr>\n",
       "  </tbody>\n",
       "</table>\n",
       "</div>"
      ],
      "text/plain": [
       "                                                                                                     hypothesis  \\\n",
       "7              Добавить форму подписки на все основные страницы, чтобы собрать базу клиентов для email-рассылок   \n",
       "2  Добавить блоки рекомендаций товаров на сайт интернет магазина, чтобы повысить конверсию и средний чек заказа   \n",
       "0            Добавить два новых канала привлечения трафика, что позволит привлекать на 30% больше пользователей   \n",
       "6          Показать на главной странице баннеры с актуальными акциями и распродажами, чтобы увеличить конверсию   \n",
       "8                                                       Запустить акцию, дающую скидку на товар в день рождения   \n",
       "3           Изменить структура категорий, что увеличит конверсию, т.к. пользователи быстрее найдут нужный товар   \n",
       "1                                     Запустить собственную службу доставки, что сократит срок доставки заказов   \n",
       "5                      Добавить страницу отзывов клиентов о магазине, что позволит увеличить количество заказов   \n",
       "4                              Изменить цвет фона главной страницы, чтобы увеличить вовлеченность пользователей   \n",
       "\n",
       "    RICE   ICE  \n",
       "7  112.0  11.2  \n",
       "2   56.0   7.0  \n",
       "0   40.0  13.3  \n",
       "6   40.0   8.0  \n",
       "8   16.2  16.2  \n",
       "3    9.0   1.1  \n",
       "1    4.0   2.0  \n",
       "5    4.0   1.3  \n",
       "4    3.0   1.0  "
      ]
     },
     "metadata": {},
     "output_type": "display_data"
    }
   ],
   "source": [
    "hypothesis['RICE'] = round(hypothesis['reach'] * hypothesis['impact'] * hypothesis['confidence'] / hypothesis['efforts'], 1)\n",
    "\n",
    "display(hypothesis[['hypothesis', 'RICE', 'ICE']].sort_values(by='RICE', ascending=False))"
   ]
  },
  {
   "cell_type": "markdown",
   "id": "62a6da5f",
   "metadata": {},
   "source": [
    "Применив фреймворк RICE мы добавили в расчет новый показатель Reach (Охват). В результате наиболее привлекательной гипотезой стала №7: *\"Добавить форму подписки на все основные страницы, чтобы собрать базу клиентов для email-рассылок\"*. Логично, что охват пользователей в таком случае будет максимальным.  \n",
    "На втором месте гипотеза 2: *\"Добавить блоки рекомендаций товаров на сайт интернет магазина, чтобы повысить конверсию и средний чек заказа\"*. Rice score этой гипотезы ниже в 2 раза, чем у лидирующей 7-й гипотезы.  \n",
    "Третье место занимают гипотезы 0: *\"Добавить два новых канала привлечения трафика, что позволит привлекать на 30% больше пользователей\"* и 6: *\"Показать на главной странице баннеры с актуальными акциями и распродажами, чтобы увеличить конверсию\"*. Их RICE равны, однако первая гипотеза сильно больше повлияет на пользователей, когда вторая имеет больший охват и ее реализация потребует меньше затрат.  \n",
    "Гипотеза 8, лидирующая по показателю ICE, оказалась на 5-м месте, т.к. ее охват минимален.  "
   ]
  },
  {
   "cell_type": "markdown",
   "id": "b72ff7f0",
   "metadata": {},
   "source": [
    "Хотелось бы заметить, что набор гипотез, находящихся в первой пятерке по ICE, остался тот же, но изменились их места приоритета. При этом эти гипотезы лидируют по Сonfidence (оценены на 7-9), т.е. мы уверены в этих гипотезах, что их изменения повлияют на пользователей именно так, как задумано."
   ]
  },
  {
   "cell_type": "markdown",
   "id": "2ff1e120",
   "metadata": {},
   "source": [
    "## Шаг 3. Анализ A/B-теста."
   ]
  },
  {
   "cell_type": "code",
   "execution_count": 57,
   "id": "4e316851",
   "metadata": {},
   "outputs": [
    {
     "data": {
      "text/html": [
       "<div>\n",
       "<style scoped>\n",
       "    .dataframe tbody tr th:only-of-type {\n",
       "        vertical-align: middle;\n",
       "    }\n",
       "\n",
       "    .dataframe tbody tr th {\n",
       "        vertical-align: top;\n",
       "    }\n",
       "\n",
       "    .dataframe thead th {\n",
       "        text-align: right;\n",
       "    }\n",
       "</style>\n",
       "<table border=\"1\" class=\"dataframe\">\n",
       "  <thead>\n",
       "    <tr style=\"text-align: right;\">\n",
       "      <th></th>\n",
       "      <th>transaction_id</th>\n",
       "      <th>visitor_id</th>\n",
       "      <th>date</th>\n",
       "      <th>revenue</th>\n",
       "      <th>group</th>\n",
       "    </tr>\n",
       "  </thead>\n",
       "  <tbody>\n",
       "    <tr>\n",
       "      <th>0</th>\n",
       "      <td>3667963787</td>\n",
       "      <td>3312258926</td>\n",
       "      <td>2019-08-15</td>\n",
       "      <td>1650</td>\n",
       "      <td>B</td>\n",
       "    </tr>\n",
       "    <tr>\n",
       "      <th>1</th>\n",
       "      <td>2804400009</td>\n",
       "      <td>3642806036</td>\n",
       "      <td>2019-08-15</td>\n",
       "      <td>730</td>\n",
       "      <td>B</td>\n",
       "    </tr>\n",
       "    <tr>\n",
       "      <th>2</th>\n",
       "      <td>2961555356</td>\n",
       "      <td>4069496402</td>\n",
       "      <td>2019-08-15</td>\n",
       "      <td>400</td>\n",
       "      <td>A</td>\n",
       "    </tr>\n",
       "    <tr>\n",
       "      <th>3</th>\n",
       "      <td>3797467345</td>\n",
       "      <td>1196621759</td>\n",
       "      <td>2019-08-15</td>\n",
       "      <td>9759</td>\n",
       "      <td>B</td>\n",
       "    </tr>\n",
       "    <tr>\n",
       "      <th>4</th>\n",
       "      <td>2282983706</td>\n",
       "      <td>2322279887</td>\n",
       "      <td>2019-08-15</td>\n",
       "      <td>2308</td>\n",
       "      <td>B</td>\n",
       "    </tr>\n",
       "  </tbody>\n",
       "</table>\n",
       "</div>"
      ],
      "text/plain": [
       "   transaction_id  visitor_id       date  revenue group\n",
       "0      3667963787  3312258926 2019-08-15     1650     B\n",
       "1      2804400009  3642806036 2019-08-15      730     B\n",
       "2      2961555356  4069496402 2019-08-15      400     A\n",
       "3      3797467345  1196621759 2019-08-15     9759     B\n",
       "4      2282983706  2322279887 2019-08-15     2308     B"
      ]
     },
     "execution_count": 57,
     "metadata": {},
     "output_type": "execute_result"
    }
   ],
   "source": [
    "orders.head()"
   ]
  },
  {
   "cell_type": "code",
   "execution_count": 58,
   "id": "6f730e01",
   "metadata": {},
   "outputs": [
    {
     "data": {
      "text/html": [
       "<div>\n",
       "<style scoped>\n",
       "    .dataframe tbody tr th:only-of-type {\n",
       "        vertical-align: middle;\n",
       "    }\n",
       "\n",
       "    .dataframe tbody tr th {\n",
       "        vertical-align: top;\n",
       "    }\n",
       "\n",
       "    .dataframe thead th {\n",
       "        text-align: right;\n",
       "    }\n",
       "</style>\n",
       "<table border=\"1\" class=\"dataframe\">\n",
       "  <thead>\n",
       "    <tr style=\"text-align: right;\">\n",
       "      <th></th>\n",
       "      <th>date</th>\n",
       "      <th>group</th>\n",
       "      <th>visitors</th>\n",
       "    </tr>\n",
       "  </thead>\n",
       "  <tbody>\n",
       "    <tr>\n",
       "      <th>0</th>\n",
       "      <td>2019-08-01</td>\n",
       "      <td>A</td>\n",
       "      <td>719</td>\n",
       "    </tr>\n",
       "    <tr>\n",
       "      <th>1</th>\n",
       "      <td>2019-08-02</td>\n",
       "      <td>A</td>\n",
       "      <td>619</td>\n",
       "    </tr>\n",
       "    <tr>\n",
       "      <th>2</th>\n",
       "      <td>2019-08-03</td>\n",
       "      <td>A</td>\n",
       "      <td>507</td>\n",
       "    </tr>\n",
       "    <tr>\n",
       "      <th>3</th>\n",
       "      <td>2019-08-04</td>\n",
       "      <td>A</td>\n",
       "      <td>717</td>\n",
       "    </tr>\n",
       "    <tr>\n",
       "      <th>4</th>\n",
       "      <td>2019-08-05</td>\n",
       "      <td>A</td>\n",
       "      <td>756</td>\n",
       "    </tr>\n",
       "  </tbody>\n",
       "</table>\n",
       "</div>"
      ],
      "text/plain": [
       "        date group  visitors\n",
       "0 2019-08-01     A       719\n",
       "1 2019-08-02     A       619\n",
       "2 2019-08-03     A       507\n",
       "3 2019-08-04     A       717\n",
       "4 2019-08-05     A       756"
      ]
     },
     "execution_count": 58,
     "metadata": {},
     "output_type": "execute_result"
    }
   ],
   "source": [
    "visitors.head()"
   ]
  },
  {
   "cell_type": "markdown",
   "id": "0ab00af0",
   "metadata": {},
   "source": [
    "Проверим, могли ли в данных оказаться пользователи, попавшие в обе группы теста."
   ]
  },
  {
   "cell_type": "code",
   "execution_count": 59,
   "id": "45b530c9",
   "metadata": {},
   "outputs": [
    {
     "name": "stdout",
     "output_type": "stream",
     "text": [
      "Кол-во пользователей, попавших в обе группы теста: 58\n",
      "Кол-во пользователей, попавших в обе группы теста после чистки: 0\n",
      "<class 'pandas.core.frame.DataFrame'>\n",
      "Int64Index: 1016 entries, 0 to 1196\n",
      "Data columns (total 5 columns):\n",
      " #   Column          Non-Null Count  Dtype         \n",
      "---  ------          --------------  -----         \n",
      " 0   transaction_id  1016 non-null   int64         \n",
      " 1   visitor_id      1016 non-null   int64         \n",
      " 2   date            1016 non-null   datetime64[ns]\n",
      " 3   revenue         1016 non-null   int64         \n",
      " 4   group           1016 non-null   object        \n",
      "dtypes: datetime64[ns](1), int64(3), object(1)\n",
      "memory usage: 47.6+ KB\n"
     ]
    }
   ],
   "source": [
    "wrong_users = orders.groupby('visitor_id').agg({'group': 'nunique'}).query('group == 2')\n",
    "print('Кол-во пользователей, попавших в обе группы теста:', wrong_users['group'].count())\n",
    "\n",
    "# оставляем только \"корректных\" пользователей\n",
    "orders = orders.query('~visitor_id.isin(@wrong_users.index)')\n",
    "\n",
    "# проверка\n",
    "print('Кол-во пользователей, попавших в обе группы теста после чистки:', \n",
    "      orders.groupby('visitor_id').agg({'group': 'nunique'}).query('group == 2')['group'].count()\n",
    "     )\n",
    "\n",
    "orders.info()"
   ]
  },
  {
   "cell_type": "markdown",
   "id": "80a939c3",
   "metadata": {},
   "source": [
    "Целых 58 пользователей попало в обе группы теста, учитывать их было бы некорректно для чистоты эксперимента. После чистки данных, удалилась 181 строка из orders."
   ]
  },
  {
   "cell_type": "markdown",
   "id": "20aab9de",
   "metadata": {},
   "source": [
    "**Построим график кумулятивной выручки по группам:**"
   ]
  },
  {
   "cell_type": "code",
   "execution_count": 60,
   "id": "b78e113d",
   "metadata": {},
   "outputs": [
    {
     "data": {
      "text/plain": [
       "<matplotlib.legend.Legend at 0x7f9f87b50fd0>"
      ]
     },
     "execution_count": 60,
     "metadata": {},
     "output_type": "execute_result"
    },
    {
     "data": {
      "image/png": "[encoded data removed]",
      "text/plain": [
       "<Figure size 864x432 with 1 Axes>"
      ]
     },
     "metadata": {
      "needs_background": "light"
     },
     "output_type": "display_data"
    }
   ],
   "source": [
    "# создаем массив уникальных пар значений дат и групп теста\n",
    "dates_groups = orders[['date', 'group']].drop_duplicates()\n",
    "\n",
    "# агрегированные кумулятивные по дням данные о заказах\n",
    "orders_aggregated = dates_groups.apply(\n",
    "    lambda x: orders[\n",
    "        np.logical_and(\n",
    "            orders['date'] <= x['date'], orders['group'] == x['group']\n",
    "        )\n",
    "    ].agg(\n",
    "        {\n",
    "            'date': 'max',\n",
    "            'group': 'max',\n",
    "            'transaction_id': 'nunique',\n",
    "            'visitor_id': 'nunique',\n",
    "            'revenue': 'sum',\n",
    "        }\n",
    "    ),\n",
    "    axis=1,\n",
    ").sort_values(by=['date', 'group'])\n",
    "\n",
    "# аналогично для посетителей\n",
    "visitors_aggregated = dates_groups.apply(\n",
    "    lambda x: visitors[\n",
    "        np.logical_and(\n",
    "            visitors['date'] <= x['date'], visitors['group'] == x['group']\n",
    "        )\n",
    "    ].agg({'date': 'max', 'group': 'max', 'visitors': 'sum'}),\n",
    "    axis=1,\n",
    ").sort_values(by=['date', 'group'])\n",
    "\n",
    "# объединяем кумулятивные данные в одной таблице\n",
    "cumulative_data = orders_aggregated.merge(\n",
    "    visitors_aggregated, left_on=['date', 'group'], right_on=['date', 'group']\n",
    ")\n",
    "\n",
    "# переименовывем столбцы\n",
    "cumulative_data.columns = [\n",
    "    'date',\n",
    "    'group',\n",
    "    'orders',\n",
    "    'buyers',\n",
    "    'revenue',\n",
    "    'visitors',\n",
    "]\n",
    "\n",
    "# датафрейм с кумулятивным количеством заказов и кумулятивной выручкой по дням в группе А\n",
    "cumulative_revenue_A = cumulative_data[cumulative_data['group'] == 'A'][['date','revenue', 'orders']]\n",
    "\n",
    "# датафрейм с кумулятивным количеством заказов и кумулятивной выручкой по дням в группе B\n",
    "cumulative_revenue_B = cumulative_data[cumulative_data['group'] == 'B'][['date','revenue', 'orders']]\n",
    "\n",
    "# графики\n",
    "plt.figure(figsize=(12, 6))\n",
    "\n",
    "plt.plot(cumulative_revenue_A['date'], cumulative_revenue_A['revenue'], label='A')\n",
    "plt.plot(cumulative_revenue_B['date'], cumulative_revenue_B['revenue'], label='B')\n",
    "\n",
    "plt.title('График кумулятивной выручки по группам')\n",
    "plt.xlabel('Дата')\n",
    "plt.ylabel('Кумулятивная выручка')\n",
    "plt.xticks(rotation=25)\n",
    "plt.legend()"
   ]
  },
  {
   "cell_type": "markdown",
   "id": "4d3fa5f6",
   "metadata": {},
   "source": [
    "Практически с самого начала теста, группа B лидирует по кумулятивной выручке. Однако, мы можем заметить, что после середины теста, график резко пошел вверх. Возможно, это связано с выбросами, с заказами, которые имеют высокую стоимость, а судя по графику очень высокую стоимость. Видимо, они и повлияли на результаты, в дальнейшем, необходимо проверить такие аномалии."
   ]
  },
  {
   "cell_type": "markdown",
   "id": "ea20e1e2",
   "metadata": {},
   "source": [
    "**Построим график кумулятивного среднего чека по группам:**"
   ]
  },
  {
   "cell_type": "code",
   "execution_count": 61,
   "id": "3c1dba4e",
   "metadata": {},
   "outputs": [
    {
     "data": {
      "text/plain": [
       "<matplotlib.legend.Legend at 0x7f9f87b0e6d0>"
      ]
     },
     "execution_count": 61,
     "metadata": {},
     "output_type": "execute_result"
    },
    {
     "data": {
      "image/png": "[encoded data removed]",
      "text/plain": [
       "<Figure size 864x432 with 1 Axes>"
      ]
     },
     "metadata": {
      "needs_background": "light"
     },
     "output_type": "display_data"
    }
   ],
   "source": [
    "plt.figure(figsize=(12, 6))\n",
    "\n",
    "plt.plot(cumulative_revenue_A['date'], cumulative_revenue_A['revenue']/cumulative_revenue_A['orders'], label='A')\n",
    "\n",
    "plt.plot(cumulative_revenue_B['date'], cumulative_revenue_B['revenue']/cumulative_revenue_B['orders'], label='B')\n",
    "\n",
    "plt.title('График кумулятивного среднего чека по группам')\n",
    "plt.xlabel('Дата')\n",
    "plt.ylabel('Кумулятивный средний чек')\n",
    "plt.xticks(rotation=25)\n",
    "plt.legend() "
   ]
  },
  {
   "cell_type": "markdown",
   "id": "ffa4acc3",
   "metadata": {},
   "source": [
    "После середины периода имеется резкое увеличение среднего чека для группы B. Это также подтверждает версию о том, что в данные попали аномалии, искажающие данные.  \n",
    "При этом можно сказать, что группа A стабилизировалась по среднему чеку на 7000-х и перестала сильно колебаться, как в начале теста.  \n",
    "Согласно графика, в группе B идет падение среднего чека, но этому предшествовал резкий скачок вверх. Т.е. допустим, если один заказ с высокой стоимостью повысил средний чек, то остальные заказы, имеющие стоимость ниже, будут понижать средний чек, т.к. не достают до \"планки\", установленной каким-либо выбросом. Поэтому тяжело сейчас сказать, стабилизировался ли график среднего чека в группе B."
   ]
  },
  {
   "cell_type": "markdown",
   "id": "1a5b4368",
   "metadata": {},
   "source": [
    "**Построим график относительного изменения кумулятивного среднего чека:**"
   ]
  },
  {
   "cell_type": "code",
   "execution_count": 62,
   "id": "f80b6046",
   "metadata": {},
   "outputs": [
    {
     "data": {
      "text/plain": [
       "<matplotlib.lines.Line2D at 0x7f9f9362f190>"
      ]
     },
     "execution_count": 62,
     "metadata": {},
     "output_type": "execute_result"
    },
    {
     "data": {
      "image/png": "[encoded data removed]",
      "text/plain": [
       "<Figure size 864x432 with 1 Axes>"
      ]
     },
     "metadata": {
      "needs_background": "light"
     },
     "output_type": "display_data"
    }
   ],
   "source": [
    "merged_cumulative_revenue = cumulative_revenue_A.merge(cumulative_revenue_B, left_on='date', right_on='date', \n",
    "                                                   how='left', suffixes=['A', 'B'])\n",
    "\n",
    "plt.figure(figsize=(12, 6))\n",
    "\n",
    "plt.plot(merged_cumulative_revenue['date'], (merged_cumulative_revenue['revenueB'] / merged_cumulative_revenue['ordersB']) / \n",
    "         (merged_cumulative_revenue['revenueA'] / merged_cumulative_revenue['ordersA']) - 1\n",
    "        )\n",
    "\n",
    "plt.title('График относительного изменения кумулятивного среднего чека')\n",
    "plt.xlabel('Дата')\n",
    "plt.ylabel('Относительное изменение')\n",
    "plt.xticks(rotation=25)\n",
    "plt.axhline(y=0, color='black', linestyle='--') "
   ]
  },
  {
   "cell_type": "markdown",
   "id": "cf7fac86",
   "metadata": {},
   "source": [
    "Опять же, график можно разделить на 2 части, первая левая, это начало теста, где данные еще колеблются и средний чек преобладает то у одной группы, то у другой. Правая часть характеризуется резким скачком группы B и последующим доминированием над группой A."
   ]
  },
  {
   "cell_type": "markdown",
   "id": "759a45f7",
   "metadata": {},
   "source": [
    "**Построим график кумулятивного среднего количества заказов на посетителя по группам:**"
   ]
  },
  {
   "cell_type": "code",
   "execution_count": 63,
   "id": "012cd7cb",
   "metadata": {},
   "outputs": [
    {
     "data": {
      "text/plain": [
       "(18109.0, 18140.0, 0.0, 0.05)"
      ]
     },
     "execution_count": 63,
     "metadata": {},
     "output_type": "execute_result"
    },
    {
     "data": {
      "image/png": "[encoded data removed]",
      "text/plain": [
       "<Figure size 864x432 with 1 Axes>"
      ]
     },
     "metadata": {
      "needs_background": "light"
     },
     "output_type": "display_data"
    }
   ],
   "source": [
    "# считаем кумулятивную конверсию\n",
    "cumulative_data['conversion'] = cumulative_data['orders'] / cumulative_data['visitors']\n",
    "\n",
    "# отделяем данные по группе A\n",
    "cumulative_data_A = cumulative_data[cumulative_data['group']=='A']\n",
    "\n",
    "# отделяем данные по группе B\n",
    "cumulative_data_B = cumulative_data[cumulative_data['group']=='B']\n",
    "\n",
    "# графики\n",
    "plt.figure(figsize=(12, 6))\n",
    "\n",
    "plt.plot(cumulative_data_A['date'], cumulative_data_A['conversion'], label='A')\n",
    "\n",
    "plt.plot(cumulative_data_B['date'], cumulative_data_B['conversion'], label='B')\n",
    "\n",
    "plt.title('График кумулятивного среднего количества заказов на посетителя по группам')\n",
    "plt.xlabel('Дата')\n",
    "plt.ylabel('Кумулятивное среднее кол-во заказов на польз-ля')\n",
    "plt.xticks(rotation=25)\n",
    "plt.legend()\n",
    "\n",
    "# задаем масштаб осей\n",
    "plt.axis([dt.datetime(2019, 8, 1), dt.datetime(2019, 9, 1), 0, 0.05])"
   ]
  },
  {
   "cell_type": "markdown",
   "id": "f1fcfe62",
   "metadata": {},
   "source": [
    "Сначала группа A имела большее среднее кол-во заказов на пользователя, чем группа B. Однако, затем значения установились, у группы B около 0.03, у группы A около 0.025."
   ]
  },
  {
   "cell_type": "markdown",
   "id": "a8c10975",
   "metadata": {},
   "source": [
    "**Построим график относительного изменения кумулятивного среднего количества заказов на посетителя группы B к группе A:**"
   ]
  },
  {
   "cell_type": "code",
   "execution_count": 64,
   "id": "3c8a43cc",
   "metadata": {},
   "outputs": [
    {
     "data": {
      "text/plain": [
       "(18109.0, 18140.0, -0.5, 0.5)"
      ]
     },
     "execution_count": 64,
     "metadata": {},
     "output_type": "execute_result"
    },
    {
     "data": {
      "image/png": "[encoded data removed]",
      "text/plain": [
       "<Figure size 864x432 with 1 Axes>"
      ]
     },
     "metadata": {
      "needs_background": "light"
     },
     "output_type": "display_data"
    }
   ],
   "source": [
    "merged_cumulative_conversions = cumulative_data_A[['date','conversion']].merge(\n",
    "    cumulative_data_B[['date','conversion']], left_on='date', right_on='date', how='left', suffixes=['A', 'B'])\n",
    "\n",
    "plt.figure(figsize=(12, 6))\n",
    "\n",
    "plt.plot(merged_cumulative_conversions['date'], \n",
    "         merged_cumulative_conversions['conversionB'] / merged_cumulative_conversions['conversionA'] - 1\n",
    "        )\n",
    "\n",
    "plt.title('График относительного изменения кумулятивного среднего количества заказов на посетителя группы B к группе A')\n",
    "plt.xlabel('Дата')\n",
    "plt.ylabel('Относительное изменение')\n",
    "plt.xticks(rotation=25)\n",
    "\n",
    "plt.axhline(y=0, color='black', linestyle='--')\n",
    "\n",
    "plt.axhline(y=0.2, color='grey', linestyle='--')\n",
    "\n",
    "plt.axis([dt.datetime(2019, 8, 1), dt.datetime(2019, 9, 1), -0.5, 0.5])"
   ]
  },
  {
   "cell_type": "markdown",
   "id": "559846af",
   "metadata": {},
   "source": [
    "Можно наблюдать, что ближе к середине теста график устанавливается, а относительный прирост группы B к группе A равен 10-20%. Редкие выбросы со сверхвысокой стоимостью практически не влияют на показатель среднего кол-ва заказов на польз-ля, однако необходимо проверить, возможно, есть клиенты, оформившие большое количество заказов и их поведение отличается от нормального среднестатистического."
   ]
  },
  {
   "cell_type": "markdown",
   "id": "31acad39",
   "metadata": {},
   "source": [
    "**Построим точечный график количества заказов по пользователям:**"
   ]
  },
  {
   "cell_type": "code",
   "execution_count": 65,
   "id": "efa12939",
   "metadata": {},
   "outputs": [
    {
     "data": {
      "text/html": [
       "<div>\n",
       "<style scoped>\n",
       "    .dataframe tbody tr th:only-of-type {\n",
       "        vertical-align: middle;\n",
       "    }\n",
       "\n",
       "    .dataframe tbody tr th {\n",
       "        vertical-align: top;\n",
       "    }\n",
       "\n",
       "    .dataframe thead th {\n",
       "        text-align: right;\n",
       "    }\n",
       "</style>\n",
       "<table border=\"1\" class=\"dataframe\">\n",
       "  <thead>\n",
       "    <tr style=\"text-align: right;\">\n",
       "      <th></th>\n",
       "      <th>user_id</th>\n",
       "      <th>orders</th>\n",
       "    </tr>\n",
       "  </thead>\n",
       "  <tbody>\n",
       "    <tr>\n",
       "      <th>908</th>\n",
       "      <td>3967698036</td>\n",
       "      <td>3</td>\n",
       "    </tr>\n",
       "    <tr>\n",
       "      <th>55</th>\n",
       "      <td>249864742</td>\n",
       "      <td>3</td>\n",
       "    </tr>\n",
       "    <tr>\n",
       "      <th>478</th>\n",
       "      <td>2108163459</td>\n",
       "      <td>3</td>\n",
       "    </tr>\n",
       "    <tr>\n",
       "      <th>687</th>\n",
       "      <td>2988190573</td>\n",
       "      <td>3</td>\n",
       "    </tr>\n",
       "    <tr>\n",
       "      <th>890</th>\n",
       "      <td>3908431265</td>\n",
       "      <td>3</td>\n",
       "    </tr>\n",
       "    <tr>\n",
       "      <th>...</th>\n",
       "      <td>...</td>\n",
       "      <td>...</td>\n",
       "    </tr>\n",
       "    <tr>\n",
       "      <th>331</th>\n",
       "      <td>1438226485</td>\n",
       "      <td>1</td>\n",
       "    </tr>\n",
       "    <tr>\n",
       "      <th>332</th>\n",
       "      <td>1452540367</td>\n",
       "      <td>1</td>\n",
       "    </tr>\n",
       "    <tr>\n",
       "      <th>333</th>\n",
       "      <td>1455323168</td>\n",
       "      <td>1</td>\n",
       "    </tr>\n",
       "    <tr>\n",
       "      <th>334</th>\n",
       "      <td>1455861274</td>\n",
       "      <td>1</td>\n",
       "    </tr>\n",
       "    <tr>\n",
       "      <th>972</th>\n",
       "      <td>4283872382</td>\n",
       "      <td>1</td>\n",
       "    </tr>\n",
       "  </tbody>\n",
       "</table>\n",
       "<p>973 rows × 2 columns</p>\n",
       "</div>"
      ],
      "text/plain": [
       "        user_id  orders\n",
       "908  3967698036       3\n",
       "55    249864742       3\n",
       "478  2108163459       3\n",
       "687  2988190573       3\n",
       "890  3908431265       3\n",
       "..          ...     ...\n",
       "331  1438226485       1\n",
       "332  1452540367       1\n",
       "333  1455323168       1\n",
       "334  1455861274       1\n",
       "972  4283872382       1\n",
       "\n",
       "[973 rows x 2 columns]"
      ]
     },
     "execution_count": 65,
     "metadata": {},
     "output_type": "execute_result"
    }
   ],
   "source": [
    "orders_by_users = orders.groupby('visitor_id', as_index=False).agg({'transaction_id': 'nunique'})\n",
    "\n",
    "orders_by_users.columns = ['user_id', 'orders']\n",
    "\n",
    "orders_by_users.sort_values(by='orders', ascending=False)"
   ]
  },
  {
   "cell_type": "markdown",
   "id": "a6b17418",
   "metadata": {},
   "source": [
    "Максимально большое количество заказов, который делал пользователь - это 3. Это совсем немного, при том, что мы имеем данные за месяц. Посмотрим далее, насколько часто пользователи делают 3 заказа."
   ]
  },
  {
   "cell_type": "code",
   "execution_count": 66,
   "id": "042ee226",
   "metadata": {},
   "outputs": [
    {
     "data": {
      "text/plain": [
       "Text(0, 0.5, 'Кол-во заказов')"
      ]
     },
     "execution_count": 66,
     "metadata": {},
     "output_type": "execute_result"
    },
    {
     "data": {
      "image/png": "[encoded data removed]",
      "text/plain": [
       "<Figure size 432x288 with 1 Axes>"
      ]
     },
     "metadata": {
      "needs_background": "light"
     },
     "output_type": "display_data"
    }
   ],
   "source": [
    "x_values = pd.Series(range(0, len(orders_by_users)))\n",
    "\n",
    "plt.scatter(x_values, orders_by_users['orders'])\n",
    "\n",
    "plt.title('Точечный график количества заказов по пользователям')\n",
    "plt.xlabel('Пользователи')\n",
    "plt.ylabel('Кол-во заказов')"
   ]
  },
  {
   "cell_type": "markdown",
   "id": "82ad1d8f",
   "metadata": {},
   "source": [
    "Всего 7 человек из почти 1000 пользователей делали по 3 заказа, немного больше клиентов по 2 заказа. Возможно, 3 заказа - это действительно аномально. Посчитаем перцентили для дальнейших выводов."
   ]
  },
  {
   "cell_type": "markdown",
   "id": "1e30646a",
   "metadata": {},
   "source": [
    "**Посчитаем 95-й и 99-й перцентили количества заказов на пользователя:**"
   ]
  },
  {
   "cell_type": "code",
   "execution_count": 26,
   "id": "8eb6b849",
   "metadata": {},
   "outputs": [
    {
     "data": {
      "text/plain": [
       "array([1., 2.])"
      ]
     },
     "execution_count": 26,
     "metadata": {},
     "output_type": "execute_result"
    }
   ],
   "source": [
    "np.percentile(orders_by_users['orders'], [95, 99])"
   ]
  },
  {
   "cell_type": "markdown",
   "id": "48b793b4",
   "metadata": {},
   "source": [
    "Не более 5% пользователей делали более 1 заказа, не более 1% оформляли больше 2-х. Думаю, что будет разумно отсеять пользователей с 3-мя заказами, или 1% от всех пользователей."
   ]
  },
  {
   "cell_type": "markdown",
   "id": "93f6a886",
   "metadata": {},
   "source": [
    "**Построим точечный график стоимостей заказов:**"
   ]
  },
  {
   "cell_type": "code",
   "execution_count": 67,
   "id": "dfeb7ec8",
   "metadata": {},
   "outputs": [
    {
     "data": {
      "text/plain": [
       "Text(0, 0.5, 'Стоимость заказа')"
      ]
     },
     "execution_count": 67,
     "metadata": {},
     "output_type": "execute_result"
    },
    {
     "data": {
      "image/png": "[encoded data removed]",
      "text/plain": [
       "<Figure size 432x288 with 1 Axes>"
      ]
     },
     "metadata": {
      "needs_background": "light"
     },
     "output_type": "display_data"
    }
   ],
   "source": [
    "x_values = pd.Series(range(0, len(orders['revenue'])))\n",
    "\n",
    "plt.scatter(x_values, orders['revenue'])\n",
    "\n",
    "plt.title('Точечный график стоимостей заказов')\n",
    "plt.xlabel('Пользователи')\n",
    "plt.ylabel('Стоимость заказа')"
   ]
  },
  {
   "cell_type": "markdown",
   "id": "bbd289e5",
   "metadata": {},
   "source": [
    "Кажется, мы нашли тот самый выброс, из-за которого сильно увеличились показатели кумулятивных выручки и среднего чека в группе B. Этот заказ со стоимостью более 1.2 млн, есть еще выброс на 200 тыс., но сейчас по точечному графику не видно, что происходит с остальными заказами со стоимостью менее 100 тыс. Рассмотрим их распределение более детально."
   ]
  },
  {
   "cell_type": "code",
   "execution_count": 68,
   "id": "06797706",
   "metadata": {},
   "outputs": [
    {
     "data": {
      "text/plain": [
       "Text(0, 0.5, 'Стоимость заказа')"
      ]
     },
     "execution_count": 68,
     "metadata": {},
     "output_type": "execute_result"
    },
    {
     "data": {
      "image/png": "[encoded data removed]",
      "text/plain": [
       "<Figure size 432x288 with 1 Axes>"
      ]
     },
     "metadata": {
      "needs_background": "light"
     },
     "output_type": "display_data"
    }
   ],
   "source": [
    "# ограничим ось Y, рассмотрим стоимости менее 200 тыс.\n",
    "x_values = pd.Series(range(0, len(orders['revenue']) - 2))\n",
    "\n",
    "plt.scatter(x_values, orders[orders['revenue'] < 200000]['revenue'])\n",
    "\n",
    "plt.title('Детальный точечный график стоимостей заказов')\n",
    "plt.xlabel('Пользователи')\n",
    "plt.ylabel('Стоимость заказа')"
   ]
  },
  {
   "cell_type": "markdown",
   "id": "1df98845",
   "metadata": {},
   "source": [
    "На детальном графике мы видим, что тут также присутствуют выбросы, пусть и не так сильно выделяющиеся. Необходим расчет перцентилей."
   ]
  },
  {
   "cell_type": "markdown",
   "id": "a4422ec9",
   "metadata": {},
   "source": [
    "**Посчитаем 95-й и 99-й перцентили стоимости заказов:**"
   ]
  },
  {
   "cell_type": "code",
   "execution_count": 29,
   "id": "89be503c",
   "metadata": {},
   "outputs": [
    {
     "data": {
      "text/plain": [
       "array([26785., 53904.])"
      ]
     },
     "execution_count": 29,
     "metadata": {},
     "output_type": "execute_result"
    }
   ],
   "source": [
    "np.percentile(orders['revenue'], [95, 99])"
   ]
  },
  {
   "cell_type": "markdown",
   "id": "b8019742",
   "metadata": {},
   "source": [
    "Не более 1% пользователей оформляло заказы свыше 53904, и не более 5% - стоимостью более 26785. Полагаю, что оптимальным решением будет определить границу аномальных заказов равную 30 тыс. Таким образом мы удалим менее 5% пользователей со сверхвысокими стоимостями заказов."
   ]
  },
  {
   "cell_type": "markdown",
   "id": "fa3967f0",
   "metadata": {},
   "source": [
    "**Посчитаем статистическую значимость различий в среднем количестве заказов на посетителя между группами по «сырым» данным:**"
   ]
  },
  {
   "cell_type": "code",
   "execution_count": 30,
   "id": "b72eec02",
   "metadata": {},
   "outputs": [
    {
     "data": {
      "text/html": [
       "<div>\n",
       "<style scoped>\n",
       "    .dataframe tbody tr th:only-of-type {\n",
       "        vertical-align: middle;\n",
       "    }\n",
       "\n",
       "    .dataframe tbody tr th {\n",
       "        vertical-align: top;\n",
       "    }\n",
       "\n",
       "    .dataframe thead th {\n",
       "        text-align: right;\n",
       "    }\n",
       "</style>\n",
       "<table border=\"1\" class=\"dataframe\">\n",
       "  <thead>\n",
       "    <tr style=\"text-align: right;\">\n",
       "      <th></th>\n",
       "      <th>date</th>\n",
       "      <th>orders_per_date_A</th>\n",
       "      <th>revenue_per_date_A</th>\n",
       "      <th>orders_per_date_B</th>\n",
       "      <th>revenue_per_date_B</th>\n",
       "      <th>orders_cummulative_A</th>\n",
       "      <th>revenue_cummulative_A</th>\n",
       "      <th>orders_cummulative_B</th>\n",
       "      <th>revenue_cummulative_B</th>\n",
       "      <th>visitors_per_date_A</th>\n",
       "      <th>visitors_per_date_B</th>\n",
       "      <th>visitors_cummulative_A</th>\n",
       "      <th>visitors_cummulative_B</th>\n",
       "    </tr>\n",
       "  </thead>\n",
       "  <tbody>\n",
       "    <tr>\n",
       "      <th>0</th>\n",
       "      <td>2019-08-01</td>\n",
       "      <td>23</td>\n",
       "      <td>142779</td>\n",
       "      <td>17</td>\n",
       "      <td>59758</td>\n",
       "      <td>23</td>\n",
       "      <td>142779</td>\n",
       "      <td>17</td>\n",
       "      <td>59758</td>\n",
       "      <td>719</td>\n",
       "      <td>713</td>\n",
       "      <td>719</td>\n",
       "      <td>713</td>\n",
       "    </tr>\n",
       "    <tr>\n",
       "      <th>1</th>\n",
       "      <td>2019-08-02</td>\n",
       "      <td>19</td>\n",
       "      <td>91602</td>\n",
       "      <td>23</td>\n",
       "      <td>162043</td>\n",
       "      <td>42</td>\n",
       "      <td>234381</td>\n",
       "      <td>40</td>\n",
       "      <td>221801</td>\n",
       "      <td>619</td>\n",
       "      <td>581</td>\n",
       "      <td>1338</td>\n",
       "      <td>1294</td>\n",
       "    </tr>\n",
       "    <tr>\n",
       "      <th>2</th>\n",
       "      <td>2019-08-03</td>\n",
       "      <td>24</td>\n",
       "      <td>112473</td>\n",
       "      <td>14</td>\n",
       "      <td>67049</td>\n",
       "      <td>66</td>\n",
       "      <td>346854</td>\n",
       "      <td>54</td>\n",
       "      <td>288850</td>\n",
       "      <td>507</td>\n",
       "      <td>509</td>\n",
       "      <td>1845</td>\n",
       "      <td>1803</td>\n",
       "    </tr>\n",
       "    <tr>\n",
       "      <th>3</th>\n",
       "      <td>2019-08-04</td>\n",
       "      <td>11</td>\n",
       "      <td>41176</td>\n",
       "      <td>14</td>\n",
       "      <td>96890</td>\n",
       "      <td>77</td>\n",
       "      <td>388030</td>\n",
       "      <td>68</td>\n",
       "      <td>385740</td>\n",
       "      <td>717</td>\n",
       "      <td>770</td>\n",
       "      <td>2562</td>\n",
       "      <td>2573</td>\n",
       "    </tr>\n",
       "    <tr>\n",
       "      <th>4</th>\n",
       "      <td>2019-08-05</td>\n",
       "      <td>22</td>\n",
       "      <td>86383</td>\n",
       "      <td>21</td>\n",
       "      <td>89908</td>\n",
       "      <td>99</td>\n",
       "      <td>474413</td>\n",
       "      <td>89</td>\n",
       "      <td>475648</td>\n",
       "      <td>756</td>\n",
       "      <td>707</td>\n",
       "      <td>3318</td>\n",
       "      <td>3280</td>\n",
       "    </tr>\n",
       "  </tbody>\n",
       "</table>\n",
       "</div>"
      ],
      "text/plain": [
       "        date  orders_per_date_A  revenue_per_date_A  orders_per_date_B  \\\n",
       "0 2019-08-01                 23              142779                 17   \n",
       "1 2019-08-02                 19               91602                 23   \n",
       "2 2019-08-03                 24              112473                 14   \n",
       "3 2019-08-04                 11               41176                 14   \n",
       "4 2019-08-05                 22               86383                 21   \n",
       "\n",
       "   revenue_per_date_B  orders_cummulative_A  revenue_cummulative_A  \\\n",
       "0               59758                    23                 142779   \n",
       "1              162043                    42                 234381   \n",
       "2               67049                    66                 346854   \n",
       "3               96890                    77                 388030   \n",
       "4               89908                    99                 474413   \n",
       "\n",
       "   orders_cummulative_B  revenue_cummulative_B  visitors_per_date_A  \\\n",
       "0                    17                  59758                  719   \n",
       "1                    40                 221801                  619   \n",
       "2                    54                 288850                  507   \n",
       "3                    68                 385740                  717   \n",
       "4                    89                 475648                  756   \n",
       "\n",
       "   visitors_per_date_B  visitors_cummulative_A  visitors_cummulative_B  \n",
       "0                  713                     719                     713  \n",
       "1                  581                    1338                    1294  \n",
       "2                  509                    1845                    1803  \n",
       "3                  770                    2562                    2573  \n",
       "4                  707                    3318                    3280  "
      ]
     },
     "metadata": {},
     "output_type": "display_data"
    }
   ],
   "source": [
    "# количество пользователей в выбранную дату в группе A\n",
    "visitors_A_daily = visitors[visitors['group'] == 'A'][['date', 'visitors']]\n",
    "visitors_A_daily.columns = ['date', 'visitors_per_date_A']\n",
    "\n",
    "# количество пользователей до выбранной даты включительно в группе A\n",
    "visitors_A_cummulative = visitors_A_daily.apply(\n",
    "    lambda x: visitors_A_daily[visitors_A_daily['date'] <= x['date']].agg(\n",
    "        {'date': 'max', 'visitors_per_date_A': 'sum'}\n",
    "    ),\n",
    "    axis=1,\n",
    ")\n",
    "visitors_A_cummulative.columns = ['date', 'visitors_cummulative_A']\n",
    "\n",
    "# количество пользователей в выбранную дату в группе B\n",
    "visitors_B_daily = visitors[visitors['group'] == 'B'][['date', 'visitors']]\n",
    "visitors_B_daily.columns = ['date', 'visitors_per_date_B']\n",
    "\n",
    "# количество пользователей до выбранной даты включительно в группе B\n",
    "visitors_B_cummulative = visitors_B_daily.apply(\n",
    "    lambda x: visitors_B_daily[visitors_B_daily['date'] <= x['date']].agg(\n",
    "        {'date': 'max', 'visitors_per_date_B': 'sum'}\n",
    "    ),\n",
    "    axis=1,\n",
    ")\n",
    "visitors_B_cummulative.columns = ['date', 'visitors_cummulative_B']\n",
    "\n",
    "# количество заказов в выбранную дату в группе A\n",
    "# суммарная выручка в выбранную дату в группе A\n",
    "orders_A_daily = (\n",
    "    orders[orders['group'] == 'A'][['date', 'transaction_id', 'visitor_id', 'revenue']]\n",
    "    .groupby('date', as_index=False)\n",
    "    .agg({'transaction_id': pd.Series.nunique, 'revenue': 'sum'})\n",
    ")\n",
    "orders_A_daily.columns = ['date', 'orders_per_date_A', 'revenue_per_date_A']\n",
    "\n",
    "# суммарное число заказов до выбранной даты включительно в группе A\n",
    "# суммарная выручка до выбранной даты включительно в группе A\n",
    "orders_A_cummulative = orders_A_daily.apply(\n",
    "    lambda x: orders_A_daily[orders_A_daily['date'] <= x['date']].agg(\n",
    "        {'date': 'max', 'orders_per_date_A': 'sum', 'revenue_per_date_A': 'sum'}\n",
    "    ),\n",
    "    axis=1,\n",
    ").sort_values(by=['date'])\n",
    "orders_A_cummulative.columns = [\n",
    "    'date',\n",
    "    'orders_cummulative_A',\n",
    "    'revenue_cummulative_A',\n",
    "]\n",
    "\n",
    "# количество заказов в выбранную дату в группе B\n",
    "# суммарная выручка в выбранную дату в группе B\n",
    "orders_B_daily = (\n",
    "    orders[orders['group'] == 'B'][['date', 'transaction_id', 'visitor_id', 'revenue']]\n",
    "    .groupby('date', as_index=False)\n",
    "    .agg({'transaction_id': pd.Series.nunique, 'revenue': 'sum'})\n",
    ")\n",
    "orders_B_daily.columns = ['date', 'orders_per_date_B', 'revenue_per_date_B']\n",
    "\n",
    "# суммарное количество заказов до выбранной даты включительно в группе B\n",
    "# суммарная выручка до выбранной даты включительно в группе B\n",
    "orders_B_cummulative = orders_B_daily.apply(\n",
    "    lambda x: orders_B_daily[orders_B_daily['date'] <= x['date']].agg(\n",
    "        {'date': 'max', 'orders_per_date_B': 'sum', 'revenue_per_date_B': 'sum'}\n",
    "    ),\n",
    "    axis=1,\n",
    ").sort_values(by=['date'])\n",
    "orders_B_cummulative.columns = [\n",
    "    'date',\n",
    "    'orders_cummulative_B',\n",
    "    'revenue_cummulative_B',\n",
    "]\n",
    "\n",
    "data = (\n",
    "    orders_A_daily.merge(\n",
    "        orders_B_daily, left_on='date', right_on='date', how='left'\n",
    "    )\n",
    "    .merge(orders_A_cummulative, left_on='date', right_on='date', how='left')\n",
    "    .merge(orders_B_cummulative, left_on='date', right_on='date', how='left')\n",
    "    .merge(visitors_A_daily, left_on='date', right_on='date', how='left')\n",
    "    .merge(visitors_B_daily, left_on='date', right_on='date', how='left')\n",
    "    .merge(visitors_A_cummulative, left_on='date', right_on='date', how='left')\n",
    "    .merge(visitors_B_cummulative, left_on='date', right_on='date', how='left')\n",
    ")\n",
    "\n",
    "display(data.head(5))"
   ]
  },
  {
   "cell_type": "markdown",
   "id": "d411a523",
   "metadata": {},
   "source": [
    "Сформулируем гипотезы.  \n",
    "*Нулевая:* различий в среднем количестве заказов между группами нет.  \n",
    "*Альтернативная:* различия в среднем между группами есть."
   ]
  },
  {
   "cell_type": "code",
   "execution_count": 31,
   "id": "ced1a77a",
   "metadata": {},
   "outputs": [
    {
     "name": "stdout",
     "output_type": "stream",
     "text": [
      "p-value: 0.011\n",
      "Относительное различие в среднем между группами: 0.160\n"
     ]
    }
   ],
   "source": [
    "# заказы, совершенные пользователем в группе A\n",
    "orders_by_users_A = (\n",
    "    orders[orders['group'] == 'A']\n",
    "    .groupby('visitor_id', as_index=False)\n",
    "    .agg({'transaction_id': pd.Series.nunique})\n",
    ")\n",
    "orders_by_users_A.columns = ['visitor_id', 'orders']\n",
    "\n",
    "# заказы, совершенные пользователем в группе A\n",
    "orders_by_users_B = (\n",
    "    orders[orders['group'] == 'B']\n",
    "    .groupby('visitor_id', as_index=False)\n",
    "    .agg({'transaction_id': pd.Series.nunique})\n",
    ")\n",
    "orders_by_users_B.columns = ['visitor_id', 'orders'] \n",
    "\n",
    "# подготовка выборок\n",
    "sampleA = pd.concat([orders_by_users_A['orders'],pd.Series(0, index=np.arange(data['visitors_per_date_A'].sum() \n",
    "                    - len(orders_by_users_A['orders'])), name='orders')],axis=0)\n",
    "\n",
    "sampleB = pd.concat([orders_by_users_B['orders'],pd.Series(0, index=np.arange(data['visitors_per_date_B'].sum()\n",
    "                    - len(orders_by_users_B['orders'])), name='orders')],axis=0) \n",
    "\n",
    "# тест Манна-Уитни\n",
    "print('p-value:',\"{0:.3f}\".format(stats.mannwhitneyu(sampleA, sampleB)[1]))\n",
    "\n",
    "print('Относительное различие в среднем между группами:', \"{0:.3f}\".format(sampleB.mean() / sampleA.mean() - 1))"
   ]
  },
  {
   "cell_type": "markdown",
   "id": "8b1297e4",
   "metadata": {},
   "source": [
    "Применив тест Манна-Уитни, мы получили p-value = 0.011, это меньше 0.05, поэтому отвергаем нулевую гипотезу. Это означает, что различия в среднем количестве заказов на посетителя между группами есть. Относительный прирост среднего группы B к среднему группы A равен 16%. Далее мы проведем тест после удаления аномальных пользователей."
   ]
  },
  {
   "cell_type": "markdown",
   "id": "d05baf1b",
   "metadata": {},
   "source": [
    "**Посчитаем статистическую значимость различий в среднем чеке заказа между группами по «сырым» данным:**"
   ]
  },
  {
   "cell_type": "markdown",
   "id": "3270ee4b",
   "metadata": {},
   "source": [
    "Сформулируем гипотезы.  \n",
    "*Нулевая:* различий в среднем чеке заказа между группами нет.  \n",
    "*Альтернативная:* различия в среднем чеке между группами есть."
   ]
  },
  {
   "cell_type": "code",
   "execution_count": 32,
   "id": "4ef60f8c",
   "metadata": {},
   "outputs": [
    {
     "name": "stdout",
     "output_type": "stream",
     "text": [
      "p-value: 0.829\n",
      "Относительное различие в среднем чеке между группами: 0.287\n"
     ]
    }
   ],
   "source": [
    "# тест Манна-Уитни\n",
    "print('p-value:', '{0:.3f}'.format(stats.mannwhitneyu(orders[orders['group']=='A']['revenue'],\n",
    "                                          orders[orders['group']=='B']['revenue'])[1]))\n",
    "\n",
    "print('Относительное различие в среднем чеке между группами:', \n",
    "      '{0:.3f}'.format(orders[orders['group']=='B']['revenue'].mean()\n",
    "                       /orders[orders['group']=='A']['revenue'].mean()-1)\n",
    "     )"
   ]
  },
  {
   "cell_type": "markdown",
   "id": "dc07d172",
   "metadata": {},
   "source": [
    "P-value больше 0.05, поэтому мы не отвергаем нулевую гипотезу о том, что различий в среднем чеке заказа между группами нет. При этом, относительный прирост среднего чека в группе B к среднему чеку группы A равен 28.7%, и, как мы наблюдаем, такая разница в среднем чеке не является значимой.  \n",
    "В дальнейшем, мы посчитаем статистическую значимость уже для \"очищенных\" данных."
   ]
  },
  {
   "cell_type": "markdown",
   "id": "3e16a135",
   "metadata": {},
   "source": [
    "**Посчитаем статистическую значимость различий в среднем количестве заказов на посетителя между группами по «очищенным» данным:**"
   ]
  },
  {
   "cell_type": "code",
   "execution_count": 33,
   "id": "8e0ea5ea",
   "metadata": {},
   "outputs": [
    {
     "data": {
      "text/plain": [
       "1099    148427295\n",
       "928     204675465\n",
       "33      249864742\n",
       "684     358944393\n",
       "648     382846391\n",
       "Name: visitor_id, dtype: int64"
      ]
     },
     "metadata": {},
     "output_type": "display_data"
    },
    {
     "data": {
      "text/plain": [
       "49"
      ]
     },
     "metadata": {},
     "output_type": "display_data"
    }
   ],
   "source": [
    "# срез пользователей с числом заказов больше 2\n",
    "users_with_many_orders = pd.concat(\n",
    "    [\n",
    "        orders_by_users_A[orders_by_users_A['orders'] > 2]['visitor_id'],\n",
    "        orders_by_users_B[orders_by_users_B['orders'] > 2]['visitor_id'],\n",
    "    ],\n",
    "    axis=0,\n",
    ")\n",
    "\n",
    "# срез пользователей со стоимостью больше 30000\n",
    "users_with_expensive_orders = orders[orders['revenue'] > 30000]['visitor_id']\n",
    "\n",
    "abnormal_users = (\n",
    "    pd.concat([users_with_many_orders, users_with_expensive_orders], axis=0)\n",
    "    .drop_duplicates()\n",
    "    .sort_values()\n",
    ")\n",
    "\n",
    "display(abnormal_users.head())\n",
    "display(abnormal_users.shape[0])"
   ]
  },
  {
   "cell_type": "markdown",
   "id": "08e8a638",
   "metadata": {},
   "source": [
    "Ранее мы определили границы для аномальных пользователей. Мы удаляем клиентов с 3-мя заказами и пользователей с заказами со стоимостями более 30000. Таким образом, мы удалили 49 пользователей из данных.  \n",
    "Сформулируем гипотезы для \"очищенных\" данных.  \n",
    "*Нулевая:* различий в среднем количестве заказов между группами нет.  \n",
    "*Альтернативная:* различия в среднем между группами есть."
   ]
  },
  {
   "cell_type": "code",
   "execution_count": 34,
   "id": "ad7cd5c7",
   "metadata": {},
   "outputs": [
    {
     "name": "stdout",
     "output_type": "stream",
     "text": [
      "p-value: 0.00971\n",
      "Относительное различие в среднем между группами: 0.187\n"
     ]
    }
   ],
   "source": [
    "# очищенные данные о заказах в группе A\n",
    "sample_A_filtered = pd.concat(\n",
    "    [\n",
    "        orders_by_users_A[\n",
    "            np.logical_not(orders_by_users_A['visitor_id'].isin(abnormal_users))\n",
    "        ]['orders'],\n",
    "        pd.Series(\n",
    "            0,\n",
    "            index=np.arange(\n",
    "                data['visitors_per_date_A'].sum() - len(orders_by_users_A['orders'])\n",
    "            ),\n",
    "            name='orders',\n",
    "        ),\n",
    "    ],\n",
    "    axis=0,\n",
    ")\n",
    "\n",
    "# очищенные данные о заказах в группе B\n",
    "sample_B_filtered = pd.concat(\n",
    "    [\n",
    "        orders_by_users_B[\n",
    "            np.logical_not(orders_by_users_B['visitor_id'].isin(abnormal_users))\n",
    "        ]['orders'],\n",
    "        pd.Series(\n",
    "            0,\n",
    "            index=np.arange(\n",
    "                data['visitors_per_date_B'].sum() - len(orders_by_users_B['orders'])\n",
    "            ),\n",
    "            name='orders',\n",
    "        ),\n",
    "    ],\n",
    "    axis=0,\n",
    ")\n",
    "\n",
    "print('p-value:', '{0:.5f}'.format(stats.mannwhitneyu(sample_A_filtered, sample_B_filtered)[1]))\n",
    "print('Относительное различие в среднем между группами:', \n",
    "      '{0:.3f}'.format(sample_B_filtered.mean()/sample_A_filtered.mean()-1)\n",
    "     ) "
   ]
  },
  {
   "cell_type": "markdown",
   "id": "02d5109b",
   "metadata": {},
   "source": [
    "P-value практически не изменился, мы также отвергаем нулевую гипотезу о том, что различий в среднем количестве заказов между группами нет. При этом после \"чистки\" прирост среднего группы B увеличился до 18.7%"
   ]
  },
  {
   "cell_type": "markdown",
   "id": "a2d9fca0",
   "metadata": {},
   "source": [
    "**Посчитаем статистическую значимость различий в среднем чеке заказа между группами по «очищенным» данным:**"
   ]
  },
  {
   "cell_type": "markdown",
   "id": "1caaa719",
   "metadata": {},
   "source": [
    "Сформулируем гипотезы для \"очищенных\" данных.  \n",
    "*Нулевая:* различий в среднем чеке заказа между группами нет.  \n",
    "*Альтернативная:* различия в среднем чеке между группами есть."
   ]
  },
  {
   "cell_type": "code",
   "execution_count": 35,
   "id": "bab24406",
   "metadata": {},
   "outputs": [
    {
     "name": "stdout",
     "output_type": "stream",
     "text": [
      "p-value: 0.741\n",
      "Относительное различие в среднем чеке между группами: -0.027\n"
     ]
    }
   ],
   "source": [
    "print(\n",
    "    'p-value:',\n",
    "    '{0:.3f}'.format(\n",
    "        stats.mannwhitneyu(\n",
    "            orders[\n",
    "                np.logical_and(\n",
    "                    orders['group'] == 'A',\n",
    "                    np.logical_not(orders['visitor_id'].isin(abnormal_users)),\n",
    "                )\n",
    "            ]['revenue'],\n",
    "            orders[\n",
    "                np.logical_and(\n",
    "                    orders['group'] == 'B',\n",
    "                    np.logical_not(orders['visitor_id'].isin(abnormal_users)),\n",
    "                )\n",
    "            ]['revenue'],\n",
    "        )[1]\n",
    "    )\n",
    ")\n",
    "\n",
    "print(\n",
    "    'Относительное различие в среднем чеке между группами:',\n",
    "    \"{0:.3f}\".format(\n",
    "        orders[\n",
    "            np.logical_and(\n",
    "                orders['group'] == 'B',\n",
    "                np.logical_not(orders['visitor_id'].isin(abnormal_users)),\n",
    "            )\n",
    "        ]['revenue'].mean()\n",
    "        / orders[\n",
    "            np.logical_and(\n",
    "                orders['group'] == 'A',\n",
    "                np.logical_not(orders['visitor_id'].isin(abnormal_users)),\n",
    "            )\n",
    "        ]['revenue'].mean()\n",
    "        - 1\n",
    "    )\n",
    ")"
   ]
  },
  {
   "cell_type": "markdown",
   "id": "8ff47eb0",
   "metadata": {},
   "source": [
    "P-value уменьшился, но все еще гораздо больше 0.05. Получается, что результаты тестов не изменились. Зато после \"очищения\" нет прироста группы B, даже, наоборот, небольшой относительный прирост появился у группы А к группе В, он равен 2.7%"
   ]
  },
  {
   "cell_type": "markdown",
   "id": "587fc2ae",
   "metadata": {},
   "source": [
    "В результате мы располагаем такой информацией: присутствуют статистически значимые различия между группами в среднем количестве заказов на пользователя. Группа B относительно группы A имеет прирост в 16% по \"сырым\" данным и 18.7% после фильтрации. Нет статистически значимых различий в среднем чеке между группами. После фильтрации группа A относительно группы B имеет небольшой прирост 2.7%. Графики различий среднего количества заказов и среднего чека показали нам, что данные установились у определенных значений. Ввиду этого, продолжать тест нет смысла. Можно заметить, что небольшое отставание группы B по среднему чеку легко перекрывается относительным приростом в 16-19% по конверсии, т.е. кол-во заказов в группе B больше, а т.к. перед нами стояла задача увеличить выручку интернет-магазина, то поэтому рекомендуется остановить тест и зафиксировать победу группы B."
   ]
  },
  {
   "cell_type": "markdown",
   "id": "2b60cef0",
   "metadata": {},
   "source": [
    "## Финальный вывод"
   ]
  },
  {
   "cell_type": "markdown",
   "id": "cf20bdc8",
   "metadata": {},
   "source": [
    "Наше исследование должно помочь интернет-магазину увеличить свою выручку. Для этого совместно с отделом маркетинга был подготовлен список из 9 гипотез. В результате приоритизации гипотез было выяснено следующее:\n",
    "  - при использовании фреймворка ICE самой приоритетной стала гипотеза №8 о предоставлении скидки на товар в день рождения\n",
    "  - при использовании фреймворка RICE самой приоритетной стала гипотеза №7 о добавлении формы подписки на все основные страницы, чтобы собрать базу клиентов для email-рассылок\n",
    "  - в обоих фреймворках первые 5 гипотез одни и те же, отличаются их места. Помимо ранее упомянутых, в списке присутствуют гипотеза №0 о добавлении двух новых каналов привлечения трафика, гипотеза №2 о добавлении блоков рекомендаций товаров на сайт интернет-магазина, гипотеза №6 о показах на главной странице баннеров с актуальными акциями и распродажами\n",
    "  - первые 5 гипотез имеют отличительное свойство, у них всех высокие оценки по параметру Сonfidence (Уверенность в их срабатывании)  \n",
    "  \n",
    "*Рекомендации:*  \n",
    "  - т.к. показатель Reach очень важен, то применять фреймворк RICE для приоритизации гипотез\n",
    "  - в первую очередь проверить гипотезу №7, далее гипотезу №2 и потом гипотезы №0 и №6\n",
    "  - по возможности, составить и приоритизировать аналогично новые гипотезы \n",
    "  \n",
    "Был проведен A/B-тест и получены такие результаты:\n",
    "  - часть пользователей попала в обе группы теста, что может означать его некорректное проведение\n",
    "  - статистически значимых различий в среднем чеке между группами нет, как для \"сырых\" данных, так и после фильтрации\n",
    "  - по \"сырым\" данным средний чек группы B имеет прирост относительно группы А 28.7%, на это сильно повлияли аномальные данные\n",
    "  - после фильтрации группа A относительно группы B имеет небольшой прирост 2.7%\n",
    "  - присутствуют статистически значимые различия между группами в среднем количестве заказов на пользователя\n",
    "  - группа B относительно группы A имеет прирост в 16% по \"сырым\" данным и 18.7% после фильтрации\n",
    "  - графики различий среднего количества заказов и среднего чека указывают на то, что данные установились у определенных значений  \n",
    "  \n",
    "*Рекомендации:*  \n",
    "  - остановить тест\n",
    "  - зафиксировать победу группы B\n",
    "  - разобраться, по какой причине некоторые пользователи попали в обе группы теста"
   ]
  }
 ],
 "metadata": {
  "ExecuteTimeLog": [
   {
    "duration": 1253,
    "start_time": "2023-02-10T19:51:15.361Z"
   },
   {
    "duration": 84,
    "start_time": "2023-02-10T19:51:16.617Z"
   },
   {
    "duration": 11,
    "start_time": "2023-02-10T19:51:16.703Z"
   },
   {
    "duration": 8,
    "start_time": "2023-02-10T19:51:16.716Z"
   },
   {
    "duration": 81,
    "start_time": "2023-02-10T19:51:16.726Z"
   },
   {
    "duration": 11,
    "start_time": "2023-02-10T19:51:16.809Z"
   },
   {
    "duration": 8,
    "start_time": "2023-02-10T19:51:16.823Z"
   },
   {
    "duration": 35,
    "start_time": "2023-02-10T19:51:16.833Z"
   },
   {
    "duration": 60,
    "start_time": "2023-02-10T19:51:16.870Z"
   },
   {
    "duration": 12,
    "start_time": "2023-02-10T19:51:16.933Z"
   },
   {
    "duration": 21,
    "start_time": "2023-02-10T19:51:16.947Z"
   },
   {
    "duration": 12,
    "start_time": "2023-02-10T19:51:16.970Z"
   },
   {
    "duration": 14,
    "start_time": "2023-02-10T19:51:16.983Z"
   },
   {
    "duration": 10,
    "start_time": "2023-02-10T19:51:16.999Z"
   },
   {
    "duration": 44,
    "start_time": "2023-02-10T19:51:17.011Z"
   },
   {
    "duration": 14,
    "start_time": "2023-02-10T19:51:17.057Z"
   },
   {
    "duration": 10,
    "start_time": "2023-02-10T19:51:17.073Z"
   },
   {
    "duration": 26,
    "start_time": "2023-02-10T19:51:17.085Z"
   },
   {
    "duration": 659,
    "start_time": "2023-02-10T19:51:17.113Z"
   },
   {
    "duration": 265,
    "start_time": "2023-02-10T19:51:17.775Z"
   },
   {
    "duration": 347,
    "start_time": "2023-02-10T19:51:18.043Z"
   },
   {
    "duration": 248,
    "start_time": "2023-02-10T19:51:18.392Z"
   },
   {
    "duration": 338,
    "start_time": "2023-02-10T19:51:18.643Z"
   },
   {
    "duration": 17,
    "start_time": "2023-02-10T19:51:18.984Z"
   },
   {
    "duration": 212,
    "start_time": "2023-02-10T19:51:19.004Z"
   },
   {
    "duration": 7,
    "start_time": "2023-02-10T19:51:19.218Z"
   },
   {
    "duration": 194,
    "start_time": "2023-02-10T19:51:19.226Z"
   },
   {
    "duration": 147,
    "start_time": "2023-02-10T19:51:19.423Z"
   },
   {
    "duration": 5,
    "start_time": "2023-02-10T19:51:19.572Z"
   },
   {
    "duration": 339,
    "start_time": "2023-02-10T19:51:19.579Z"
   },
   {
    "duration": 188,
    "start_time": "2023-02-10T19:51:19.920Z"
   },
   {
    "duration": 12,
    "start_time": "2023-02-10T19:51:20.110Z"
   },
   {
    "duration": 31,
    "start_time": "2023-02-10T19:51:20.124Z"
   },
   {
    "duration": 33,
    "start_time": "2023-02-10T19:51:20.157Z"
   },
   {
    "duration": 17,
    "start_time": "2023-02-10T19:51:20.192Z"
   },
   {
    "duration": 1118,
    "start_time": "2023-02-10T19:54:06.393Z"
   },
   {
    "duration": 68,
    "start_time": "2023-02-10T19:54:07.513Z"
   },
   {
    "duration": 11,
    "start_time": "2023-02-10T19:54:07.583Z"
   },
   {
    "duration": 5,
    "start_time": "2023-02-10T19:54:07.596Z"
   },
   {
    "duration": 77,
    "start_time": "2023-02-10T19:54:07.603Z"
   },
   {
    "duration": 11,
    "start_time": "2023-02-10T19:54:07.682Z"
   },
   {
    "duration": 8,
    "start_time": "2023-02-10T19:54:07.694Z"
   },
   {
    "duration": 15,
    "start_time": "2023-02-10T19:54:07.703Z"
   },
   {
    "duration": 53,
    "start_time": "2023-02-10T19:54:07.720Z"
   },
   {
    "duration": 10,
    "start_time": "2023-02-10T19:54:07.776Z"
   },
   {
    "duration": 19,
    "start_time": "2023-02-10T19:54:07.788Z"
   },
   {
    "duration": 8,
    "start_time": "2023-02-10T19:54:07.809Z"
   },
   {
    "duration": 18,
    "start_time": "2023-02-10T19:54:07.819Z"
   },
   {
    "duration": 12,
    "start_time": "2023-02-10T19:54:07.839Z"
   },
   {
    "duration": 13,
    "start_time": "2023-02-10T19:54:07.853Z"
   },
   {
    "duration": 9,
    "start_time": "2023-02-10T19:54:07.868Z"
   },
   {
    "duration": 46,
    "start_time": "2023-02-10T19:54:07.879Z"
   },
   {
    "duration": 26,
    "start_time": "2023-02-10T19:54:07.926Z"
   },
   {
    "duration": 586,
    "start_time": "2023-02-10T19:54:07.954Z"
   },
   {
    "duration": 227,
    "start_time": "2023-02-10T19:54:08.541Z"
   },
   {
    "duration": 320,
    "start_time": "2023-02-10T19:54:08.770Z"
   },
   {
    "duration": 219,
    "start_time": "2023-02-10T19:54:09.093Z"
   },
   {
    "duration": 336,
    "start_time": "2023-02-10T19:54:09.314Z"
   },
   {
    "duration": 12,
    "start_time": "2023-02-10T19:54:09.652Z"
   },
   {
    "duration": 154,
    "start_time": "2023-02-10T19:54:09.665Z"
   },
   {
    "duration": 5,
    "start_time": "2023-02-10T19:54:09.820Z"
   },
   {
    "duration": 148,
    "start_time": "2023-02-10T19:54:09.827Z"
   },
   {
    "duration": 131,
    "start_time": "2023-02-10T19:54:09.978Z"
   },
   {
    "duration": 5,
    "start_time": "2023-02-10T19:54:10.111Z"
   },
   {
    "duration": 306,
    "start_time": "2023-02-10T19:54:10.117Z"
   },
   {
    "duration": 169,
    "start_time": "2023-02-10T19:54:10.425Z"
   },
   {
    "duration": 12,
    "start_time": "2023-02-10T19:54:10.596Z"
   },
   {
    "duration": 12,
    "start_time": "2023-02-10T19:54:10.610Z"
   },
   {
    "duration": 29,
    "start_time": "2023-02-10T19:54:10.640Z"
   },
   {
    "duration": 14,
    "start_time": "2023-02-10T19:54:10.670Z"
   },
   {
    "duration": 54,
    "start_time": "2023-02-11T06:38:55.003Z"
   },
   {
    "duration": 1362,
    "start_time": "2023-02-11T06:39:00.933Z"
   },
   {
    "duration": 156,
    "start_time": "2023-02-11T06:39:02.297Z"
   },
   {
    "duration": 14,
    "start_time": "2023-02-11T06:39:02.455Z"
   },
   {
    "duration": 35,
    "start_time": "2023-02-11T06:39:02.472Z"
   },
   {
    "duration": 138,
    "start_time": "2023-02-11T06:39:02.510Z"
   },
   {
    "duration": 15,
    "start_time": "2023-02-11T06:39:02.650Z"
   },
   {
    "duration": 22,
    "start_time": "2023-02-11T06:39:02.666Z"
   },
   {
    "duration": 33,
    "start_time": "2023-02-11T06:39:02.690Z"
   },
   {
    "duration": 130,
    "start_time": "2023-02-11T06:39:02.725Z"
   },
   {
    "duration": 12,
    "start_time": "2023-02-11T06:39:02.858Z"
   },
   {
    "duration": 34,
    "start_time": "2023-02-11T06:39:02.872Z"
   },
   {
    "duration": 30,
    "start_time": "2023-02-11T06:39:02.908Z"
   },
   {
    "duration": 27,
    "start_time": "2023-02-11T06:39:02.940Z"
   },
   {
    "duration": 13,
    "start_time": "2023-02-11T06:39:02.969Z"
   },
   {
    "duration": 17,
    "start_time": "2023-02-11T06:39:02.984Z"
   },
   {
    "duration": 53,
    "start_time": "2023-02-11T06:39:03.003Z"
   },
   {
    "duration": 26,
    "start_time": "2023-02-11T06:39:03.058Z"
   },
   {
    "duration": 41,
    "start_time": "2023-02-11T06:39:03.086Z"
   },
   {
    "duration": 557,
    "start_time": "2023-02-11T06:39:09.631Z"
   },
   {
    "duration": 552,
    "start_time": "2023-02-11T06:41:19.271Z"
   },
   {
    "duration": 629,
    "start_time": "2023-02-11T06:41:57.902Z"
   },
   {
    "duration": 526,
    "start_time": "2023-02-11T06:42:08.286Z"
   },
   {
    "duration": 584,
    "start_time": "2023-02-11T06:42:16.966Z"
   },
   {
    "duration": 577,
    "start_time": "2023-02-11T06:42:28.559Z"
   },
   {
    "duration": 517,
    "start_time": "2023-02-11T06:42:38.725Z"
   },
   {
    "duration": 640,
    "start_time": "2023-02-11T06:42:47.022Z"
   },
   {
    "duration": 600,
    "start_time": "2023-02-11T06:42:53.501Z"
   },
   {
    "duration": 613,
    "start_time": "2023-02-11T06:42:57.950Z"
   },
   {
    "duration": 230,
    "start_time": "2023-02-11T06:44:48.675Z"
   },
   {
    "duration": 561,
    "start_time": "2023-02-11T06:45:19.172Z"
   },
   {
    "duration": 547,
    "start_time": "2023-02-11T06:45:25.931Z"
   },
   {
    "duration": 283,
    "start_time": "2023-02-11T06:45:46.907Z"
   },
   {
    "duration": 419,
    "start_time": "2023-02-11T06:46:56.601Z"
   },
   {
    "duration": 272,
    "start_time": "2023-02-11T06:47:32.680Z"
   },
   {
    "duration": 339,
    "start_time": "2023-02-11T06:48:05.920Z"
   },
   {
    "duration": 13,
    "start_time": "2023-02-11T06:48:47.596Z"
   },
   {
    "duration": 15,
    "start_time": "2023-02-11T06:49:09.166Z"
   },
   {
    "duration": 15,
    "start_time": "2023-02-11T06:49:26.661Z"
   },
   {
    "duration": 126,
    "start_time": "2023-02-11T07:30:37.352Z"
   },
   {
    "duration": 10,
    "start_time": "2023-02-11T07:35:53.612Z"
   },
   {
    "duration": 3,
    "start_time": "2023-02-11T07:35:59.561Z"
   },
   {
    "duration": 88,
    "start_time": "2023-02-11T07:35:59.567Z"
   },
   {
    "duration": 10,
    "start_time": "2023-02-11T07:35:59.658Z"
   },
   {
    "duration": 27,
    "start_time": "2023-02-11T07:35:59.670Z"
   },
   {
    "duration": 98,
    "start_time": "2023-02-11T07:35:59.699Z"
   },
   {
    "duration": 11,
    "start_time": "2023-02-11T07:35:59.799Z"
   },
   {
    "duration": 35,
    "start_time": "2023-02-11T07:35:59.812Z"
   },
   {
    "duration": 26,
    "start_time": "2023-02-11T07:35:59.850Z"
   },
   {
    "duration": 71,
    "start_time": "2023-02-11T07:35:59.879Z"
   },
   {
    "duration": 10,
    "start_time": "2023-02-11T07:35:59.952Z"
   },
   {
    "duration": 57,
    "start_time": "2023-02-11T07:35:59.964Z"
   },
   {
    "duration": 39,
    "start_time": "2023-02-11T07:36:00.022Z"
   },
   {
    "duration": 31,
    "start_time": "2023-02-11T07:36:00.063Z"
   },
   {
    "duration": 25,
    "start_time": "2023-02-11T07:36:00.097Z"
   },
   {
    "duration": 56,
    "start_time": "2023-02-11T07:36:00.124Z"
   },
   {
    "duration": 41,
    "start_time": "2023-02-11T07:36:00.182Z"
   },
   {
    "duration": 47,
    "start_time": "2023-02-11T07:36:00.224Z"
   },
   {
    "duration": 62,
    "start_time": "2023-02-11T07:36:00.273Z"
   },
   {
    "duration": 532,
    "start_time": "2023-02-11T07:36:00.337Z"
   },
   {
    "duration": 237,
    "start_time": "2023-02-11T07:36:00.871Z"
   },
   {
    "duration": 439,
    "start_time": "2023-02-11T07:36:01.109Z"
   },
   {
    "duration": 243,
    "start_time": "2023-02-11T07:36:01.549Z"
   },
   {
    "duration": 352,
    "start_time": "2023-02-11T07:36:01.793Z"
   },
   {
    "duration": 12,
    "start_time": "2023-02-11T07:36:02.148Z"
   },
   {
    "duration": 169,
    "start_time": "2023-02-11T07:36:06.283Z"
   },
   {
    "duration": 148,
    "start_time": "2023-02-11T07:37:28.259Z"
   },
   {
    "duration": 141,
    "start_time": "2023-02-11T07:38:37.858Z"
   }
  ],
  "kernelspec": {
   "display_name": "Python 3 (ipykernel)",
   "language": "python",
   "name": "python3"
  },
  "language_info": {
   "codemirror_mode": {
    "name": "ipython",
    "version": 3
   },
   "file_extension": ".py",
   "mimetype": "text/x-python",
   "name": "python",
   "nbconvert_exporter": "python",
   "pygments_lexer": "ipython3",
   "version": "3.9.15"
  },
  "toc": {
   "base_numbering": 1,
   "nav_menu": {},
   "number_sections": true,
   "sideBar": true,
   "skip_h1_title": true,
   "title_cell": "Table of Contents",
   "title_sidebar": "Contents",
   "toc_cell": false,
   "toc_position": {},
   "toc_section_display": true,
   "toc_window_display": false
  }
 },
 "nbformat": 4,
 "nbformat_minor": 5
}
