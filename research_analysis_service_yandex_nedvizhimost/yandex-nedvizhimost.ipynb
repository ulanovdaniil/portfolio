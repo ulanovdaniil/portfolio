{
 "cells": [
  {
   "cell_type": "markdown",
   "metadata": {},
   "source": [
    "<div style=\"border:solid Chocolate 2px; padding: 40px\">\n",
    "\n",
    "<b>Даниил, привет!</b>\n",
    "\n",
    "Меня зовут Евгений Головин, я буду ревьюером твоего проекта. Если ты не против, то предлагаю посмотрить наше общение на \"ты\" ;) Если удобнее на \"вы\", то нет проблем, только скажи об этом. \n",
    "\n",
    "В ходе работы я оставил тебе комментарии <font color='green'>зеленого</font>, <font color='gold'>желтого</font> и <font color='red'>красного</font> цветов. Сейчас объясню, что они значат:\n",
    "\n",
    "<br/>\n",
    "\n",
    "<div class=\"alert alert-success\">\n",
    "<h2> Комментарий ревьюера <a class=\"tocSkip\"> </h2>\n",
    "\n",
    "<b>Все супер!👍:</b> Решение на этом шаге является полностью правильным.\n",
    "</div>\n",
    "\n",
    "<br/>\n",
    "\n",
    "<div class=\"alert alert-warning\">\n",
    "    <h2> Комментарий ревьюера <a class=\"tocSkip\"> </h2>\n",
    "    \n",
    "<b>Небольшие замечания и рекомендации💡:</b> Решение на этом шаге станет еще лучше, если внести небольшие коррективы.\n",
    "</div>\n",
    "\n",
    "\n",
    "<br/>\n",
    "<div class=\"alert alert-block alert-danger\">\n",
    "<h2> Комментарий ревьюера <a class=\"tocSkip\"></h2>\n",
    "\n",
    "    \n",
    "<b>На доработку🤔:</b>\n",
    " Решение на этом шаге требует существенной переработки и внесения правок. Напоминаю, что проект не может быть принят с первого раза, если ревью содержит комментарии, рекомендующие доработать шаги.\n",
    "</div>\n",
    "    \n",
    "Увидев мой комментарий, не удаляй его, он будет очень полезен в случае повторной проверки работы :)\n",
    "    \n",
    "<div class=\"alert alert-info\">\n",
    "<b>А свой помечай вот так, чтобы я его не потерял ;)</b> \n",
    "</div>\n",
    "    \n",
    "Увидев мой комментарий, не удаляй его, он будет очень полезен в случае повторной проверки работы :)\n",
    "    \n",
    "На мои комменатрии можно и нужно реагировать, только делать это стоит так, чтобы твои и мои комменты не смешались: выделяй свои цветами, сильно отличающимися от моих.\n",
    "    \n",
    "Увидев у тебя неточность, в первый раз я лишь укажу на ее наличие и дам тебе возможность самому найти и исправить ее. На реальной работе твой руководитель будет поступать также, и я пытаюсь подготовить тебя именно к работе аналитиком. Но если ты пока не справишься с такой задачей - при следующей проверке я дам более точную подсказку!"
   ]
  },
  {
   "cell_type": "markdown",
   "metadata": {},
   "source": [
    "# Исследование объявлений о продаже квартир\n",
    "\n",
    "В вашем распоряжении данные сервиса Яндекс.Недвижимость — архив объявлений о продаже квартир в Санкт-Петербурге и соседних населённых пунктов за несколько лет. Нужно научиться определять рыночную стоимость объектов недвижимости. Ваша задача — установить параметры. Это позволит построить автоматизированную систему: она отследит аномалии и мошенническую деятельность. \n",
    "\n",
    "По каждой квартире на продажу доступны два вида данных. Первые вписаны пользователем, вторые — получены автоматически на основе картографических данных. Например, расстояние до центра, аэропорта, ближайшего парка и водоёма. "
   ]
  },
  {
   "cell_type": "markdown",
   "metadata": {},
   "source": [
    "<div class=\"alert alert-success\">\n",
    "<h2> Комментарий ревьюера <a class=\"tocSkip\"> </h2>\n",
    "\n",
    "<b>Все супер!👍:</b> Введение есть, отлично!"
   ]
  },
  {
   "cell_type": "markdown",
   "metadata": {},
   "source": [
    "### Откройте файл с данными и изучите общую информацию. "
   ]
  },
  {
   "cell_type": "markdown",
   "metadata": {},
   "source": [
    "<div class=\"alert alert-warning\">\n",
    "    <h2> Комментарий ревьюера <a class=\"tocSkip\"> </h2>\n",
    "    \n",
    "<b>Небольшие замечания и рекомендации💡:</b> Скроллить не очень удобно, правда? Может лучше подразбить код на ячейки?"
   ]
  },
  {
   "cell_type": "markdown",
   "metadata": {},
   "source": [
    "<div class=\"alert alert-info\">\n",
    "<b> Что-то у меня совсем не получается разобраться, как разбивать на ячейки, будет супер, если сможешь дать линк, чтобы я изучил это, а то сейчас не понимаю, как правильно загуглить это( </b> \n",
    "</div>"
   ]
  },
  {
   "cell_type": "markdown",
   "metadata": {},
   "source": [
    "<div class=\"alert alert-warning\">\n",
    "    <h2> Комментарий ревьюера v2 <a class=\"tocSkip\"> </h2>\n",
    "    \n",
    "<b>Небольшие замечания и рекомендации💡:</b> Таких статей наверное даже не существует!) Здесь все просто - в одну ячейку добавить display(data), в другую data.info(), в третью display(data.hist(figsize=(15, 20))) и будет счастье)"
   ]
  },
  {
   "cell_type": "code",
   "execution_count": 15,
   "metadata": {},
   "outputs": [
    {
     "data": {
      "text/html": [
       "<div>\n",
       "<style scoped>\n",
       "    .dataframe tbody tr th:only-of-type {\n",
       "        vertical-align: middle;\n",
       "    }\n",
       "\n",
       "    .dataframe tbody tr th {\n",
       "        vertical-align: top;\n",
       "    }\n",
       "\n",
       "    .dataframe thead th {\n",
       "        text-align: right;\n",
       "    }\n",
       "</style>\n",
       "<table border=\"1\" class=\"dataframe\">\n",
       "  <thead>\n",
       "    <tr style=\"text-align: right;\">\n",
       "      <th></th>\n",
       "      <th>total_images</th>\n",
       "      <th>last_price</th>\n",
       "      <th>total_area</th>\n",
       "      <th>first_day_exposition</th>\n",
       "      <th>rooms</th>\n",
       "      <th>ceiling_height</th>\n",
       "      <th>floors_total</th>\n",
       "      <th>living_area</th>\n",
       "      <th>floor</th>\n",
       "      <th>is_apartment</th>\n",
       "      <th>studio</th>\n",
       "      <th>open_plan</th>\n",
       "      <th>kitchen_area</th>\n",
       "      <th>balcony</th>\n",
       "      <th>locality_name</th>\n",
       "      <th>airports_nearest</th>\n",
       "      <th>cityCenters_nearest</th>\n",
       "      <th>parks_around3000</th>\n",
       "      <th>parks_nearest</th>\n",
       "      <th>ponds_around3000</th>\n",
       "      <th>ponds_nearest</th>\n",
       "      <th>days_exposition</th>\n",
       "    </tr>\n",
       "  </thead>\n",
       "  <tbody>\n",
       "    <tr>\n",
       "      <th>0</th>\n",
       "      <td>20</td>\n",
       "      <td>13000000.0</td>\n",
       "      <td>108.00</td>\n",
       "      <td>2019-03-07T00:00:00</td>\n",
       "      <td>3</td>\n",
       "      <td>2.70</td>\n",
       "      <td>16.0</td>\n",
       "      <td>51.0</td>\n",
       "      <td>8</td>\n",
       "      <td>NaN</td>\n",
       "      <td>False</td>\n",
       "      <td>False</td>\n",
       "      <td>25.00</td>\n",
       "      <td>NaN</td>\n",
       "      <td>Санкт-Петербург</td>\n",
       "      <td>18863.0</td>\n",
       "      <td>16028.0</td>\n",
       "      <td>1.0</td>\n",
       "      <td>482.0</td>\n",
       "      <td>2.0</td>\n",
       "      <td>755.0</td>\n",
       "      <td>NaN</td>\n",
       "    </tr>\n",
       "    <tr>\n",
       "      <th>1</th>\n",
       "      <td>7</td>\n",
       "      <td>3350000.0</td>\n",
       "      <td>40.40</td>\n",
       "      <td>2018-12-04T00:00:00</td>\n",
       "      <td>1</td>\n",
       "      <td>NaN</td>\n",
       "      <td>11.0</td>\n",
       "      <td>18.6</td>\n",
       "      <td>1</td>\n",
       "      <td>NaN</td>\n",
       "      <td>False</td>\n",
       "      <td>False</td>\n",
       "      <td>11.00</td>\n",
       "      <td>2.0</td>\n",
       "      <td>посёлок Шушары</td>\n",
       "      <td>12817.0</td>\n",
       "      <td>18603.0</td>\n",
       "      <td>0.0</td>\n",
       "      <td>NaN</td>\n",
       "      <td>0.0</td>\n",
       "      <td>NaN</td>\n",
       "      <td>81.0</td>\n",
       "    </tr>\n",
       "    <tr>\n",
       "      <th>2</th>\n",
       "      <td>10</td>\n",
       "      <td>5196000.0</td>\n",
       "      <td>56.00</td>\n",
       "      <td>2015-08-20T00:00:00</td>\n",
       "      <td>2</td>\n",
       "      <td>NaN</td>\n",
       "      <td>5.0</td>\n",
       "      <td>34.3</td>\n",
       "      <td>4</td>\n",
       "      <td>NaN</td>\n",
       "      <td>False</td>\n",
       "      <td>False</td>\n",
       "      <td>8.30</td>\n",
       "      <td>0.0</td>\n",
       "      <td>Санкт-Петербург</td>\n",
       "      <td>21741.0</td>\n",
       "      <td>13933.0</td>\n",
       "      <td>1.0</td>\n",
       "      <td>90.0</td>\n",
       "      <td>2.0</td>\n",
       "      <td>574.0</td>\n",
       "      <td>558.0</td>\n",
       "    </tr>\n",
       "    <tr>\n",
       "      <th>3</th>\n",
       "      <td>0</td>\n",
       "      <td>64900000.0</td>\n",
       "      <td>159.00</td>\n",
       "      <td>2015-07-24T00:00:00</td>\n",
       "      <td>3</td>\n",
       "      <td>NaN</td>\n",
       "      <td>14.0</td>\n",
       "      <td>NaN</td>\n",
       "      <td>9</td>\n",
       "      <td>NaN</td>\n",
       "      <td>False</td>\n",
       "      <td>False</td>\n",
       "      <td>NaN</td>\n",
       "      <td>0.0</td>\n",
       "      <td>Санкт-Петербург</td>\n",
       "      <td>28098.0</td>\n",
       "      <td>6800.0</td>\n",
       "      <td>2.0</td>\n",
       "      <td>84.0</td>\n",
       "      <td>3.0</td>\n",
       "      <td>234.0</td>\n",
       "      <td>424.0</td>\n",
       "    </tr>\n",
       "    <tr>\n",
       "      <th>4</th>\n",
       "      <td>2</td>\n",
       "      <td>10000000.0</td>\n",
       "      <td>100.00</td>\n",
       "      <td>2018-06-19T00:00:00</td>\n",
       "      <td>2</td>\n",
       "      <td>3.03</td>\n",
       "      <td>14.0</td>\n",
       "      <td>32.0</td>\n",
       "      <td>13</td>\n",
       "      <td>NaN</td>\n",
       "      <td>False</td>\n",
       "      <td>False</td>\n",
       "      <td>41.00</td>\n",
       "      <td>NaN</td>\n",
       "      <td>Санкт-Петербург</td>\n",
       "      <td>31856.0</td>\n",
       "      <td>8098.0</td>\n",
       "      <td>2.0</td>\n",
       "      <td>112.0</td>\n",
       "      <td>1.0</td>\n",
       "      <td>48.0</td>\n",
       "      <td>121.0</td>\n",
       "    </tr>\n",
       "    <tr>\n",
       "      <th>...</th>\n",
       "      <td>...</td>\n",
       "      <td>...</td>\n",
       "      <td>...</td>\n",
       "      <td>...</td>\n",
       "      <td>...</td>\n",
       "      <td>...</td>\n",
       "      <td>...</td>\n",
       "      <td>...</td>\n",
       "      <td>...</td>\n",
       "      <td>...</td>\n",
       "      <td>...</td>\n",
       "      <td>...</td>\n",
       "      <td>...</td>\n",
       "      <td>...</td>\n",
       "      <td>...</td>\n",
       "      <td>...</td>\n",
       "      <td>...</td>\n",
       "      <td>...</td>\n",
       "      <td>...</td>\n",
       "      <td>...</td>\n",
       "      <td>...</td>\n",
       "      <td>...</td>\n",
       "    </tr>\n",
       "    <tr>\n",
       "      <th>23694</th>\n",
       "      <td>9</td>\n",
       "      <td>9700000.0</td>\n",
       "      <td>133.81</td>\n",
       "      <td>2017-03-21T00:00:00</td>\n",
       "      <td>3</td>\n",
       "      <td>3.70</td>\n",
       "      <td>5.0</td>\n",
       "      <td>73.3</td>\n",
       "      <td>3</td>\n",
       "      <td>NaN</td>\n",
       "      <td>False</td>\n",
       "      <td>False</td>\n",
       "      <td>13.83</td>\n",
       "      <td>NaN</td>\n",
       "      <td>Санкт-Петербург</td>\n",
       "      <td>24665.0</td>\n",
       "      <td>4232.0</td>\n",
       "      <td>1.0</td>\n",
       "      <td>796.0</td>\n",
       "      <td>3.0</td>\n",
       "      <td>381.0</td>\n",
       "      <td>NaN</td>\n",
       "    </tr>\n",
       "    <tr>\n",
       "      <th>23695</th>\n",
       "      <td>14</td>\n",
       "      <td>3100000.0</td>\n",
       "      <td>59.00</td>\n",
       "      <td>2018-01-15T00:00:00</td>\n",
       "      <td>3</td>\n",
       "      <td>NaN</td>\n",
       "      <td>5.0</td>\n",
       "      <td>38.0</td>\n",
       "      <td>4</td>\n",
       "      <td>NaN</td>\n",
       "      <td>False</td>\n",
       "      <td>False</td>\n",
       "      <td>8.50</td>\n",
       "      <td>NaN</td>\n",
       "      <td>Тосно</td>\n",
       "      <td>NaN</td>\n",
       "      <td>NaN</td>\n",
       "      <td>NaN</td>\n",
       "      <td>NaN</td>\n",
       "      <td>NaN</td>\n",
       "      <td>NaN</td>\n",
       "      <td>45.0</td>\n",
       "    </tr>\n",
       "    <tr>\n",
       "      <th>23696</th>\n",
       "      <td>18</td>\n",
       "      <td>2500000.0</td>\n",
       "      <td>56.70</td>\n",
       "      <td>2018-02-11T00:00:00</td>\n",
       "      <td>2</td>\n",
       "      <td>NaN</td>\n",
       "      <td>3.0</td>\n",
       "      <td>29.7</td>\n",
       "      <td>1</td>\n",
       "      <td>NaN</td>\n",
       "      <td>False</td>\n",
       "      <td>False</td>\n",
       "      <td>NaN</td>\n",
       "      <td>NaN</td>\n",
       "      <td>село Рождествено</td>\n",
       "      <td>NaN</td>\n",
       "      <td>NaN</td>\n",
       "      <td>NaN</td>\n",
       "      <td>NaN</td>\n",
       "      <td>NaN</td>\n",
       "      <td>NaN</td>\n",
       "      <td>NaN</td>\n",
       "    </tr>\n",
       "    <tr>\n",
       "      <th>23697</th>\n",
       "      <td>13</td>\n",
       "      <td>11475000.0</td>\n",
       "      <td>76.75</td>\n",
       "      <td>2017-03-28T00:00:00</td>\n",
       "      <td>2</td>\n",
       "      <td>3.00</td>\n",
       "      <td>17.0</td>\n",
       "      <td>NaN</td>\n",
       "      <td>12</td>\n",
       "      <td>NaN</td>\n",
       "      <td>False</td>\n",
       "      <td>False</td>\n",
       "      <td>23.30</td>\n",
       "      <td>2.0</td>\n",
       "      <td>Санкт-Петербург</td>\n",
       "      <td>39140.0</td>\n",
       "      <td>10364.0</td>\n",
       "      <td>2.0</td>\n",
       "      <td>173.0</td>\n",
       "      <td>3.0</td>\n",
       "      <td>196.0</td>\n",
       "      <td>602.0</td>\n",
       "    </tr>\n",
       "    <tr>\n",
       "      <th>23698</th>\n",
       "      <td>4</td>\n",
       "      <td>1350000.0</td>\n",
       "      <td>32.30</td>\n",
       "      <td>2017-07-21T00:00:00</td>\n",
       "      <td>1</td>\n",
       "      <td>2.50</td>\n",
       "      <td>5.0</td>\n",
       "      <td>12.3</td>\n",
       "      <td>1</td>\n",
       "      <td>NaN</td>\n",
       "      <td>False</td>\n",
       "      <td>False</td>\n",
       "      <td>9.00</td>\n",
       "      <td>NaN</td>\n",
       "      <td>поселок Новый Учхоз</td>\n",
       "      <td>NaN</td>\n",
       "      <td>NaN</td>\n",
       "      <td>NaN</td>\n",
       "      <td>NaN</td>\n",
       "      <td>NaN</td>\n",
       "      <td>NaN</td>\n",
       "      <td>NaN</td>\n",
       "    </tr>\n",
       "  </tbody>\n",
       "</table>\n",
       "<p>23699 rows × 22 columns</p>\n",
       "</div>"
      ],
      "text/plain": [
       "       total_images  last_price  total_area first_day_exposition  rooms  \\\n",
       "0                20  13000000.0      108.00  2019-03-07T00:00:00      3   \n",
       "1                 7   3350000.0       40.40  2018-12-04T00:00:00      1   \n",
       "2                10   5196000.0       56.00  2015-08-20T00:00:00      2   \n",
       "3                 0  64900000.0      159.00  2015-07-24T00:00:00      3   \n",
       "4                 2  10000000.0      100.00  2018-06-19T00:00:00      2   \n",
       "...             ...         ...         ...                  ...    ...   \n",
       "23694             9   9700000.0      133.81  2017-03-21T00:00:00      3   \n",
       "23695            14   3100000.0       59.00  2018-01-15T00:00:00      3   \n",
       "23696            18   2500000.0       56.70  2018-02-11T00:00:00      2   \n",
       "23697            13  11475000.0       76.75  2017-03-28T00:00:00      2   \n",
       "23698             4   1350000.0       32.30  2017-07-21T00:00:00      1   \n",
       "\n",
       "       ceiling_height  floors_total  living_area  floor is_apartment  studio  \\\n",
       "0                2.70          16.0         51.0      8          NaN   False   \n",
       "1                 NaN          11.0         18.6      1          NaN   False   \n",
       "2                 NaN           5.0         34.3      4          NaN   False   \n",
       "3                 NaN          14.0          NaN      9          NaN   False   \n",
       "4                3.03          14.0         32.0     13          NaN   False   \n",
       "...               ...           ...          ...    ...          ...     ...   \n",
       "23694            3.70           5.0         73.3      3          NaN   False   \n",
       "23695             NaN           5.0         38.0      4          NaN   False   \n",
       "23696             NaN           3.0         29.7      1          NaN   False   \n",
       "23697            3.00          17.0          NaN     12          NaN   False   \n",
       "23698            2.50           5.0         12.3      1          NaN   False   \n",
       "\n",
       "       open_plan  kitchen_area  balcony        locality_name  \\\n",
       "0          False         25.00      NaN      Санкт-Петербург   \n",
       "1          False         11.00      2.0       посёлок Шушары   \n",
       "2          False          8.30      0.0      Санкт-Петербург   \n",
       "3          False           NaN      0.0      Санкт-Петербург   \n",
       "4          False         41.00      NaN      Санкт-Петербург   \n",
       "...          ...           ...      ...                  ...   \n",
       "23694      False         13.83      NaN      Санкт-Петербург   \n",
       "23695      False          8.50      NaN                Тосно   \n",
       "23696      False           NaN      NaN     село Рождествено   \n",
       "23697      False         23.30      2.0      Санкт-Петербург   \n",
       "23698      False          9.00      NaN  поселок Новый Учхоз   \n",
       "\n",
       "       airports_nearest  cityCenters_nearest  parks_around3000  parks_nearest  \\\n",
       "0               18863.0              16028.0               1.0          482.0   \n",
       "1               12817.0              18603.0               0.0            NaN   \n",
       "2               21741.0              13933.0               1.0           90.0   \n",
       "3               28098.0               6800.0               2.0           84.0   \n",
       "4               31856.0               8098.0               2.0          112.0   \n",
       "...                 ...                  ...               ...            ...   \n",
       "23694           24665.0               4232.0               1.0          796.0   \n",
       "23695               NaN                  NaN               NaN            NaN   \n",
       "23696               NaN                  NaN               NaN            NaN   \n",
       "23697           39140.0              10364.0               2.0          173.0   \n",
       "23698               NaN                  NaN               NaN            NaN   \n",
       "\n",
       "       ponds_around3000  ponds_nearest  days_exposition  \n",
       "0                   2.0          755.0              NaN  \n",
       "1                   0.0            NaN             81.0  \n",
       "2                   2.0          574.0            558.0  \n",
       "3                   3.0          234.0            424.0  \n",
       "4                   1.0           48.0            121.0  \n",
       "...                 ...            ...              ...  \n",
       "23694               3.0          381.0              NaN  \n",
       "23695               NaN            NaN             45.0  \n",
       "23696               NaN            NaN              NaN  \n",
       "23697               3.0          196.0            602.0  \n",
       "23698               NaN            NaN              NaN  \n",
       "\n",
       "[23699 rows x 22 columns]"
      ]
     },
     "metadata": {},
     "output_type": "display_data"
    },
    {
     "name": "stdout",
     "output_type": "stream",
     "text": [
      "<class 'pandas.core.frame.DataFrame'>\n",
      "RangeIndex: 23699 entries, 0 to 23698\n",
      "Data columns (total 22 columns):\n",
      " #   Column                Non-Null Count  Dtype  \n",
      "---  ------                --------------  -----  \n",
      " 0   total_images          23699 non-null  int64  \n",
      " 1   last_price            23699 non-null  float64\n",
      " 2   total_area            23699 non-null  float64\n",
      " 3   first_day_exposition  23699 non-null  object \n",
      " 4   rooms                 23699 non-null  int64  \n",
      " 5   ceiling_height        14504 non-null  float64\n",
      " 6   floors_total          23613 non-null  float64\n",
      " 7   living_area           21796 non-null  float64\n",
      " 8   floor                 23699 non-null  int64  \n",
      " 9   is_apartment          2775 non-null   object \n",
      " 10  studio                23699 non-null  bool   \n",
      " 11  open_plan             23699 non-null  bool   \n",
      " 12  kitchen_area          21421 non-null  float64\n",
      " 13  balcony               12180 non-null  float64\n",
      " 14  locality_name         23650 non-null  object \n",
      " 15  airports_nearest      18157 non-null  float64\n",
      " 16  cityCenters_nearest   18180 non-null  float64\n",
      " 17  parks_around3000      18181 non-null  float64\n",
      " 18  parks_nearest         8079 non-null   float64\n",
      " 19  ponds_around3000      18181 non-null  float64\n",
      " 20  ponds_nearest         9110 non-null   float64\n",
      " 21  days_exposition       20518 non-null  float64\n",
      "dtypes: bool(2), float64(14), int64(3), object(3)\n",
      "memory usage: 3.7+ MB\n"
     ]
    },
    {
     "data": {
      "text/plain": [
       "array([[<AxesSubplot:title={'center':'total_images'}>,\n",
       "        <AxesSubplot:title={'center':'last_price'}>,\n",
       "        <AxesSubplot:title={'center':'total_area'}>,\n",
       "        <AxesSubplot:title={'center':'rooms'}>],\n",
       "       [<AxesSubplot:title={'center':'ceiling_height'}>,\n",
       "        <AxesSubplot:title={'center':'floors_total'}>,\n",
       "        <AxesSubplot:title={'center':'living_area'}>,\n",
       "        <AxesSubplot:title={'center':'floor'}>],\n",
       "       [<AxesSubplot:title={'center':'kitchen_area'}>,\n",
       "        <AxesSubplot:title={'center':'balcony'}>,\n",
       "        <AxesSubplot:title={'center':'airports_nearest'}>,\n",
       "        <AxesSubplot:title={'center':'cityCenters_nearest'}>],\n",
       "       [<AxesSubplot:title={'center':'parks_around3000'}>,\n",
       "        <AxesSubplot:title={'center':'parks_nearest'}>,\n",
       "        <AxesSubplot:title={'center':'ponds_around3000'}>,\n",
       "        <AxesSubplot:title={'center':'ponds_nearest'}>],\n",
       "       [<AxesSubplot:title={'center':'days_exposition'}>, <AxesSubplot:>,\n",
       "        <AxesSubplot:>, <AxesSubplot:>]], dtype=object)"
      ]
     },
     "metadata": {},
     "output_type": "display_data"
    },
    {
     "data": {
      "image/png": "[encoded data removed]",
      "text/plain": [
       "<Figure size 1080x1440 with 20 Axes>"
      ]
     },
     "metadata": {
      "needs_background": "light"
     },
     "output_type": "display_data"
    }
   ],
   "source": [
    "import pandas as pd\n",
    "import matplotlib.pyplot as plt\n",
    "\n",
    "pd.set_option('display.max_columns', None)  #пусть будут видны все столбцы при выводе на экран\n",
    "pd.options.mode.chained_assignment = None\n",
    "data = pd.read_csv('/datasets/real_estate_data.csv', sep='\\t')\n",
    "\n",
    "display(data)\n",
    "data.info()\n",
    "display(data.hist(figsize=(15, 20)))"
   ]
  },
  {
   "cell_type": "markdown",
   "metadata": {},
   "source": [
    "Изучив данные, было замечено большое количество пропусков в данных. Необходимо выяснить природу этих пропусков и либо заменить пропуски, либо удалить.  \n",
    "Заодно нужно поменять типы данных, например на datetime в first_day_exposition, а в некоторых столбцах достаточно целого числа int, а не float.  \n",
    "Также необходимо узнать, что за выбросы были обнаружены на гистограммах. Как минимум, значения rooms, ceiling_height вызывают подозрения.\n",
    "Далее нужно проверить данные на наличие дубликатов (явных и неявных)."
   ]
  },
  {
   "cell_type": "markdown",
   "metadata": {},
   "source": [
    "<div class=\"alert alert-success\">\n",
    "<h2> Комментарий ревьюера <a class=\"tocSkip\"> </h2>\n",
    "\n",
    "<b>Все супер!👍:</b> Отлично! Отмечены и пропуски, и неправильные типы данных, и выбросы с аномалиями. Молодец! Явные дубли лучше, конечно, проверить уже здесь"
   ]
  },
  {
   "cell_type": "markdown",
   "metadata": {},
   "source": [
    "### Предобработка данных"
   ]
  },
  {
   "cell_type": "code",
   "execution_count": 16,
   "metadata": {},
   "outputs": [
    {
     "data": {
      "text/plain": [
       "total_images                0\n",
       "last_price                  0\n",
       "total_area                  0\n",
       "first_day_exposition        0\n",
       "rooms                       0\n",
       "ceiling_height           9195\n",
       "floors_total               86\n",
       "living_area              1903\n",
       "floor                       0\n",
       "is_apartment            20924\n",
       "studio                      0\n",
       "open_plan                   0\n",
       "kitchen_area             2278\n",
       "balcony                 11519\n",
       "locality_name              49\n",
       "airports_nearest         5542\n",
       "cityCenters_nearest      5519\n",
       "parks_around3000         5518\n",
       "parks_nearest           15620\n",
       "ponds_around3000         5518\n",
       "ponds_nearest           14589\n",
       "days_exposition          3181\n",
       "dtype: int64"
      ]
     },
     "metadata": {},
     "output_type": "display_data"
    }
   ],
   "source": [
    "display(data.isna().sum())  #посмотрим кол-во пропусков в каждом столбце\n",
    "\n",
    "#Сначала разберемся с наиболее очевидными пропусками\n",
    "\n",
    "#если в объявлении не указана высота потолков, то можно использовать медиану по всем значеням\n",
    "#print(data['ceiling_height'].median())  - 2.65 м. медианная высота потолков\n",
    "data['ceiling_height'] = data['ceiling_height'].fillna(data['ceiling_height'].median())\n",
    "\n",
    "#если в объявлении не указано является ли апартаментами квартира, то скорее всего не является\n",
    "data['is_apartment'] = data['is_apartment'].fillna(False)  \n",
    "\n",
    "#если в объявлении не указано кол-во балконов, то скорее всего в квартире их нет\n",
    "data['balcony'] = data['balcony'].fillna(0) \n",
    "\n",
    "#если в объявлении не указан населенный пункт, то самостоятельно определить мы его не сможем\n",
    "data['locality_name'] = data['locality_name'].fillna('unknown') "
   ]
  },
  {
   "cell_type": "markdown",
   "metadata": {},
   "source": [
    "<div class=\"alert alert-warning\">\n",
    "    <h2> Комментарий ревьюера <a class=\"tocSkip\"> </h2>\n",
    "    \n",
    "<b>Небольшие замечания и рекомендации💡:</b> Стоит ли медианой заполять такое большое количетсов пропусков, как в стлбце с высотой потолков? Не приведет ли это к появлению аномалии в нем? Отражате ли оно действительность? Заполнение этажности здания исключило возможность того, что квартиира будет располагаться выше, чем количество этажей дома, но то скорее костыль для плохого решения, чем хорошее. Думаю, лучше эти пропуски удалить"
   ]
  },
  {
   "cell_type": "markdown",
   "metadata": {},
   "source": [
    "<div class=\"alert alert-info\">\n",
    "<b> Пропусков действительно много, удалять столько данных не хочется, не совсем понимаю, а на что тогда заменять? Потолки в целом плюс минус одинаковые в квартирах, тем более в дальнейшем исследовании цены мы не обращаемся к высоте потолка, да и параметр не самый важный я бы сказал. Пропусков в кол-ве этажей в доме немного, давай удалим, сильно на выборку не повлияет</b> \n",
    "</div>"
   ]
  },
  {
   "cell_type": "markdown",
   "metadata": {},
   "source": [
    "<div class=\"alert alert-warning\">\n",
    "    <h2> Комментарий ревьюера v2 <a class=\"tocSkip\"> </h2>\n",
    "    \n",
    "<b>Небольшие замечания и рекомендации💡:</b> Раз нет корректного метода для заполнения, тогда давай просто не будем заполнять, что уж делать? Решение по этажам поддерживаю!"
   ]
  },
  {
   "cell_type": "code",
   "execution_count": 17,
   "metadata": {},
   "outputs": [
    {
     "data": {
      "text/plain": [
       "total_images                0\n",
       "last_price                  0\n",
       "total_area                  0\n",
       "first_day_exposition        0\n",
       "rooms                       0\n",
       "ceiling_height              0\n",
       "floors_total                0\n",
       "living_area              1870\n",
       "floor                       0\n",
       "is_apartment                0\n",
       "studio                      0\n",
       "open_plan                   0\n",
       "kitchen_area             2231\n",
       "balcony                     0\n",
       "locality_name               0\n",
       "airports_nearest         5532\n",
       "cityCenters_nearest      5509\n",
       "parks_around3000         5508\n",
       "parks_nearest           15568\n",
       "ponds_around3000         5508\n",
       "ponds_nearest           14552\n",
       "days_exposition          3172\n",
       "dtype: int64"
      ]
     },
     "execution_count": 17,
     "metadata": {},
     "output_type": "execute_result"
    }
   ],
   "source": [
    "#если в объявлении не указано кол-во этажей в доме, то можно использовать медиану по всем квартирам\n",
    "#print(data['floors_total'].median())  - 9 эт. медианное кол-во этажей\n",
    "#data['floors_total'] = data['floors_total'].fillna(data['floors_total'].median())\n",
    "\n",
    "#однако, если этаж квартиры выше кол-ва этажей в доме, нужно их приравнять\n",
    "#for i in range(len(data['floors_total'])):\n",
    "#    if data['floors_total'][i] < data['floor'][i]:\n",
    "#        data['floors_total'][i] = data['floor'][i]\n",
    "\n",
    "data = data[~data['floors_total'].isna()]\n",
    "data.isna().sum()"
   ]
  },
  {
   "cell_type": "markdown",
   "metadata": {},
   "source": [
    "Это были достаточно простые пропуски. Эти данные заполнялись пользователями, и скорее всего были проигнорированы в описании квартиры.  \n",
    "Для высоты потолков взяли медианное значение по всем квартирам. Т.к. в данных присутствовали выбросы, среднее значение брать не стоило, однако кол-во этих выбросов было несущественно, так что медиана идеально подходит в данном случае.\n",
    "Для кол-ва этажей в доме также было решено использовать медиану, т.к. среднее арифметическое могло быть завышено из-за недвижимости в высоких зданиях."
   ]
  },
  {
   "cell_type": "code",
   "execution_count": 18,
   "metadata": {
    "scrolled": true
   },
   "outputs": [],
   "source": [
    "#так как данные по общей площади квартир не пропущены, то:\n",
    "#заменим пропуски в жилой площади, найдя среднее отношение по всем квартирам жилой площади к общей\n",
    "#далее это отношение нужно умножить на известную нам общую площадь квартиры\n",
    "data_living_area = data.query('living_area.isna()')\n",
    "data_living_area['living_area'] = data_living_area['total_area'] * (data['living_area'] / data['total_area']).mean()\n",
    "data['living_area'] = data['living_area'].fillna(round(data_living_area['living_area'], 2))\n",
    "\n",
    "#по аналогии сделаем для кухонной площади\n",
    "data_kitchen_area = data.query('kitchen_area.isna()')\n",
    "data_kitchen_area['kitchen_area'] = data_kitchen_area['total_area'] * (data['kitchen_area'] / data['total_area']).mean()\n",
    "data['kitchen_area'] = data['kitchen_area'].fillna(round(data_kitchen_area['kitchen_area'], 2))"
   ]
  },
  {
   "cell_type": "markdown",
   "metadata": {},
   "source": [
    "<div class=\"alert alert-success\">\n",
    "<h2> Комментарий ревьюера <a class=\"tocSkip\"> </h2>\n",
    "\n",
    "<b>Все супер!👍:</b> Согласен"
   ]
  },
  {
   "cell_type": "markdown",
   "metadata": {},
   "source": [
    "Поскольку данные заполняются вручную, не каждый продавец квартиры помнит, какая квадратура у жилой площади и площади кухни. А, возможно, просто ленится посмотреть в документах. В любом случае, найдя среднее отношение по всем квартирам и умножив на известную площадь квартиры, мы заполнили пропуски."
   ]
  },
  {
   "cell_type": "code",
   "execution_count": 19,
   "metadata": {},
   "outputs": [
    {
     "data": {
      "text/html": [
       "<div>\n",
       "<style scoped>\n",
       "    .dataframe tbody tr th:only-of-type {\n",
       "        vertical-align: middle;\n",
       "    }\n",
       "\n",
       "    .dataframe tbody tr th {\n",
       "        vertical-align: top;\n",
       "    }\n",
       "\n",
       "    .dataframe thead th {\n",
       "        text-align: right;\n",
       "    }\n",
       "</style>\n",
       "<table border=\"1\" class=\"dataframe\">\n",
       "  <thead>\n",
       "    <tr style=\"text-align: right;\">\n",
       "      <th></th>\n",
       "      <th>total_images</th>\n",
       "      <th>last_price</th>\n",
       "      <th>total_area</th>\n",
       "      <th>first_day_exposition</th>\n",
       "      <th>rooms</th>\n",
       "      <th>ceiling_height</th>\n",
       "      <th>floors_total</th>\n",
       "      <th>living_area</th>\n",
       "      <th>floor</th>\n",
       "      <th>is_apartment</th>\n",
       "      <th>studio</th>\n",
       "      <th>open_plan</th>\n",
       "      <th>kitchen_area</th>\n",
       "      <th>balcony</th>\n",
       "      <th>locality_name</th>\n",
       "      <th>airports_nearest</th>\n",
       "      <th>cityCenters_nearest</th>\n",
       "      <th>parks_around3000</th>\n",
       "      <th>parks_nearest</th>\n",
       "      <th>ponds_around3000</th>\n",
       "      <th>ponds_nearest</th>\n",
       "      <th>days_exposition</th>\n",
       "    </tr>\n",
       "  </thead>\n",
       "  <tbody>\n",
       "  </tbody>\n",
       "</table>\n",
       "</div>"
      ],
      "text/plain": [
       "Empty DataFrame\n",
       "Columns: [total_images, last_price, total_area, first_day_exposition, rooms, ceiling_height, floors_total, living_area, floor, is_apartment, studio, open_plan, kitchen_area, balcony, locality_name, airports_nearest, cityCenters_nearest, parks_around3000, parks_nearest, ponds_around3000, ponds_nearest, days_exposition]\n",
       "Index: []"
      ]
     },
     "metadata": {},
     "output_type": "display_data"
    },
    {
     "data": {
      "text/html": [
       "<div>\n",
       "<style scoped>\n",
       "    .dataframe tbody tr th:only-of-type {\n",
       "        vertical-align: middle;\n",
       "    }\n",
       "\n",
       "    .dataframe tbody tr th {\n",
       "        vertical-align: top;\n",
       "    }\n",
       "\n",
       "    .dataframe thead th {\n",
       "        text-align: right;\n",
       "    }\n",
       "</style>\n",
       "<table border=\"1\" class=\"dataframe\">\n",
       "  <thead>\n",
       "    <tr style=\"text-align: right;\">\n",
       "      <th></th>\n",
       "      <th>total_images</th>\n",
       "      <th>last_price</th>\n",
       "      <th>total_area</th>\n",
       "      <th>first_day_exposition</th>\n",
       "      <th>rooms</th>\n",
       "      <th>ceiling_height</th>\n",
       "      <th>floors_total</th>\n",
       "      <th>living_area</th>\n",
       "      <th>floor</th>\n",
       "      <th>is_apartment</th>\n",
       "      <th>studio</th>\n",
       "      <th>open_plan</th>\n",
       "      <th>kitchen_area</th>\n",
       "      <th>balcony</th>\n",
       "      <th>locality_name</th>\n",
       "      <th>airports_nearest</th>\n",
       "      <th>cityCenters_nearest</th>\n",
       "      <th>parks_around3000</th>\n",
       "      <th>parks_nearest</th>\n",
       "      <th>ponds_around3000</th>\n",
       "      <th>ponds_nearest</th>\n",
       "      <th>days_exposition</th>\n",
       "    </tr>\n",
       "  </thead>\n",
       "  <tbody>\n",
       "  </tbody>\n",
       "</table>\n",
       "</div>"
      ],
      "text/plain": [
       "Empty DataFrame\n",
       "Columns: [total_images, last_price, total_area, first_day_exposition, rooms, ceiling_height, floors_total, living_area, floor, is_apartment, studio, open_plan, kitchen_area, balcony, locality_name, airports_nearest, cityCenters_nearest, parks_around3000, parks_nearest, ponds_around3000, ponds_nearest, days_exposition]\n",
       "Index: []"
      ]
     },
     "metadata": {},
     "output_type": "display_data"
    },
    {
     "data": {
      "text/plain": [
       "total_images                0\n",
       "last_price                  0\n",
       "total_area                  0\n",
       "first_day_exposition        0\n",
       "rooms                       0\n",
       "ceiling_height              0\n",
       "floors_total                0\n",
       "living_area                 0\n",
       "floor                       0\n",
       "is_apartment                0\n",
       "studio                      0\n",
       "open_plan                   0\n",
       "kitchen_area                0\n",
       "balcony                     0\n",
       "locality_name               0\n",
       "airports_nearest         5532\n",
       "cityCenters_nearest      5509\n",
       "parks_around3000            0\n",
       "parks_nearest           15568\n",
       "ponds_around3000            0\n",
       "ponds_nearest           14552\n",
       "days_exposition          3172\n",
       "dtype: int64"
      ]
     },
     "metadata": {},
     "output_type": "display_data"
    }
   ],
   "source": [
    "#если в объявлении пропущено кол-во парков/водоемов в ближ. 3 км, то возможно таковых не имеется поблизости\n",
    "#возможно, в расст. до ближ. парка/водоема есть значения меньше 3000 и можно будет поставить 1 вместо 0\n",
    "#однако, в этих столбцах очень много пропусков, проверим есть ли вообще данные по расст. для пропусков в столбце кол-ва\n",
    "display(data.query('parks_around3000.isna() & ~parks_nearest.isna()'))  \n",
    "display(data.query('ponds_around3000.isna() & ~ponds_nearest.isna()'))\n",
    "\n",
    "data['parks_around3000'] = data['parks_around3000'].fillna(0) \n",
    "data['ponds_around3000'] = data['ponds_around3000'].fillna(0) \n",
    "\n",
    "display(data.isna().sum())  #проверка на пропуски"
   ]
  },
  {
   "cell_type": "markdown",
   "metadata": {},
   "source": [
    "<div class=\"alert alert-success\">\n",
    "<h2> Комментарий ревьюера <a class=\"tocSkip\"> </h2>\n",
    "\n",
    "<b>Все супер!👍:</b> Тоже согласен)"
   ]
  },
  {
   "cell_type": "markdown",
   "metadata": {},
   "source": [
    "Эти данные заполнялись автоматически на основе картографических данных. Пропущено примерно 2/3 данных о ближайших парках/водоемах. Практически любой населенный пункт в России основывался вокруг водоема, для Санкт-Петербурга - р. Нева, а также в культурной столице достаточно парков для прогулок. Очевидно, что данные либо удалены, либо карта дала сбой и не смогла выдать верные расчеты.  \n",
    "Предполагаю, что лучшим решением будет поставить 0 для кол-ва парков/водоемов в пределе 3 км., а в расстоянии оставить пропуски, т.к. объективно заменить мы их не можем.  \n",
    "По такому же приниципу, оставляем пропуски в airports_nearest и cityCenters_nearest.  \n",
    "days_exposition - длительность размещения объявления. Это важные данные, один из предметов для дальнейшего исследовательского анализа. Я считаю, что корректнее было бы оставить пропуски, так как, если их допустим заменить на среднее значение, то можно получить погрешность в 13%, что слишком много."
   ]
  },
  {
   "cell_type": "code",
   "execution_count": 20,
   "metadata": {
    "scrolled": true
   },
   "outputs": [
    {
     "name": "stdout",
     "output_type": "stream",
     "text": [
      "<class 'pandas.core.frame.DataFrame'>\n",
      "Int64Index: 23613 entries, 0 to 23698\n",
      "Data columns (total 22 columns):\n",
      " #   Column                Non-Null Count  Dtype         \n",
      "---  ------                --------------  -----         \n",
      " 0   total_images          23613 non-null  int64         \n",
      " 1   last_price            23613 non-null  float64       \n",
      " 2   total_area            23613 non-null  float64       \n",
      " 3   first_day_exposition  23613 non-null  datetime64[ns]\n",
      " 4   rooms                 23613 non-null  int64         \n",
      " 5   ceiling_height        23613 non-null  float64       \n",
      " 6   floors_total          23613 non-null  int64         \n",
      " 7   living_area           23613 non-null  float64       \n",
      " 8   floor                 23613 non-null  int64         \n",
      " 9   is_apartment          23613 non-null  bool          \n",
      " 10  studio                23613 non-null  bool          \n",
      " 11  open_plan             23613 non-null  bool          \n",
      " 12  kitchen_area          23613 non-null  float64       \n",
      " 13  balcony               23613 non-null  int64         \n",
      " 14  locality_name         23613 non-null  object        \n",
      " 15  airports_nearest      18081 non-null  Int64         \n",
      " 16  city_centers_nearest  18104 non-null  Int64         \n",
      " 17  parks_around3000      23613 non-null  int64         \n",
      " 18  parks_nearest         8045 non-null   Int64         \n",
      " 19  ponds_around3000      23613 non-null  int64         \n",
      " 20  ponds_nearest         9061 non-null   Int64         \n",
      " 21  days_exposition       20441 non-null  float64       \n",
      "dtypes: Int64(4), bool(3), datetime64[ns](1), float64(6), int64(7), object(1)\n",
      "memory usage: 3.8+ MB\n"
     ]
    }
   ],
   "source": [
    "#замена типов данных\n",
    "\n",
    "#дадим более \"питоновское\" имя одному столбцу\n",
    "data = data.rename(columns={'cityCenters_nearest': 'city_centers_nearest'})\n",
    "\n",
    "#там, где достаточно целого значения, а не дробного, поменяем на int\n",
    "data['floors_total'] = data['floors_total'].astype('int')\n",
    "data['balcony'] = data['balcony'].astype('int')\n",
    "data['parks_around3000'] = data['parks_around3000'].astype('int')\n",
    "data['ponds_around3000'] = data['ponds_around3000'].astype('int')\n",
    "data['airports_nearest'] = data['airports_nearest'].astype(\"Int64\")\n",
    "data['city_centers_nearest'] = data['city_centers_nearest'].astype(\"Int64\")\n",
    "data['parks_nearest'] = data['parks_nearest'].astype(\"Int64\")\n",
    "data['ponds_nearest'] = data['ponds_nearest'].astype(\"Int64\")\n",
    "#data['days_exposition'] = data['days_exposition'].astype(\"Int64\") не меняется тип\n",
    "\n",
    "#поменяем в столбце дня публикации тип на datetime\n",
    "data['first_day_exposition'] = pd.to_datetime(data['first_day_exposition'], format='%Y-%m-%dT%H:%M:%S')\n",
    "\n",
    "#проверка\n",
    "data.info()"
   ]
  },
  {
   "cell_type": "markdown",
   "metadata": {},
   "source": [
    "<div class=\"alert alert-warning\">\n",
    "    <h2> Комментарий ревьюера <a class=\"tocSkip\"> </h2>\n",
    "    \n",
    "<b>Небольшие замечания и рекомендации💡:</b> Поддерживаю предложенные изменения, особенно в плане правильного стиля написания столбцов. Вот только не все типы данных мы изменили - можно убрать копейки у цены"
   ]
  },
  {
   "cell_type": "markdown",
   "metadata": {},
   "source": [
    "<div class=\"alert alert-info\">\n",
    "<b> Изначально я убрал копейки, но потом, в устранении аномалий я решил что лучше цену перевести в млн. руб., и для графиков удобнее будет, а там уже пусть тогда float будет, теперь знаки после запятой это не копейки, а тысячи рублей) </b> \n",
    "</div>"
   ]
  },
  {
   "cell_type": "markdown",
   "metadata": {},
   "source": [
    "<div class=\"alert alert-success\">\n",
    "<h2> Комментарий ревьюера v2 <a class=\"tocSkip\"> </h2>\n",
    "\n",
    "<b>Все супер!👍:</b> Принимается!)"
   ]
  },
  {
   "cell_type": "markdown",
   "metadata": {},
   "source": [
    "Тут достаточно очевидно, что не бывает, например 2.5 балконов, поэтому этим значениям и кол-ву этажей логично дать целочисленный тип.  \n",
    "Расстояние также у нас предоставлено в метрах, поэтому знаки после запятой не потребуются.  \n",
    "Для дальнейшего исследования нам понадобится изучать дату публикации, поэтому datetime must have."
   ]
  },
  {
   "cell_type": "code",
   "execution_count": 21,
   "metadata": {},
   "outputs": [
    {
     "name": "stdout",
     "output_type": "stream",
     "text": [
      "Осталось уникальных значений: 306\n"
     ]
    }
   ],
   "source": [
    "#поиск дубликатов\n",
    "data.duplicated().sum() \n",
    "\n",
    "#заменим посёлки на поселки\n",
    "data['locality_name_perfect'] = data['locality_name'].str.replace(\"посёлок\", \"поселок\")\n",
    "        \n",
    "#уберем все типы населенных пунктов и оставим только названия \n",
    "locality_type = ['городской поселок ', 'деревня ', 'коттеджный поселок ', 'поселок ', 'городского типа ', \n",
    "                'при железнодорожной станции ', 'станции ', 'садоводческое некоммерческое товарищество ',\n",
    "                'садовое товарищество ', 'село ']\n",
    "data['locality_name_perfect'] = data['locality_name_perfect'].replace(locality_type, '', regex=True)\n",
    "\n",
    "#проверка\n",
    "print('Осталось уникальных значений:', data['locality_name_perfect'].nunique())"
   ]
  },
  {
   "cell_type": "markdown",
   "metadata": {},
   "source": [
    "<div class=\"alert alert-warning\">\n",
    "    <h2> Комментарий ревьюера <a class=\"tocSkip\"> </h2>\n",
    "    \n",
    "<b>Небольшие замечания и рекомендации💡:</b> Поддерживаю, но когда мы удалили названия типов поселений, мы не объеиднили ли разыне поселения с одним названием? Типа \"деревня Д\" и \"село Д\"?"
   ]
  },
  {
   "cell_type": "markdown",
   "metadata": {},
   "source": [
    "<div class=\"alert alert-info\">\n",
    "<b> Возможно и объединили, но вручную нереально было это отсмотреть, а над автоматизацией этого процесса я убил не один час времени, постоянно что-то не получалось. Хотя сейчас все так легко смотрится) В общем думаю, таких там вариантов было немного, поэтому и на исследование оно нам никак не должно сильно повлиять</b> \n",
    "</div>"
   ]
  },
  {
   "cell_type": "markdown",
   "metadata": {},
   "source": [
    "<div class=\"alert alert-warning\">\n",
    "    <h2> Комментарий ревьюера v2 <a class=\"tocSkip\"> </h2>\n",
    "    \n",
    "<b>Небольшие замечания и рекомендации💡:</b> Тогда совет на будущее: названий типов поселений нужно не удалять, а добавлят ьв новый столбец. Тогда далее можно будет исключить обозначенную выше проблему"
   ]
  },
  {
   "cell_type": "markdown",
   "metadata": {},
   "source": [
    "Явных дубликатов обнаружено не было, значит надо поискать неявные.  \n",
    "Изначально было 365 уникальных значений, после их изучения было установлено, что множество разных названий появляется из-за разницы в букве \"е\" / \"ё\" в наименовании \"поселок\". После приведения всех к общему виду с буквой \"е\" стало 331 уник. значение.    \n",
    "Однако этого недостаточно. Например, поселок городского типа и городской поселок одно и то же. Чтобы не искать вручную все такие совпадения, в новом столбце locality_name_perfect оставим только названия населенных пунктов. Если вдруг нам понадобится узнать, что это за тип насел. пункта, то мы сможем обратиться к исходному столбцу locality_name, там будет полное наименование.  \n",
    "После преобразований осталось 306 уникальных названий."
   ]
  },
  {
   "cell_type": "code",
   "execution_count": 22,
   "metadata": {},
   "outputs": [
    {
     "data": {
      "image/png": "[encoded data removed]",
      "text/plain": [
       "<Figure size 432x288 with 1 Axes>"
      ]
     },
     "metadata": {
      "needs_background": "light"
     },
     "output_type": "display_data"
    }
   ],
   "source": [
    "#устранение аномалий\n",
    "\n",
    "#скорректируем высоту потолков у ошибочно заданных\n",
    "data.loc[data['ceiling_height'] >= 20, 'ceiling_height'] = data.loc[data['ceiling_height'] >= 20, 'ceiling_height'] / 10\n",
    "\n",
    "#оставим \"нормальные потолки\"\n",
    "data = data[(data['ceiling_height'] >= 2) & (data['ceiling_height'] <= 4)]\n",
    "\n",
    "#посмотрим на получившееся распределение\n",
    "data['ceiling_height'].hist()\n",
    "plt.show()\n",
    "\n",
    "#скорректируем цену подозрительно дешевой квартире\n",
    "data['last_price'][8793] = 12190000\n",
    "\n",
    "#пусть цена будет в млн. руб\n",
    "data['last_price'] = data['last_price'] / 1000000\n",
    "\n",
    "#заменим значения в квартирах с 0 комнатами\n",
    "#display(data.query('rooms == 0').sort_values(by='total_area').tail(10))\n",
    "data.loc[(data['rooms'] == 0) & (data['total_area'] < 100), 'rooms'] = \\\n",
    "data.loc[(data['rooms'] == 0) & (data['total_area'] < 100), 'rooms'] = 1\n",
    "data.drop(labels = [19392], axis=0, inplace = True)\n",
    "\n",
    "#раскомментировать при необходимости\n",
    "#display(data.sort_values(by='last_price').tail(10))\n",
    "#display(data.sort_values(by='total_area').tail(10))\n",
    "#display(data.sort_values(by='rooms').tail(10))\n",
    "#display(data.query('rooms == 0').sort_values(by='total_area').tail(10))"
   ]
  },
  {
   "cell_type": "markdown",
   "metadata": {},
   "source": [
    "В высоте потолков были выбросы. Скорее всего, там где указано 25 м - это высота 2.5 м, природа этих аномалий ясна, ошибка пользователя при указании значений, поэтому для этих значений можно выполнить деление на 10.  \n",
    "Но даже высота потолков в 4 м уже выглядит странно, а мы имеем дело с квартирами, не с частными домами, тут застройка, как правило типовая. Таких значений немного, всего 53 и думаю, лучшим решением будет избавиться от сверхвысоких потолков.  \n",
    "От сверхнизких потолков тоже лучше избавиться, всего 3 значения с высотой менее 2 м.  \n",
    "Была обнаружена квартира с ценой 12190 за 2-х комн. кв. с площадью 109 квадр метров. Предполагаю, что такой ценник был выставлен нарочно, можно сказать \"кликбейт\", люди гораздо чаще обратят внимание на это и если ставить фильтр цен, то такая квартира будет первой в выдаче по дешевости. Продавцу удался этот трюк и квартира была продана за 8 дней. А в реальности на ценнике на 3 нуля должно быть больше, т.е. равна 12190000. Однако, для дальнейшего удобства, пусть цены квартир будут отображаться в млн. руб., поэтому поделим значения на 1 млн.  \n",
    "Было обнаружено, что в 196 квартирах было указано 0 комнат, в большинстве своем их площадь не превышает 50 кв. м., а у 3-х значений более 50 кв. м. указано, что они являются студиями, поэтому логично будет поставить им значение 1 комнаты. Остается одна квартира с общей площадью 371 кв. м., т.к. комнат там может быть сколько угодно, полагаю, что лучшим решением будет удалить данное значение.  \n",
    "Изначально, на гистограммах показались подозрительными выбросами в total_area, rooms. При более детальном изучении, можно сообщить следующее, что самые дорогие квартиры имеют большое кол-во комнат и соотвественно большую площадь. Скорее всего, это квартиры в доходных домах в историческом центре Санкт-Петербурга или инвестиционная недвижимость. "
   ]
  },
  {
   "cell_type": "markdown",
   "metadata": {},
   "source": [
    "<div class=\"alert alert-success\">\n",
    "<h2> Комментарий ревьюера <a class=\"tocSkip\"> </h2>\n",
    "\n",
    "<b>Все супер!👍:</b> Отличная работа!"
   ]
  },
  {
   "cell_type": "markdown",
   "metadata": {},
   "source": [
    "### Посчитайте и добавьте в таблицу новые столбцы"
   ]
  },
  {
   "cell_type": "code",
   "execution_count": 23,
   "metadata": {},
   "outputs": [
    {
     "data": {
      "text/html": [
       "<div>\n",
       "<style scoped>\n",
       "    .dataframe tbody tr th:only-of-type {\n",
       "        vertical-align: middle;\n",
       "    }\n",
       "\n",
       "    .dataframe tbody tr th {\n",
       "        vertical-align: top;\n",
       "    }\n",
       "\n",
       "    .dataframe thead th {\n",
       "        text-align: right;\n",
       "    }\n",
       "</style>\n",
       "<table border=\"1\" class=\"dataframe\">\n",
       "  <thead>\n",
       "    <tr style=\"text-align: right;\">\n",
       "      <th></th>\n",
       "      <th>total_images</th>\n",
       "      <th>last_price</th>\n",
       "      <th>total_area</th>\n",
       "      <th>first_day_exposition</th>\n",
       "      <th>rooms</th>\n",
       "      <th>ceiling_height</th>\n",
       "      <th>floors_total</th>\n",
       "      <th>living_area</th>\n",
       "      <th>floor</th>\n",
       "      <th>is_apartment</th>\n",
       "      <th>studio</th>\n",
       "      <th>open_plan</th>\n",
       "      <th>kitchen_area</th>\n",
       "      <th>balcony</th>\n",
       "      <th>locality_name</th>\n",
       "      <th>airports_nearest</th>\n",
       "      <th>city_centers_nearest</th>\n",
       "      <th>parks_around3000</th>\n",
       "      <th>parks_nearest</th>\n",
       "      <th>ponds_around3000</th>\n",
       "      <th>ponds_nearest</th>\n",
       "      <th>days_exposition</th>\n",
       "      <th>locality_name_perfect</th>\n",
       "      <th>price_square_meter</th>\n",
       "      <th>weekday</th>\n",
       "      <th>month</th>\n",
       "      <th>year</th>\n",
       "      <th>floor_type</th>\n",
       "      <th>city_centers_nearest_km</th>\n",
       "    </tr>\n",
       "  </thead>\n",
       "  <tbody>\n",
       "    <tr>\n",
       "      <th>0</th>\n",
       "      <td>20</td>\n",
       "      <td>13.000</td>\n",
       "      <td>108.0</td>\n",
       "      <td>2019-03-07</td>\n",
       "      <td>3</td>\n",
       "      <td>2.70</td>\n",
       "      <td>16</td>\n",
       "      <td>51.00</td>\n",
       "      <td>8</td>\n",
       "      <td>False</td>\n",
       "      <td>False</td>\n",
       "      <td>False</td>\n",
       "      <td>25.00</td>\n",
       "      <td>0</td>\n",
       "      <td>Санкт-Петербург</td>\n",
       "      <td>18863</td>\n",
       "      <td>16028</td>\n",
       "      <td>1</td>\n",
       "      <td>482</td>\n",
       "      <td>2</td>\n",
       "      <td>755</td>\n",
       "      <td>NaN</td>\n",
       "      <td>Санкт-Петербург</td>\n",
       "      <td>120.370370</td>\n",
       "      <td>3</td>\n",
       "      <td>3</td>\n",
       "      <td>2019</td>\n",
       "      <td>другой</td>\n",
       "      <td>16</td>\n",
       "    </tr>\n",
       "    <tr>\n",
       "      <th>1</th>\n",
       "      <td>7</td>\n",
       "      <td>3.350</td>\n",
       "      <td>40.4</td>\n",
       "      <td>2018-12-04</td>\n",
       "      <td>1</td>\n",
       "      <td>2.65</td>\n",
       "      <td>11</td>\n",
       "      <td>18.60</td>\n",
       "      <td>1</td>\n",
       "      <td>False</td>\n",
       "      <td>False</td>\n",
       "      <td>False</td>\n",
       "      <td>11.00</td>\n",
       "      <td>2</td>\n",
       "      <td>посёлок Шушары</td>\n",
       "      <td>12817</td>\n",
       "      <td>18603</td>\n",
       "      <td>0</td>\n",
       "      <td>&lt;NA&gt;</td>\n",
       "      <td>0</td>\n",
       "      <td>&lt;NA&gt;</td>\n",
       "      <td>81.0</td>\n",
       "      <td>Шушары</td>\n",
       "      <td>82.920792</td>\n",
       "      <td>1</td>\n",
       "      <td>12</td>\n",
       "      <td>2018</td>\n",
       "      <td>первый</td>\n",
       "      <td>18</td>\n",
       "    </tr>\n",
       "    <tr>\n",
       "      <th>2</th>\n",
       "      <td>10</td>\n",
       "      <td>5.196</td>\n",
       "      <td>56.0</td>\n",
       "      <td>2015-08-20</td>\n",
       "      <td>2</td>\n",
       "      <td>2.65</td>\n",
       "      <td>5</td>\n",
       "      <td>34.30</td>\n",
       "      <td>4</td>\n",
       "      <td>False</td>\n",
       "      <td>False</td>\n",
       "      <td>False</td>\n",
       "      <td>8.30</td>\n",
       "      <td>0</td>\n",
       "      <td>Санкт-Петербург</td>\n",
       "      <td>21741</td>\n",
       "      <td>13933</td>\n",
       "      <td>1</td>\n",
       "      <td>90</td>\n",
       "      <td>2</td>\n",
       "      <td>574</td>\n",
       "      <td>558.0</td>\n",
       "      <td>Санкт-Петербург</td>\n",
       "      <td>92.785714</td>\n",
       "      <td>3</td>\n",
       "      <td>8</td>\n",
       "      <td>2015</td>\n",
       "      <td>другой</td>\n",
       "      <td>13</td>\n",
       "    </tr>\n",
       "    <tr>\n",
       "      <th>3</th>\n",
       "      <td>0</td>\n",
       "      <td>64.900</td>\n",
       "      <td>159.0</td>\n",
       "      <td>2015-07-24</td>\n",
       "      <td>3</td>\n",
       "      <td>2.65</td>\n",
       "      <td>14</td>\n",
       "      <td>89.83</td>\n",
       "      <td>9</td>\n",
       "      <td>False</td>\n",
       "      <td>False</td>\n",
       "      <td>False</td>\n",
       "      <td>29.78</td>\n",
       "      <td>0</td>\n",
       "      <td>Санкт-Петербург</td>\n",
       "      <td>28098</td>\n",
       "      <td>6800</td>\n",
       "      <td>2</td>\n",
       "      <td>84</td>\n",
       "      <td>3</td>\n",
       "      <td>234</td>\n",
       "      <td>424.0</td>\n",
       "      <td>Санкт-Петербург</td>\n",
       "      <td>408.176101</td>\n",
       "      <td>4</td>\n",
       "      <td>7</td>\n",
       "      <td>2015</td>\n",
       "      <td>другой</td>\n",
       "      <td>6</td>\n",
       "    </tr>\n",
       "    <tr>\n",
       "      <th>4</th>\n",
       "      <td>2</td>\n",
       "      <td>10.000</td>\n",
       "      <td>100.0</td>\n",
       "      <td>2018-06-19</td>\n",
       "      <td>2</td>\n",
       "      <td>3.03</td>\n",
       "      <td>14</td>\n",
       "      <td>32.00</td>\n",
       "      <td>13</td>\n",
       "      <td>False</td>\n",
       "      <td>False</td>\n",
       "      <td>False</td>\n",
       "      <td>41.00</td>\n",
       "      <td>0</td>\n",
       "      <td>Санкт-Петербург</td>\n",
       "      <td>31856</td>\n",
       "      <td>8098</td>\n",
       "      <td>2</td>\n",
       "      <td>112</td>\n",
       "      <td>1</td>\n",
       "      <td>48</td>\n",
       "      <td>121.0</td>\n",
       "      <td>Санкт-Петербург</td>\n",
       "      <td>100.000000</td>\n",
       "      <td>1</td>\n",
       "      <td>6</td>\n",
       "      <td>2018</td>\n",
       "      <td>другой</td>\n",
       "      <td>8</td>\n",
       "    </tr>\n",
       "  </tbody>\n",
       "</table>\n",
       "</div>"
      ],
      "text/plain": [
       "   total_images  last_price  total_area first_day_exposition  rooms  \\\n",
       "0            20      13.000       108.0           2019-03-07      3   \n",
       "1             7       3.350        40.4           2018-12-04      1   \n",
       "2            10       5.196        56.0           2015-08-20      2   \n",
       "3             0      64.900       159.0           2015-07-24      3   \n",
       "4             2      10.000       100.0           2018-06-19      2   \n",
       "\n",
       "   ceiling_height  floors_total  living_area  floor  is_apartment  studio  \\\n",
       "0            2.70            16        51.00      8         False   False   \n",
       "1            2.65            11        18.60      1         False   False   \n",
       "2            2.65             5        34.30      4         False   False   \n",
       "3            2.65            14        89.83      9         False   False   \n",
       "4            3.03            14        32.00     13         False   False   \n",
       "\n",
       "   open_plan  kitchen_area  balcony    locality_name  airports_nearest  \\\n",
       "0      False         25.00        0  Санкт-Петербург             18863   \n",
       "1      False         11.00        2   посёлок Шушары             12817   \n",
       "2      False          8.30        0  Санкт-Петербург             21741   \n",
       "3      False         29.78        0  Санкт-Петербург             28098   \n",
       "4      False         41.00        0  Санкт-Петербург             31856   \n",
       "\n",
       "   city_centers_nearest  parks_around3000  parks_nearest  ponds_around3000  \\\n",
       "0                 16028                 1            482                 2   \n",
       "1                 18603                 0           <NA>                 0   \n",
       "2                 13933                 1             90                 2   \n",
       "3                  6800                 2             84                 3   \n",
       "4                  8098                 2            112                 1   \n",
       "\n",
       "   ponds_nearest  days_exposition locality_name_perfect  price_square_meter  \\\n",
       "0            755              NaN       Санкт-Петербург          120.370370   \n",
       "1           <NA>             81.0                Шушары           82.920792   \n",
       "2            574            558.0       Санкт-Петербург           92.785714   \n",
       "3            234            424.0       Санкт-Петербург          408.176101   \n",
       "4             48            121.0       Санкт-Петербург          100.000000   \n",
       "\n",
       "   weekday  month  year floor_type  city_centers_nearest_km  \n",
       "0        3      3  2019     другой                       16  \n",
       "1        1     12  2018     первый                       18  \n",
       "2        3      8  2015     другой                       13  \n",
       "3        4      7  2015     другой                        6  \n",
       "4        1      6  2018     другой                        8  "
      ]
     },
     "metadata": {},
     "output_type": "display_data"
    }
   ],
   "source": [
    "#цена за 1 квадратный метр в тыс. руб.\n",
    "data['price_square_meter'] = data['last_price'] / data['total_area'] * 1000\n",
    "\n",
    "#день недели, месяц, год публикации объявления\n",
    "data['weekday'] = data['first_day_exposition'].dt.weekday\n",
    "data['month'] = data['first_day_exposition'].dt.month\n",
    "data['year'] = data['first_day_exposition'].dt.year\n",
    "\n",
    "#тип этажа квартиры\n",
    "def floor_type(row):\n",
    "    if row['floor'] == 1:\n",
    "        return 'первый'\n",
    "    elif row['floor'] == row['floors_total']:\n",
    "        return 'последний'\n",
    "    else:\n",
    "        return 'другой'\n",
    "\n",
    "data['floor_type'] = data.apply(floor_type, axis=1)\n",
    "\n",
    "#расстояние до центра города в километрах\n",
    "data['city_centers_nearest_km'] = (data['city_centers_nearest'] / 1000).astype(\"Int64\")\n",
    "\n",
    "#проверка\n",
    "display(data.head())"
   ]
  },
  {
   "cell_type": "markdown",
   "metadata": {},
   "source": [
    "Цену за 1 кв. метр была рассчитана делением цены на общую площадь в квадр. метрах. Стоимость квартиры удобнее видеть в млн. руб ., однако цену за 1 кв. метр обычно отображают в тыс. руб.  \n",
    "Добавили новые столбцы с днем недели, месяцем и годом публикации объявления.  \n",
    "При определении типа этажа возникает вопрос, что делать с квартирами в одноэтажных домах. Они подходят под условие и первого, и  последнего этажа. Но лучше поставить первый этаж, т.к. думаю под последним этажом подразумевается квартира на более высоком этаже.  \n",
    "Также у нас есть столбец с расстоянием до центра города в км.  "
   ]
  },
  {
   "cell_type": "markdown",
   "metadata": {},
   "source": [
    "<div class=\"alert alert-success\">\n",
    "<h2> Комментарий ревьюера <a class=\"tocSkip\"> </h2>\n",
    "\n",
    "<b>Все супер!👍:</b> Столбцы добавлены верно!"
   ]
  },
  {
   "cell_type": "markdown",
   "metadata": {},
   "source": [
    "### Проведите исследовательский анализ данных"
   ]
  },
  {
   "cell_type": "markdown",
   "metadata": {},
   "source": [
    "<div class=\"alert alert-warning\">\n",
    "    <h2> Комментарий ревьюера <a class=\"tocSkip\"> </h2>\n",
    "    \n",
    "<b>Небольшие замечания и рекомендации💡:</b> Ух ,снова будем скроллить? Или подразобьем код?"
   ]
  },
  {
   "cell_type": "markdown",
   "metadata": {},
   "source": [
    "<div class=\"alert alert-info\">\n",
    "<b> :) </b> \n",
    "</div>"
   ]
  },
  {
   "cell_type": "markdown",
   "metadata": {},
   "source": [
    "<div class=\"alert alert-warning\">\n",
    "    <h2> Комментарий ревьюера v2 <a class=\"tocSkip\"> </h2>\n",
    "    \n",
    "<b>Небольшие замечания и рекомендации💡:</b> Выше уже разобрались с этим"
   ]
  },
  {
   "cell_type": "code",
   "execution_count": 24,
   "metadata": {},
   "outputs": [
    {
     "data": {
      "image/png": "[encoded data removed]",
      "text/plain": [
       "<Figure size 432x288 with 1 Axes>"
      ]
     },
     "metadata": {
      "needs_background": "light"
     },
     "output_type": "display_data"
    },
    {
     "data": {
      "image/png": "[encoded data removed]",
      "text/plain": [
       "<Figure size 432x288 with 1 Axes>"
      ]
     },
     "metadata": {
      "needs_background": "light"
     },
     "output_type": "display_data"
    },
    {
     "data": {
      "image/png": "[encoded data removed]",
      "text/plain": [
       "<Figure size 432x288 with 1 Axes>"
      ]
     },
     "metadata": {
      "needs_background": "light"
     },
     "output_type": "display_data"
    },
    {
     "data": {
      "image/png": "[encoded data removed]",
      "text/plain": [
       "<Figure size 432x288 with 1 Axes>"
      ]
     },
     "metadata": {
      "needs_background": "light"
     },
     "output_type": "display_data"
    },
    {
     "data": {
      "image/png": "[encoded data removed]",
      "text/plain": [
       "<Figure size 432x288 with 1 Axes>"
      ]
     },
     "metadata": {
      "needs_background": "light"
     },
     "output_type": "display_data"
    },
    {
     "data": {
      "image/png": "[encoded data removed]",
      "text/plain": [
       "<Figure size 432x288 with 1 Axes>"
      ]
     },
     "metadata": {
      "needs_background": "light"
     },
     "output_type": "display_data"
    },
    {
     "data": {
      "image/png": "[encoded data removed]",
      "text/plain": [
       "<Figure size 432x288 with 1 Axes>"
      ]
     },
     "metadata": {
      "needs_background": "light"
     },
     "output_type": "display_data"
    },
    {
     "data": {
      "image/png": "[encoded data removed]",
      "text/plain": [
       "<Figure size 432x288 with 1 Axes>"
      ]
     },
     "metadata": {
      "needs_background": "light"
     },
     "output_type": "display_data"
    },
    {
     "data": {
      "image/png": "[encoded data removed]",
      "text/plain": [
       "<Figure size 432x288 with 1 Axes>"
      ]
     },
     "metadata": {
      "needs_background": "light"
     },
     "output_type": "display_data"
    },
    {
     "data": {
      "image/png": "[encoded data removed]",
      "text/plain": [
       "<Figure size 432x288 with 1 Axes>"
      ]
     },
     "metadata": {
      "needs_background": "light"
     },
     "output_type": "display_data"
    },
    {
     "data": {
      "image/png": "[encoded data removed]",
      "text/plain": [
       "<Figure size 432x288 with 1 Axes>"
      ]
     },
     "metadata": {
      "needs_background": "light"
     },
     "output_type": "display_data"
    },
    {
     "data": {
      "image/png": "[encoded data removed]",
      "text/plain": [
       "<Figure size 432x288 with 1 Axes>"
      ]
     },
     "metadata": {
      "needs_background": "light"
     },
     "output_type": "display_data"
    },
    {
     "data": {
      "image/png": "[encoded data removed]",
      "text/plain": [
       "<Figure size 432x288 with 1 Axes>"
      ]
     },
     "metadata": {
      "needs_background": "light"
     },
     "output_type": "display_data"
    },
    {
     "data": {
      "image/png": "[encoded data removed]",
      "text/plain": [
       "<Figure size 432x288 with 1 Axes>"
      ]
     },
     "metadata": {
      "needs_background": "light"
     },
     "output_type": "display_data"
    }
   ],
   "source": [
    "#общая площадь\n",
    "data['total_area'].plot(kind='hist', bins=30, range=(0, 300), grid=True, legend=True)\n",
    "plt.show()\n",
    "\n",
    "#жилая площадь\n",
    "data['living_area'].plot(kind='hist', bins=30, range=(0, 200), grid=True, legend=True)\n",
    "plt.show()\n",
    "\n",
    "#площадь кухни\n",
    "data['kitchen_area'].plot(kind='hist', bins=30, range=(0, 50), grid=True, legend=True)\n",
    "plt.show()\n",
    "\n",
    "#цена\n",
    "data['last_price'].plot(kind='hist', bins=30, range=(0, 20), grid=True, legend=True)\n",
    "plt.show()\n",
    "#data.query('20000000 < last_price').count()\n",
    "\n",
    "#кол-во комнат\n",
    "data['rooms'].plot(kind='hist', bins=10, range=(0, 10), grid=True, legend=True)\n",
    "plt.show()\n",
    "\n",
    "#высота потолков\n",
    "data['ceiling_height'].plot(kind='hist', bins=20, range=(2, 4), grid=True, legend=True)\n",
    "plt.show()\n",
    "\n",
    "#этаж\n",
    "data['floor'].plot(kind='hist', bins=30, range=(1, 30), grid=True, legend=True)\n",
    "plt.show()\n",
    "\n",
    "#тип этажа\n",
    "data['floor_type'].hist()\n",
    "plt.show()\n",
    "\n",
    "#общее количество этажей в доме;\n",
    "data['floors_total'].plot(kind='hist', bins=35, range=(1, 35), grid=True, legend=True)\n",
    "plt.show()\n",
    "\n",
    "#расстояние до центра города в метрах\n",
    "data['city_centers_nearest'].plot(kind='hist', bins=30, grid=True, legend=True)\n",
    "plt.show()\n",
    "\n",
    "#расстояние до до ближайшего аэропорта\n",
    "data['airports_nearest'].plot(kind='hist', bins=30, grid=True, legend=True)\n",
    "plt.show()\n",
    "\n",
    "#расстояние до до ближайшего парка\n",
    "data['parks_nearest'].plot(kind='hist', bins=30, grid=True, legend=True)\n",
    "plt.show()\n",
    "\n",
    "#день публикации объявления\n",
    "data['weekday'].value_counts().sort_index().plot(kind='bar', grid=True, legend=True)\n",
    "plt.show()\n",
    "\n",
    "#месяц публикации объявления\n",
    "data['month'].value_counts().sort_index().plot(kind='bar', grid=True, legend=True)\n",
    "plt.show()"
   ]
  },
  {
   "cell_type": "markdown",
   "metadata": {},
   "source": [
    "По общей площади можно сделать вывод, что основная масса квартир имеет квадратуру от 30 до 50 м. На гистограмме мы наблюдаем распределение Пуассона.  \n",
    "В жилой площади мы наблюдаем 2 скачка на графике, первый около 15 кв. м., другой около 30 кв. м. Думаю, это можно связать с жилой площадью в 1-к и 2-к квартирах.  \n",
    "Кухни по гистограмме обычно имеют площадь 5-12 кв. м.  \n",
    "В целом, большинство цен на недвижимость колеблется в основном от 3 до 5 млн. руб.  \n",
    "*Однако все эти наблюдения выше объединяет то, что у них имеется длинный хвост (пуассон. распред.), можно это легко объяснить тем, что в выборке есть элитные квартиры с большой площадью и соответственно высокой ценой, что и создает хвост на графике.*  \n",
    "По потолкам все достаточно очевидно, 2.6м стандартная высота потолков, плюс-минус 15 см. охватывают большинство выборки.  \n",
    "Основная масса квартир находятся с 1-го по 5-й этаж.  \n",
    "Достаточно очевидно, что большинство квартир находятся ни на первом, ни на последнем этаже. Но последних этажей чуть больше, чем на первом.  \n",
    "Преобладают пятиэтажки, далее идут девятиэтажки. Жаль, что нет в данных типа дома, скорее всего это были бы \"панельки\".  \n",
    "По графикам пиковые значения расстояния до центра города 11 - 15 км. А до аэропорта 12 - 25 км, . Но не забываем, что часть данных отсутствовала.  \n",
    "Выяснено, что в пределах 800 м. у основной массы квартир находится парк. Этому можно порадоваться, но у нас не было 2/3 исходных данных. Возможно у этих квартир как раз и нет парка поблизости, и тогда наш график выглядел бы совсем по другому.  \n",
    "В практически любой будний день объявления публикуются в 2 раза чаще, чем в любой из выходных дней. Наверное, можно объяснить это тем, что большинство объявлений публикуются риелторами, а они в свою очередь работают по будням.  \n",
    "С месяцами наблюдения еще интереснее. Январь, очевидно проседает из-за новогодних праздников, а с февраля по апрель идет пик публикаций. Однако, в мае, значение по графику самое низкое, есть праздники в начале месяца, но кол-во выходных дней явно меньше, чем в январе. Тенденция не совсем понятна, но факт есть факт. Далее, с наступлением лета и до конца осени идет плавный рост новых публикаций. Декабрь опять проседает почти до январских значений, я бы назвал декабрь \"полумесяцем\". Первую половину все как обычно, а во второй половине уже идет подготовка к Новому Году, покупка подарков и пр. В общем, не до продаж квартир."
   ]
  },
  {
   "cell_type": "markdown",
   "metadata": {},
   "source": [
    "<div class=\"alert alert-warning\">\n",
    "    <h2> Комментарий ревьюера <a class=\"tocSkip\"> </h2>\n",
    "    \n",
    "<b>Небольшие замечания и рекомендации💡:</b> Я бы дополнил вывод данными о среднем и медиане, что скжаешь? Можно другие численные значения подключить, если у тебя будет желание"
   ]
  },
  {
   "cell_type": "markdown",
   "metadata": {},
   "source": [
    "<div class=\"alert alert-info\">\n",
    "<b> Что правда, то правда, я что-то все на глаз смотрел. Это я обязательно учту в дальнейших работах, но я сейчас немного отстаю по графику и по хорошему надо бы к следующему спринту приступать, но обещаю, что еще вернусь и добавлю эти значения)</b> \n",
    "</div>"
   ]
  },
  {
   "cell_type": "markdown",
   "metadata": {},
   "source": [
    "<div class=\"alert alert-success\">\n",
    "<h2> Комментарий ревьюера v2 <a class=\"tocSkip\"> </h2>\n",
    "\n",
    "<b>Все супер!👍:</b> Ага, хорошо)"
   ]
  },
  {
   "cell_type": "code",
   "execution_count": null,
   "metadata": {},
   "outputs": [],
   "source": [
    "#как быстро продавались квартиры\n",
    "#гистограмма\n",
    "data['days_exposition'].plot(kind='hist', bins=30, grid=True, legend=True)\n",
    "plt.show()\n",
    "\n",
    "#взглянем поближе на гистограмму\n",
    "data['days_exposition'].plot(kind='hist', bins=40, range=(0, 400), grid=True, legend=True)\n",
    "plt.show()\n",
    "\n",
    "display(data['days_exposition'].describe())\n",
    "\n",
    "print('Средний арифметический срок продажи квартиры:', int(data['days_exposition'].mean()))\n",
    "print('Медианнный срок продажи квартиры:', int(data['days_exposition'].median()))\n",
    "\n",
    "#data.query('days_exposition <= 3').count()\n",
    "#data.query('days_exposition > 365').count()"
   ]
  },
  {
   "cell_type": "markdown",
   "metadata": {},
   "source": [
    "Распределение срока продаж квартир характеризуется длинным хвостом. Медиана равная 95 дням почти в 2 раза меньше среднего арифметического 180 дней. Возможно, чтобы характеризовать быстрые и долгие продажи, стоит ориентироваться на показатели первого и третьего квартилей. Продажа менее, чем за 45 дней - можно назвать быстрой, а долгой - более 231 дня (почти 8 месяцев).  \n",
    "Здравый смысл подсказывает, что квартира день в день не продается, но мы смотрим на показатель снятия объявления, так что вполне возможно, что покупателю все понравилось, он внес залог и объявление сняли, а далее уже оформление документов, тем более продаж в течении 3 дней не так уж и много, всего 4. Другое дело с объявлениями, \"висящие\" более года, таких не мало, более 3000 публикаций, можно было бы трактовать это слишком высоким ценником или неудобным расположением, например, недвижимость в деревне. Иначе, как аномалией, это тяжело назвать."
   ]
  },
  {
   "cell_type": "markdown",
   "metadata": {},
   "source": [
    "<div class=\"alert alert-success\">\n",
    "<h2> Комментарий ревьюера <a class=\"tocSkip\"> </h2>\n",
    "\n",
    "<b>Все супер!👍:</b> Быстрые и медленные продажи отмечены верно!"
   ]
  },
  {
   "cell_type": "code",
   "execution_count": null,
   "metadata": {},
   "outputs": [],
   "source": [
    "#Какие факторы больше всего влияют на общую стоимость\n",
    "\n",
    "#общая площадь\n",
    "(data.pivot_table(index='total_area', values='last_price', aggfunc='median').reset_index()\n",
    ".query('last_price < 30').plot(x='total_area', y='last_price', kind='scatter'))\n",
    "plt.show()\n",
    "print('Корреляция с общей площадью:', round(data['last_price'].corr(data['total_area']), 2))\n",
    "\n",
    "#жилая площадь\n",
    "(data.pivot_table(index='living_area', values='last_price', aggfunc='median').reset_index()\n",
    ".query('last_price < 30').plot(x='living_area', y='last_price', kind='scatter'))\n",
    "plt.show()\n",
    "print('Корреляция с жилой площадью:', round(data['last_price'].corr(data['living_area']), 2))\n",
    "\n",
    "#площадь кухни\n",
    "(data.pivot_table(index='kitchen_area', values='last_price', aggfunc='median').reset_index()\n",
    ".query('last_price < 30').plot(x='kitchen_area', y='last_price', kind='scatter'))\n",
    "plt.show()\n",
    "print('Корреляция с площадью кухни:', round(data['last_price'].corr(data['kitchen_area']), 2))\n",
    " \n",
    "#кол-во комнат\n",
    "(data.pivot_table(index='rooms', values='last_price', aggfunc='median').reset_index()\n",
    ".query('last_price < 30').plot(x='rooms', y='last_price', kind='scatter'))\n",
    "plt.show()\n",
    "print('Корреляция с кол-вом комнат:', round(data['last_price'].corr(data['rooms']), 2))\n",
    "\n",
    "data_seven_rooms = data.query('rooms <= 7')\n",
    "print('Корреляция с кол-вом комнат до 7:', round(data_seven_rooms['last_price'].corr(data_seven_rooms['rooms']), 2))\n",
    "\n",
    "#тип этажа\n",
    "(data.pivot_table(index='floor_type', values='last_price', aggfunc='median').reset_index()\n",
    ".plot(x='floor_type', y='last_price', kind='bar'))\n",
    "plt.show()\n",
    "\n",
    "#день недели размещения\n",
    "(data.pivot_table(index='weekday', values='last_price', aggfunc='median').reset_index()\n",
    ".plot(x='weekday', y='last_price', kind='bar'))\n",
    "plt.show()\n",
    "\n",
    "#месяц размещения\n",
    "(data.pivot_table(index='month', values='last_price', aggfunc='median').reset_index()\n",
    ".plot(x='month', y='last_price', kind='bar'))\n",
    "plt.show()\n",
    "\n",
    "#год размещения\n",
    "print(data.pivot_table(index='year', values='last_price', aggfunc='median').reset_index())\n",
    "(data.pivot_table(index='year', values='last_price', aggfunc='median').reset_index()\n",
    ".plot(x='year', y='last_price', kind='bar'))\n",
    "plt.show()"
   ]
  },
  {
   "cell_type": "markdown",
   "metadata": {},
   "source": [
    "Мы проверили как влияют различные на факторы на цену квартиры.  \n",
    "Безусловно, площадь квартиры положительно коррелирует с ценой, но нельзя назвать зависимость сильной. Показатель корреляции в 0.65 средний, это верно, так как есть другие немаловажные факторы, влияющие на цену, это расположение, тип дома, текущий ремонт в квартире. Жилая площадь и площадь кухни также положительно средне влияют на цену, показатели корреляции немного меньше, чем общая площадь. На графиках мы также можем в этом убедится, увидев положительный рост.  \n",
    "Корреляция показывает, что связь с кол-вом комнат слабая, взглянув на график, было предположено, что положительная тенденция замечена до значения в 7 комнат (экспоненциальный рост), а далее кол-во комнат уже не так важно, медианная цена этих квартир падает, потом снова вырастает. Однако, как показала корреляция с выборкой, где комнат 7 и меньше, разницы никакой, корреляция слабая.  \n",
    "Получается, что в среднем квартиры ни на первом, ни на последнем этажах дороже. Почти 5 млн. стоят такие квартиры, первые этажи около 4 млн, а на последнем этаже в среднем 4.2 млн руб.  \n",
    "Неважно, в какой день публиковать объявление, на среднюю цену квартиры это не повлияет. Месяц практически тоже не влияет, но в апреле все-таки повыше в среднем цены, а в мае-июне ниже.  \n",
    "С годом все обстоит по-другому. Квартиры, опубликованные в 2014 году, имели полную стоимость на момент продажи примерно на 3 млн. руб. выше, чем в другие года. Казалось бы, что с годами цены наоборот вырастают. Возможно, после кризиса в 2014 владельцы дорогих квартир стали массово их продавать."
   ]
  },
  {
   "cell_type": "markdown",
   "metadata": {},
   "source": [
    "<div class=\"alert alert-success\">\n",
    "<h2> Комментарий ревьюера <a class=\"tocSkip\"> </h2>\n",
    "\n",
    "<b>Все супер!👍:</b> По зависимостям все верно)"
   ]
  },
  {
   "cell_type": "code",
   "execution_count": null,
   "metadata": {},
   "outputs": [],
   "source": [
    "#средняя цена одного квадратного метра в 10 населённых пунктах с наибольшим числом объявлений\n",
    "\n",
    "#data['locality_name_perfect'].value_counts().head(10)\n",
    "top_ten_locality_name = data['locality_name_perfect'].value_counts().head(10)\n",
    "\n",
    "for i in top_ten_locality_name.index.to_list():\n",
    "    print(i)\n",
    "    #print(data.loc[data['locality_name_perfect'] == i, ['price_square_meter']].mean())\n",
    "    last_price_sum = data.loc[data['locality_name_perfect'] == i, ['last_price']].sum()\n",
    "    total_area_sum = data.loc[data['locality_name_perfect'] == i, ['total_area']].sum()\n",
    "    print('Средняя цена за кв. метр в тыс. руб.:', round(last_price_sum[0] * 1000 / total_area_sum[0], 3))"
   ]
  },
  {
   "cell_type": "markdown",
   "metadata": {},
   "source": [
    "<div class=\"alert alert-warning\">\n",
    "    <h2> Комментарий ревьюера <a class=\"tocSkip\"> </h2>\n",
    "    \n",
    "<b>Небольшие замечания и рекомендации💡:</b> А можно сделать то же самое не через цикл? А напрмую через датафрейм?"
   ]
  },
  {
   "cell_type": "markdown",
   "metadata": {},
   "source": [
    "<div class=\"alert alert-info\">\n",
    "<b> Так и планировал изначально, но почему-то обращение top_ten_locality_name.index совсем не хотел работать, ошибки постоянно преследовали, пришлось юзать обходные пути( </b> \n",
    "</div>"
   ]
  },
  {
   "cell_type": "markdown",
   "metadata": {},
   "source": [
    "<div class=\"alert alert-warning\">\n",
    "    <h2> Комментарий ревьюера v2 <a class=\"tocSkip\"> </h2>\n",
    "    \n",
    "<b>Небольшие замечания и рекомендации💡:</b> А ты попробуй пойти через группировку по локации и создание нового датафрейма"
   ]
  },
  {
   "cell_type": "markdown",
   "metadata": {},
   "source": [
    "Была рассчитана средняя цена одного квадратного метра в 10 населённых пунктах с наибольшим числом объявлений.  \n",
    "Для начала мы нашли эти 10 населенных пунктов. Хоть у нас в таблице и присутствует цена за 1 квадратный метр, было бы некорректно посчитать среднее от этих значений. Поэтому сложим все стоимости квартир и поделим на сумму всех площадей в населенном пункте, это и будет средняя цена квадр. метра в выбранном пункте. Например, для Санкт-Петербурга разница в способах составила почти 10 тыс. руб. за кв. метр.  \n",
    "Самая низкая стоимость в Выборге - менее 58 тыс. руб. за кв. метр, самая высокая у Санкт-Петербурга - почти 124 тыс. руб."
   ]
  },
  {
   "cell_type": "markdown",
   "metadata": {},
   "source": [
    "<div class=\"alert alert-success\">\n",
    "<h2> Комментарий ревьюера <a class=\"tocSkip\"> </h2>\n",
    "\n",
    "<b>Все супер!👍:</b> Результат верный"
   ]
  },
  {
   "cell_type": "code",
   "execution_count": null,
   "metadata": {},
   "outputs": [],
   "source": [
    "#средняя цена каждого километра в Санкт-Петербурге\n",
    "\n",
    "(data.query('locality_name_perfect == \"Санкт-Петербург\"').groupby('city_centers_nearest_km')['last_price'].median()\n",
    ".plot(kind='bar', figsize=(10, 5), legend=True)\n",
    ")\n",
    "\n",
    "#data.query('locality_name_perfect == \"Санкт-Петербург\" & city_centers_nearest_km == 27')"
   ]
  },
  {
   "cell_type": "markdown",
   "metadata": {},
   "source": [
    "Была построена столбчатая диаграмма для средней цены каждого км. Цена определялась медианой, дабы избежать отклонения из-за дорогих квартир уровня премиум.  \n",
    "Чем ближе к центру города, тем выше средняя цена квартир. Однако, ниспадающая тенденция продолжается вплоть до расст. в 9 км от центра Санкт-Петербурга. Далее цена зафиксировалась на уровне около 4-5 млн. руб, но на расст. 20 км. цена вырастает до 6 млн., а на расст. 27 км. средняя стоимость выше 8 млн. руб. Предполагаю, что в первом случае цена могла вырасти из-за дорогого жилого комплекса, т.к. выборка состояла из более 80 наблюдений. Во втором случае рассматривалось всего 2 квартиры, одна из них была стоимостью более 14 млн. руб., что и повлияло на резкий скачок на графике. "
   ]
  },
  {
   "cell_type": "markdown",
   "metadata": {},
   "source": [
    "<div class=\"alert alert-success\">\n",
    "<h2> Комментарий ревьюера <a class=\"tocSkip\"> </h2>\n",
    "\n",
    "<b>Все супер!👍:</b> Все верно)"
   ]
  },
  {
   "cell_type": "markdown",
   "metadata": {},
   "source": [
    "### Общий вывод"
   ]
  },
  {
   "cell_type": "markdown",
   "metadata": {},
   "source": [
    "  Наше исследование изучает данные сервиса Яндекс Недвижимость — архив объявлений за несколько лет о продаже квартир в Санкт-Петербурге и соседних населённых пунктах. Перед нами была поставлена задача найти интересные особенности и зависимости, которые существуют на рынке недвижимости. В дальнейшем это позволит построить автоматизированную систему определения рыночной стоимости объектов недвижимости.  \n",
    "  \n",
    "Для этого мы выделили 5 пунктов для анализа:  \n",
    "  - Изучение параметров объекта недвижимости\n",
    "  - Изучение сроков продаж квартир\n",
    "  - Факторы, влияющие на общую стоимость объекта\n",
    "  - Расчет средней цены одного квадратного метра\n",
    "  - Зависимость средней цены от удаленности от центра в г. Санкт-Петербург  \n",
    "  \n",
    "**Изучение параметров объекта недвижимости**  \n",
    "  \n",
    "Нами были изучены и описаны следующие параметры, а также построены гистограммы для каждого из них:\n",
    "  - общая площадь;\n",
    "  - жилая площадь;\n",
    "  - площадь кухни;\n",
    "  - цена объекта;\n",
    "  - количество комнат;\n",
    "  - высота потолков;\n",
    "  - этаж квартиры;\n",
    "  - тип этажа квартиры («первый», «последний», «другой»);\n",
    "  - общее количество этажей в доме;\n",
    "  - расстояние до центра города в метрах;\n",
    "  - расстояние до ближайшего аэропорта;\n",
    "  - расстояние до ближайшего парка;\n",
    "  - день и месяц публикации объявления  \n",
    "  \n",
    "В результате, мы выяснили, что:  \n",
    "  1. Для первых 5 параметров характерно распределение Пуассона, ярко выраженный пик значений и длинный хвост.\n",
    "  2. Большинство квартир имеет общую площадь от 30 до 50 кв. м., жилую площадь от 15 до 30 кв. м. и кухню от 5 до 12 кв. м.\n",
    "  3. Цена большинства объектов от 3 до 5 млн. руб.\n",
    "  4. Преобладают однокомнатные и двухкомнатные квартиры.\n",
    "  5. Стандартная высота потолков 2.6 м.\n",
    "  6. Сильно преобладают пятиэтажные дома, а следом девятиэтажные. Большинство квартир распределено с 1-го по 5-й этаж.\n",
    "  7. Пиковые значения расстояния до центра города 11-15 км., до аэропорта 12-25 км.\n",
    "  8. Почти у всех ближайший парк находится в пределах 800м.\n",
    "  9. В будний день публикуются объявлений в 2 раза больше, чем в выходной.\n",
    "  10. Чаще всего объявления публикуются с февраля по апрель и в ноябре. Реже всего в январе, мае и декабре.  \n",
    "  \n",
    "*Рекомендация: слишком много значений, связанных с расстоянием было пропущено, необходимо уточнить картографические данные и повторно провести исследование.*  \n",
    "\n",
    "**Изучение сроков продаж квартир**  \n",
    "  \n",
    "На основании проведенного визуального анализа и численного описания данных, можем отметить, что:\n",
    "  1. Распределение срока продаж квартир характеризуется распределением Пуассона.\n",
    "  2. Среднее арифметическое - 180 дней, медиана - 95 дней.\n",
    "  3. Быстрая продажа длится менее 45 дней. Самая быстрая продажа была осуществлена за 1 день.\n",
    "  4. Долгая продажа длится больше 231 дня (7.5 месяцев). Самая долгая продажа длилась 1580 дней (4 года и 4 месяца).  \n",
    "  \n",
    "*Рекомендация: необходимо уточнить данные по сроку продаж, около 13% было пропущено и повторно провести исследование.*  \n",
    "  \n",
    "**Факторы, влияющие на общую стоимость объекта**  \n",
    "  \n",
    "Были построены графики зависимости цены объекта от следующих факторов:    \n",
    "  - общей площади;\n",
    "  - жилой площади;\n",
    "  - площади кухни;\n",
    "  - количество комнат;\n",
    "  - типа этажа, на котором расположена квартира (первый, последний, другой);\n",
    "  - даты размещения (день недели, месяц, год);  \n",
    "  \n",
    "После визуализации и расчета корреляции, мы пришли к выводам, что:\n",
    "  1. Влияние параметров площадей на ценообразование является значительным, но не единственным существенным. Значение корреляции стоимости с общей площадью равно 0.65, немного меньше у жилой площади(0.58) и площади кухни(0.51)  \n",
    "  2. Корреляция с кол-вом комнат положительная, но слабая - 0.36.\n",
    "  3. Квартиры на первом этаже самые дешевые, их средняя стоимость 3.9 млн руб., квартиры на последнем этаже в среднем стоят 4.3 млн. руб., остальные около 4.8 млн. руб.\n",
    "  4. День недели и месяц публикации объявления практически не влияют на стоимость недвижимости.\n",
    "  5. Объекты, выставленные на продажу в 2014 году были самыми дорогими, их средняя цена составила 7.6 млн. руб. В 2015 г. средняя цена была 5.3 млн. руб., с 2016 по 2018 около 4.5 млн. руб, а в 2019 г. чуть выше 5 млн. руб.  \n",
    "  \n",
    "*Рекомендация: для исследования зависимости цены объекта можно использовать также параметры локации, например по району или по улице, а также по типу дома или году постройки.*  \n",
    "\n",
    "**Расчет средней цены одного квадратного метра**  \n",
    "\n",
    "Для расчета средней цены одного квадратного метра были определены 10 населенных пунктов с наибольшим числом объявлений. После этого были получены такие данные:  \n",
    "\n",
    "| Населенный пункт | Средняя цена кв. метра (т.р.)|\n",
    "|:--- | :--- |\n",
    "| Санкт-Петербург | 123.913 \n",
    "| Мурино | 83.414\n",
    "| Кудрово | 93.947\n",
    "| Шушары | 76.328\n",
    "| Всеволожск | 67.603\n",
    "| Пушкин | 105.016\n",
    "| Колпино | 74.468\n",
    "| Парголово | 87.111\n",
    "| Гатчина | 68.475\n",
    "| Выборг | 57.815\n",
    "  \n",
    "Вышеуказанное позволило нам установить, что самая высокая стоимость квадратного метра в г. Санкт-Петербург, а самая низкая в г. Выборг.  \n",
    "\n",
    "**Зависимость средней цены от удаленности от центра в г. Санкт-Петербург**\n",
    "  \n",
    "Найденные и проанализированные нами данные позволяют выделить следующую закономерность: в пределах 9 км. от центра города чем дальше находится объект, тем ниже его цена.  \n",
    "   \n",
    "Недвижимость, находящаяся непосредственно в центре имеет среднюю стоимость в 12 млн. руб., у квартир, находящихся за пределами радиуса 9 км, средняя цена колеблется от 4 до 5 млн. руб., за исключением некоторых значений, по которым, возможно, не хватило данных.  \n",
    "\n",
    "*Рекомендация: увеличить выборку по недвижимости, удаленных от центра более, чем на 20 км. и повторно провести исследование.*\n",
    "\n",
    "**Итоги и общие рекомендации**  \n",
    "  \n",
    "В заключение можно сказать, что рынок недвижимости - комплексная многогранная сфера. Для дальнейшей работы и закрепления полученных результатов рекомендуется повысить качество выборки, в частности, картографические данные, увеличить кол-во параметров, влияющих на стоимость объектов, а также дополнить данными за 2020 год и после."
   ]
  },
  {
   "cell_type": "markdown",
   "metadata": {},
   "source": [
    "<div class=\"alert alert-success\">\n",
    "<h2> Комментарий ревьюера <a class=\"tocSkip\"> </h2>\n",
    "\n",
    "<b>Все супер!👍:</b> Итоговый вывод полостью отражает проделанную работу!"
   ]
  },
  {
   "cell_type": "markdown",
   "metadata": {},
   "source": [
    "<div style=\"border:solid Chocolate 2px; padding: 40px\">\n",
    "    \n",
    "**Общий вывод по проекту ревьювера**:\n",
    " Даниил, спасибо за  проект! Ты приложил много усилий, чтобы довести его до конца, проделана огромная работа, и это видно невооруженным глазом, ты большой молодец!\n",
    "    \n",
    "**Отмечу положительные моменты**:\n",
    "    \n",
    "    1. Все разложено по полочкам, всегда понятен ход твоих мыслей, приятно смотреть\n",
    "    \n",
    "    2. Отличные визуализации\n",
    "    \n",
    "    2. На разных шагах проекта ты предлагал очень интересные решения и методы для их реализации. Хорошая работа!\n",
    "    \n",
    "    \n",
    "**На что стоит обратить внимание**:\n",
    "    \n",
    "    1. На небольшие ошибки, так как явных ошибок нет, что просто отлично! Если ршишь не исправлять замечания, то присылай работу в том же виде, она все равно будет зачтена)\n",
    "    \n",
    "    \n",
    "**Удачи и жду твой проект на повторное ревью!**"
   ]
  },
  {
   "cell_type": "markdown",
   "metadata": {},
   "source": [
    "<div class=\"alert alert-info\">\n",
    "<b> За обратную связь, оперативную и качественную, огромное спасибо! </b> \n",
    "</div>"
   ]
  },
  {
   "cell_type": "markdown",
   "metadata": {},
   "source": [
    "<div style=\"border:solid Chocolate 2px; padding: 40px\">\n",
    "    \n",
    "**Общий вывод по проекту ревьювера v2**:\n",
    " Даниил, рад быть тебе полезным! Проект принят, поздравляю тебя! Успешной учебы и еще увидимся в Практикуме!"
   ]
  },
  {
   "cell_type": "markdown",
   "metadata": {},
   "source": [
    "**Чек-лист готовности проекта**\n",
    "\n",
    "Поставьте 'x' в выполненных пунктах. Далее нажмите Shift+Enter."
   ]
  },
  {
   "cell_type": "markdown",
   "metadata": {},
   "source": [
    "- [x]  открыт файл\n",
    "- [x]  файлы изучены (выведены первые строки, метод `info()`, гистограммы и т.д.)\n",
    "- [x]  определены пропущенные значения\n",
    "- [x]  заполнены пропущенные значения там, где это возможно\n",
    "- [x]  есть пояснение, какие пропущенные значения обнаружены\n",
    "- [x]  изменены типы данных\n",
    "- [x]  есть пояснение, в каких столбцах изменены типы и почему\n",
    "- [x]  устранены неявные дубликаты в названиях населённых пунктов\n",
    "- [x]  устранены редкие и выбивающиеся значения (аномалии) во всех столбцах\n",
    "- [x]  посчитано и добавлено в таблицу: цена одного квадратного метра\n",
    "- [x]  посчитано и добавлено в таблицу: день публикации объявления (0 - понедельник, 1 - вторник и т.д.)\n",
    "- [x]  посчитано и добавлено в таблицу: месяц публикации объявления\n",
    "- [x]  посчитано и добавлено в таблицу: год публикации объявления\n",
    "- [x]  посчитано и добавлено в таблицу: тип этажа квартиры (значения — «первый», «последний», «другой»)\n",
    "- [x]  посчитано и добавлено в таблицу: расстояние в км до центра города\n",
    "- [x]  изучены и описаны следующие параметры:\n",
    "        - общая площадь;\n",
    "        - жилая площадь;\n",
    "        - площадь кухни;\n",
    "        - цена объекта;\n",
    "        - количество комнат;\n",
    "        - высота потолков;\n",
    "        - этаж квартиры;\n",
    "        - тип этажа квартиры («первый», «последний», «другой»);\n",
    "        - общее количество этажей в доме;\n",
    "        - расстояние до центра города в метрах;\n",
    "        - расстояние до ближайшего аэропорта;\n",
    "        - расстояние до ближайшего парка;\n",
    "        - день и месяц публикации объявления\n",
    "- [x]  построены гистограммы для каждого параметра\n",
    "- [x]  выполнено задание: \"Изучите, как быстро продавались квартиры (столбец days_exposition). Этот параметр показывает, сколько дней «висело» каждое объявление.\n",
    "    - Постройте гистограмму.\n",
    "    - Посчитайте среднее и медиану.\n",
    "    - В ячейке типа markdown опишите, сколько обычно занимает продажа. Какие продажи можно считать быстрыми, а какие — необычно долгими?\"\n",
    "- [x]  выполнено задание: \"Какие факторы больше всего влияют на общую (полную) стоимость объекта? Постройте графики, которые покажут зависимость цены от указанных ниже параметров. Для подготовки данных перед визуализацией вы можете использовать сводные таблицы.\"\n",
    "        - общей площади;\n",
    "        - жилой площади;\n",
    "        - площади кухни;\n",
    "        - количество комнат;\n",
    "        - типа этажа, на котором расположена квартира (первый, последний, другой);\n",
    "        - даты размещения (день недели, месяц, год);\n",
    "- [x]  выполнено задание: \"Посчитайте среднюю цену одного квадратного метра в 10 населённых пунктах с наибольшим числом объявлений. Выделите населённые пункты с самой высокой и низкой стоимостью квадратного метра. Эти данные можно найти по имени в столбце `locality_name`.\"\n",
    "- [x]  выполнено задание: \"Ранее вы посчитали расстояние до центра в километрах. Теперь выделите квартиры в Санкт-Петербурге с помощью столбца `locality_name` и вычислите среднюю цену каждого километра. Опишите, как стоимость объектов зависит от расстояния до центра города.\"\n",
    "- [x]  в каждом этапе есть промежуточные выводы\n",
    "- [x]  есть общий вывод"
   ]
  }
 ],
 "metadata": {
  "ExecuteTimeLog": [
   {
    "duration": 771,
    "start_time": "2022-11-09T05:45:59.711Z"
   },
   {
    "duration": 117,
    "start_time": "2022-11-09T05:46:18.345Z"
   },
   {
    "duration": 144,
    "start_time": "2022-11-09T05:47:42.273Z"
   },
   {
    "duration": 207,
    "start_time": "2022-11-09T05:47:52.750Z"
   },
   {
    "duration": 92,
    "start_time": "2022-11-09T05:53:09.433Z"
   },
   {
    "duration": 51,
    "start_time": "2022-11-09T05:53:35.439Z"
   },
   {
    "duration": 114,
    "start_time": "2022-11-09T05:55:42.742Z"
   },
   {
    "duration": 126,
    "start_time": "2022-11-09T05:58:58.829Z"
   },
   {
    "duration": 2479,
    "start_time": "2022-11-09T06:01:09.478Z"
   },
   {
    "duration": 2219,
    "start_time": "2022-11-09T06:01:52.940Z"
   },
   {
    "duration": 73,
    "start_time": "2022-11-09T06:51:45.842Z"
   },
   {
    "duration": 10,
    "start_time": "2022-11-09T06:52:04.714Z"
   },
   {
    "duration": 35,
    "start_time": "2022-11-09T07:58:08.073Z"
   },
   {
    "duration": 9,
    "start_time": "2022-11-09T08:00:03.968Z"
   },
   {
    "duration": 16,
    "start_time": "2022-11-09T08:02:45.775Z"
   },
   {
    "duration": 16,
    "start_time": "2022-11-09T08:02:56.242Z"
   },
   {
    "duration": 117,
    "start_time": "2022-11-09T08:04:00.958Z"
   },
   {
    "duration": 8,
    "start_time": "2022-11-09T08:04:05.105Z"
   },
   {
    "duration": 22,
    "start_time": "2022-11-09T08:04:34.284Z"
   },
   {
    "duration": 12,
    "start_time": "2022-11-09T08:06:39.547Z"
   },
   {
    "duration": 14,
    "start_time": "2022-11-09T08:06:46.754Z"
   },
   {
    "duration": 11,
    "start_time": "2022-11-09T08:07:25.381Z"
   },
   {
    "duration": 10,
    "start_time": "2022-11-09T08:07:45.093Z"
   },
   {
    "duration": 8,
    "start_time": "2022-11-09T08:08:05.694Z"
   },
   {
    "duration": 2219,
    "start_time": "2022-11-09T08:08:15.946Z"
   },
   {
    "duration": 10,
    "start_time": "2022-11-09T08:08:18.166Z"
   },
   {
    "duration": 9,
    "start_time": "2022-11-09T08:08:19.039Z"
   },
   {
    "duration": 13,
    "start_time": "2022-11-09T08:13:35.928Z"
   },
   {
    "duration": 16,
    "start_time": "2022-11-09T08:24:01.618Z"
   },
   {
    "duration": 12,
    "start_time": "2022-11-09T08:24:37.165Z"
   },
   {
    "duration": 17,
    "start_time": "2022-11-09T08:24:53.718Z"
   },
   {
    "duration": 19,
    "start_time": "2022-11-09T08:26:02.846Z"
   },
   {
    "duration": 24,
    "start_time": "2022-11-09T08:26:36.448Z"
   },
   {
    "duration": 21,
    "start_time": "2022-11-09T08:26:51.835Z"
   },
   {
    "duration": 1952,
    "start_time": "2022-11-09T08:26:55.816Z"
   },
   {
    "duration": 83,
    "start_time": "2022-11-09T08:26:57.770Z"
   },
   {
    "duration": 45,
    "start_time": "2022-11-09T08:45:19.026Z"
   },
   {
    "duration": 162,
    "start_time": "2022-11-09T08:46:41.482Z"
   },
   {
    "duration": 47,
    "start_time": "2022-11-09T08:46:52.550Z"
   },
   {
    "duration": 44,
    "start_time": "2022-11-09T08:47:00.716Z"
   },
   {
    "duration": 38,
    "start_time": "2022-11-09T08:47:35.059Z"
   },
   {
    "duration": 50,
    "start_time": "2022-11-09T08:52:54.532Z"
   },
   {
    "duration": 67,
    "start_time": "2022-11-09T08:53:00.818Z"
   },
   {
    "duration": 35,
    "start_time": "2022-11-09T09:02:22.762Z"
   },
   {
    "duration": 2133,
    "start_time": "2022-11-09T09:02:26.183Z"
   },
   {
    "duration": 16,
    "start_time": "2022-11-09T09:02:28.318Z"
   },
   {
    "duration": 60,
    "start_time": "2022-11-09T09:02:28.346Z"
   },
   {
    "duration": 71,
    "start_time": "2022-11-09T09:11:55.019Z"
   },
   {
    "duration": 28,
    "start_time": "2022-11-09T09:12:11.942Z"
   },
   {
    "duration": 20,
    "start_time": "2022-11-09T09:54:57.659Z"
   },
   {
    "duration": 17,
    "start_time": "2022-11-09T09:56:46.284Z"
   },
   {
    "duration": 16,
    "start_time": "2022-11-09T10:04:24.058Z"
   },
   {
    "duration": 0,
    "start_time": "2022-11-09T10:07:21.092Z"
   },
   {
    "duration": 16,
    "start_time": "2022-11-09T10:07:31.820Z"
   },
   {
    "duration": 15,
    "start_time": "2022-11-09T10:07:43.158Z"
   },
   {
    "duration": 16,
    "start_time": "2022-11-09T10:07:52.615Z"
   },
   {
    "duration": 15,
    "start_time": "2022-11-09T10:08:06.814Z"
   },
   {
    "duration": 20,
    "start_time": "2022-11-09T10:09:04.524Z"
   },
   {
    "duration": 119,
    "start_time": "2022-11-09T10:10:07.994Z"
   },
   {
    "duration": 117,
    "start_time": "2022-11-09T10:10:22.842Z"
   },
   {
    "duration": 118,
    "start_time": "2022-11-09T10:10:27.734Z"
   },
   {
    "duration": 243,
    "start_time": "2022-11-09T10:16:42.126Z"
   },
   {
    "duration": 206,
    "start_time": "2022-11-09T10:17:48.149Z"
   },
   {
    "duration": 2121,
    "start_time": "2022-11-09T10:19:26.811Z"
   },
   {
    "duration": 251,
    "start_time": "2022-11-09T10:19:28.934Z"
   },
   {
    "duration": 214,
    "start_time": "2022-11-09T10:20:03.934Z"
   },
   {
    "duration": 34,
    "start_time": "2022-11-09T10:20:08.781Z"
   },
   {
    "duration": 9,
    "start_time": "2022-11-09T10:20:57.881Z"
   },
   {
    "duration": 6,
    "start_time": "2022-11-09T10:33:24.114Z"
   },
   {
    "duration": 7,
    "start_time": "2022-11-09T10:33:40.888Z"
   },
   {
    "duration": 5,
    "start_time": "2022-11-09T10:34:05.389Z"
   },
   {
    "duration": 6,
    "start_time": "2022-11-09T10:34:38.750Z"
   },
   {
    "duration": 11,
    "start_time": "2022-11-09T10:47:34.134Z"
   },
   {
    "duration": 12,
    "start_time": "2022-11-09T10:47:45.682Z"
   },
   {
    "duration": 2146,
    "start_time": "2022-11-09T10:47:55.344Z"
   },
   {
    "duration": 258,
    "start_time": "2022-11-09T10:47:57.492Z"
   },
   {
    "duration": 11,
    "start_time": "2022-11-09T10:47:57.752Z"
   },
   {
    "duration": 11,
    "start_time": "2022-11-09T10:48:05.654Z"
   },
   {
    "duration": 220,
    "start_time": "2022-11-09T10:48:12.584Z"
   },
   {
    "duration": 11,
    "start_time": "2022-11-09T10:48:15.708Z"
   },
   {
    "duration": 6,
    "start_time": "2022-11-09T10:48:46.898Z"
   },
   {
    "duration": 14,
    "start_time": "2022-11-09T10:48:57.539Z"
   },
   {
    "duration": 6,
    "start_time": "2022-11-09T10:49:02.301Z"
   },
   {
    "duration": 4,
    "start_time": "2022-11-09T10:49:53.980Z"
   },
   {
    "duration": 10,
    "start_time": "2022-11-09T10:56:27.920Z"
   },
   {
    "duration": 72,
    "start_time": "2022-11-09T11:05:00.094Z"
   },
   {
    "duration": 50,
    "start_time": "2022-11-09T11:05:14.144Z"
   },
   {
    "duration": 48,
    "start_time": "2022-11-09T11:05:21.067Z"
   },
   {
    "duration": 16,
    "start_time": "2022-11-09T11:05:32.178Z"
   },
   {
    "duration": 2377,
    "start_time": "2022-11-09T11:06:13.100Z"
   },
   {
    "duration": 276,
    "start_time": "2022-11-09T11:06:15.480Z"
   },
   {
    "duration": 42,
    "start_time": "2022-11-09T11:06:19.664Z"
   },
   {
    "duration": 208,
    "start_time": "2022-11-09T11:06:30.769Z"
   },
   {
    "duration": 36,
    "start_time": "2022-11-09T11:06:33.719Z"
   },
   {
    "duration": 40,
    "start_time": "2022-11-09T11:08:06.898Z"
   },
   {
    "duration": 39,
    "start_time": "2022-11-09T11:08:29.728Z"
   },
   {
    "duration": 13,
    "start_time": "2022-11-09T11:13:37.634Z"
   },
   {
    "duration": 20,
    "start_time": "2022-11-09T11:14:04.726Z"
   },
   {
    "duration": 13,
    "start_time": "2022-11-09T11:14:30.148Z"
   },
   {
    "duration": 15,
    "start_time": "2022-11-09T11:14:41.227Z"
   },
   {
    "duration": 13,
    "start_time": "2022-11-09T11:14:57.703Z"
   },
   {
    "duration": 14,
    "start_time": "2022-11-09T11:15:53.975Z"
   },
   {
    "duration": 13,
    "start_time": "2022-11-09T11:19:36.401Z"
   },
   {
    "duration": 12,
    "start_time": "2022-11-09T11:19:52.952Z"
   },
   {
    "duration": 12,
    "start_time": "2022-11-09T11:19:57.718Z"
   },
   {
    "duration": 13,
    "start_time": "2022-11-09T11:21:01.663Z"
   },
   {
    "duration": 11,
    "start_time": "2022-11-09T11:21:11.135Z"
   },
   {
    "duration": 12,
    "start_time": "2022-11-09T11:21:19.820Z"
   },
   {
    "duration": 13,
    "start_time": "2022-11-09T11:21:22.978Z"
   },
   {
    "duration": 11,
    "start_time": "2022-11-09T11:21:27.092Z"
   },
   {
    "duration": 11,
    "start_time": "2022-11-09T11:21:43.046Z"
   },
   {
    "duration": 9,
    "start_time": "2022-11-09T11:21:57.562Z"
   },
   {
    "duration": 2257,
    "start_time": "2022-11-09T11:22:14.427Z"
   },
   {
    "duration": 242,
    "start_time": "2022-11-09T11:22:16.687Z"
   },
   {
    "duration": 15,
    "start_time": "2022-11-09T11:22:22.644Z"
   },
   {
    "duration": 12,
    "start_time": "2022-11-09T11:23:05.474Z"
   },
   {
    "duration": 212,
    "start_time": "2022-11-09T11:23:10.135Z"
   },
   {
    "duration": 17,
    "start_time": "2022-11-09T11:23:12.698Z"
   },
   {
    "duration": 14,
    "start_time": "2022-11-09T11:23:22.601Z"
   },
   {
    "duration": 13,
    "start_time": "2022-11-09T11:23:28.495Z"
   },
   {
    "duration": 22,
    "start_time": "2022-11-09T11:25:07.650Z"
   },
   {
    "duration": 24,
    "start_time": "2022-11-09T11:25:29.942Z"
   },
   {
    "duration": 21,
    "start_time": "2022-11-09T11:26:01.789Z"
   },
   {
    "duration": 17,
    "start_time": "2022-11-09T11:26:07.981Z"
   },
   {
    "duration": 18,
    "start_time": "2022-11-09T11:26:16.447Z"
   },
   {
    "duration": 2073,
    "start_time": "2022-11-09T11:26:21.330Z"
   },
   {
    "duration": 244,
    "start_time": "2022-11-09T11:26:23.405Z"
   },
   {
    "duration": 21,
    "start_time": "2022-11-09T11:26:23.651Z"
   },
   {
    "duration": 2242,
    "start_time": "2022-11-09T11:34:30.685Z"
   },
   {
    "duration": 267,
    "start_time": "2022-11-09T11:34:32.930Z"
   },
   {
    "duration": 2047,
    "start_time": "2022-11-09T11:34:38.586Z"
   },
   {
    "duration": 235,
    "start_time": "2022-11-09T11:34:40.634Z"
   },
   {
    "duration": 18,
    "start_time": "2022-11-09T11:34:57.211Z"
   },
   {
    "duration": 24,
    "start_time": "2022-11-09T11:37:40.334Z"
   },
   {
    "duration": 18,
    "start_time": "2022-11-09T11:44:00.662Z"
   },
   {
    "duration": 10,
    "start_time": "2022-11-09T11:58:15.441Z"
   },
   {
    "duration": 2259,
    "start_time": "2022-11-09T11:58:20.403Z"
   },
   {
    "duration": 247,
    "start_time": "2022-11-09T11:58:22.664Z"
   },
   {
    "duration": 32,
    "start_time": "2022-11-09T11:58:22.914Z"
   },
   {
    "duration": 29,
    "start_time": "2022-11-09T11:58:22.948Z"
   },
   {
    "duration": 10,
    "start_time": "2022-11-09T11:58:22.979Z"
   },
   {
    "duration": 9,
    "start_time": "2022-11-09T12:25:33.108Z"
   },
   {
    "duration": 32,
    "start_time": "2022-11-09T12:28:31.595Z"
   },
   {
    "duration": 39,
    "start_time": "2022-11-09T12:28:40.241Z"
   },
   {
    "duration": 39,
    "start_time": "2022-11-09T12:28:50.764Z"
   },
   {
    "duration": 68,
    "start_time": "2022-11-09T12:30:35.003Z"
   },
   {
    "duration": 37,
    "start_time": "2022-11-09T12:30:41.110Z"
   },
   {
    "duration": 35,
    "start_time": "2022-11-09T12:31:07.594Z"
   },
   {
    "duration": 36,
    "start_time": "2022-11-09T12:31:17.706Z"
   },
   {
    "duration": 31,
    "start_time": "2022-11-09T12:31:28.419Z"
   },
   {
    "duration": 5,
    "start_time": "2022-11-09T12:32:22.865Z"
   },
   {
    "duration": 6,
    "start_time": "2022-11-09T12:32:29.038Z"
   },
   {
    "duration": 1909,
    "start_time": "2022-11-09T12:36:11.037Z"
   },
   {
    "duration": 202,
    "start_time": "2022-11-09T12:36:23.129Z"
   },
   {
    "duration": 10,
    "start_time": "2022-11-09T12:38:00.346Z"
   },
   {
    "duration": 11,
    "start_time": "2022-11-09T12:38:17.876Z"
   },
   {
    "duration": 11,
    "start_time": "2022-11-09T12:38:25.692Z"
   },
   {
    "duration": 200,
    "start_time": "2022-11-09T12:42:53.730Z"
   },
   {
    "duration": 210,
    "start_time": "2022-11-09T12:43:23.894Z"
   },
   {
    "duration": 227,
    "start_time": "2022-11-09T12:43:41.850Z"
   },
   {
    "duration": 39,
    "start_time": "2022-11-09T12:49:21.790Z"
   },
   {
    "duration": 42,
    "start_time": "2022-11-09T12:49:38.505Z"
   },
   {
    "duration": 46,
    "start_time": "2022-11-09T12:49:47.557Z"
   },
   {
    "duration": 2401,
    "start_time": "2022-11-09T12:50:23.929Z"
   },
   {
    "duration": 258,
    "start_time": "2022-11-09T12:50:26.333Z"
   },
   {
    "duration": 20,
    "start_time": "2022-11-09T12:50:26.593Z"
   },
   {
    "duration": 60,
    "start_time": "2022-11-09T12:50:26.616Z"
   },
   {
    "duration": 8,
    "start_time": "2022-11-09T12:51:49.718Z"
   },
   {
    "duration": 2911,
    "start_time": "2022-11-10T06:45:42.247Z"
   },
   {
    "duration": 215,
    "start_time": "2022-11-10T06:45:45.160Z"
   },
   {
    "duration": 18,
    "start_time": "2022-11-10T06:45:45.376Z"
   },
   {
    "duration": 32,
    "start_time": "2022-11-10T06:45:45.396Z"
   },
   {
    "duration": 9,
    "start_time": "2022-11-10T06:45:52.573Z"
   },
   {
    "duration": 29,
    "start_time": "2022-11-10T06:46:49.858Z"
   },
   {
    "duration": 21,
    "start_time": "2022-11-10T06:49:20.765Z"
   },
   {
    "duration": 33,
    "start_time": "2022-11-10T06:49:36.674Z"
   },
   {
    "duration": 32,
    "start_time": "2022-11-10T06:52:01.691Z"
   },
   {
    "duration": 33,
    "start_time": "2022-11-10T06:52:09.933Z"
   },
   {
    "duration": 57,
    "start_time": "2022-11-10T06:52:51.931Z"
   },
   {
    "duration": 77,
    "start_time": "2022-11-10T06:56:14.690Z"
   },
   {
    "duration": 15,
    "start_time": "2022-11-10T06:57:06.044Z"
   },
   {
    "duration": 15,
    "start_time": "2022-11-10T06:57:13.869Z"
   },
   {
    "duration": 17,
    "start_time": "2022-11-10T07:01:22.084Z"
   },
   {
    "duration": 34,
    "start_time": "2022-11-10T07:01:30.472Z"
   },
   {
    "duration": 40,
    "start_time": "2022-11-10T07:01:33.973Z"
   },
   {
    "duration": 2057,
    "start_time": "2022-11-10T07:01:37.137Z"
   },
   {
    "duration": 227,
    "start_time": "2022-11-10T07:01:39.196Z"
   },
   {
    "duration": 18,
    "start_time": "2022-11-10T07:01:39.425Z"
   },
   {
    "duration": 30,
    "start_time": "2022-11-10T07:01:39.444Z"
   },
   {
    "duration": 56,
    "start_time": "2022-11-10T07:01:39.475Z"
   },
   {
    "duration": 17,
    "start_time": "2022-11-10T07:02:40.529Z"
   },
   {
    "duration": 16,
    "start_time": "2022-11-10T07:04:01.389Z"
   },
   {
    "duration": 39,
    "start_time": "2022-11-10T07:04:10.228Z"
   },
   {
    "duration": 32,
    "start_time": "2022-11-10T07:04:32.489Z"
   },
   {
    "duration": 35,
    "start_time": "2022-11-10T07:06:05.010Z"
   },
   {
    "duration": 45,
    "start_time": "2022-11-10T07:06:14.022Z"
   },
   {
    "duration": 2052,
    "start_time": "2022-11-10T07:06:31.853Z"
   },
   {
    "duration": 226,
    "start_time": "2022-11-10T07:06:33.907Z"
   },
   {
    "duration": 25,
    "start_time": "2022-11-10T07:07:35.252Z"
   },
   {
    "duration": 23,
    "start_time": "2022-11-10T07:08:02.979Z"
   },
   {
    "duration": 2048,
    "start_time": "2022-11-10T07:08:11.571Z"
   },
   {
    "duration": 225,
    "start_time": "2022-11-10T07:08:16.700Z"
   },
   {
    "duration": 25,
    "start_time": "2022-11-10T07:08:19.839Z"
   },
   {
    "duration": 18,
    "start_time": "2022-11-10T07:08:36.686Z"
   },
   {
    "duration": 17,
    "start_time": "2022-11-10T07:09:03.604Z"
   },
   {
    "duration": 17,
    "start_time": "2022-11-10T07:09:17.029Z"
   },
   {
    "duration": 17,
    "start_time": "2022-11-10T07:09:24.364Z"
   },
   {
    "duration": 17,
    "start_time": "2022-11-10T07:09:34.344Z"
   },
   {
    "duration": 15,
    "start_time": "2022-11-10T07:09:37.931Z"
   },
   {
    "duration": 19,
    "start_time": "2022-11-10T07:10:05.670Z"
   },
   {
    "duration": 16,
    "start_time": "2022-11-10T07:10:27.602Z"
   },
   {
    "duration": 16,
    "start_time": "2022-11-10T07:10:29.777Z"
   },
   {
    "duration": 1836,
    "start_time": "2022-11-10T07:10:32.663Z"
   },
   {
    "duration": 214,
    "start_time": "2022-11-10T07:10:34.504Z"
   },
   {
    "duration": 20,
    "start_time": "2022-11-10T07:10:34.719Z"
   },
   {
    "duration": 20,
    "start_time": "2022-11-10T07:10:56.729Z"
   },
   {
    "duration": 18,
    "start_time": "2022-11-10T07:11:00.249Z"
   },
   {
    "duration": 2008,
    "start_time": "2022-11-10T07:11:02.880Z"
   },
   {
    "duration": 227,
    "start_time": "2022-11-10T07:11:04.890Z"
   },
   {
    "duration": 22,
    "start_time": "2022-11-10T07:11:05.119Z"
   },
   {
    "duration": 36,
    "start_time": "2022-11-10T07:11:29.274Z"
   },
   {
    "duration": 17,
    "start_time": "2022-11-10T07:12:10.057Z"
   },
   {
    "duration": 34,
    "start_time": "2022-11-10T07:12:22.492Z"
   },
   {
    "duration": 41,
    "start_time": "2022-11-10T07:14:23.595Z"
   },
   {
    "duration": 50,
    "start_time": "2022-11-10T07:16:23.122Z"
   },
   {
    "duration": 16,
    "start_time": "2022-11-10T07:17:05.587Z"
   },
   {
    "duration": 48,
    "start_time": "2022-11-10T07:17:10.484Z"
   },
   {
    "duration": 2214,
    "start_time": "2022-11-10T07:17:45.658Z"
   },
   {
    "duration": 265,
    "start_time": "2022-11-10T07:17:47.874Z"
   },
   {
    "duration": 22,
    "start_time": "2022-11-10T07:17:48.142Z"
   },
   {
    "duration": 61,
    "start_time": "2022-11-10T07:17:48.166Z"
   },
   {
    "duration": 2312,
    "start_time": "2022-11-10T07:18:36.847Z"
   },
   {
    "duration": 235,
    "start_time": "2022-11-10T07:18:39.161Z"
   },
   {
    "duration": 23,
    "start_time": "2022-11-10T07:18:39.398Z"
   },
   {
    "duration": 33,
    "start_time": "2022-11-10T07:18:39.423Z"
   },
   {
    "duration": 49,
    "start_time": "2022-11-10T07:18:44.277Z"
   },
   {
    "duration": 43,
    "start_time": "2022-11-10T07:19:41.956Z"
   },
   {
    "duration": 66,
    "start_time": "2022-11-10T07:20:08.583Z"
   },
   {
    "duration": 59,
    "start_time": "2022-11-10T07:21:15.953Z"
   },
   {
    "duration": 53,
    "start_time": "2022-11-10T07:21:23.045Z"
   },
   {
    "duration": 57,
    "start_time": "2022-11-10T07:21:51.634Z"
   },
   {
    "duration": 84,
    "start_time": "2022-11-10T07:34:24.525Z"
   },
   {
    "duration": 64,
    "start_time": "2022-11-10T07:34:39.327Z"
   },
   {
    "duration": 59,
    "start_time": "2022-11-10T07:43:51.456Z"
   },
   {
    "duration": 15,
    "start_time": "2022-11-10T07:45:59.547Z"
   },
   {
    "duration": 14,
    "start_time": "2022-11-10T07:56:44.800Z"
   },
   {
    "duration": 21,
    "start_time": "2022-11-10T08:09:39.436Z"
   },
   {
    "duration": 18,
    "start_time": "2022-11-10T08:09:45.550Z"
   },
   {
    "duration": 21,
    "start_time": "2022-11-10T08:11:34.712Z"
   },
   {
    "duration": 24,
    "start_time": "2022-11-10T08:11:55.383Z"
   },
   {
    "duration": 64,
    "start_time": "2022-11-10T08:12:47.267Z"
   },
   {
    "duration": 24,
    "start_time": "2022-11-10T08:13:20.830Z"
   },
   {
    "duration": 24,
    "start_time": "2022-11-10T08:14:27.857Z"
   },
   {
    "duration": 34,
    "start_time": "2022-11-10T09:24:36.935Z"
   },
   {
    "duration": 23,
    "start_time": "2022-11-10T09:25:28.003Z"
   },
   {
    "duration": 26,
    "start_time": "2022-11-10T09:29:40.349Z"
   },
   {
    "duration": 23,
    "start_time": "2022-11-10T09:31:55.206Z"
   },
   {
    "duration": 23,
    "start_time": "2022-11-10T09:33:33.663Z"
   },
   {
    "duration": 22,
    "start_time": "2022-11-10T09:35:24.633Z"
   },
   {
    "duration": 22,
    "start_time": "2022-11-10T09:35:45.472Z"
   },
   {
    "duration": 22,
    "start_time": "2022-11-10T09:36:02.491Z"
   },
   {
    "duration": 1985,
    "start_time": "2022-11-10T09:36:07.545Z"
   },
   {
    "duration": 234,
    "start_time": "2022-11-10T09:36:09.532Z"
   },
   {
    "duration": 24,
    "start_time": "2022-11-10T09:36:09.768Z"
   },
   {
    "duration": 46,
    "start_time": "2022-11-10T09:36:09.794Z"
   },
   {
    "duration": 17,
    "start_time": "2022-11-10T09:36:09.842Z"
   },
   {
    "duration": 53,
    "start_time": "2022-11-10T09:36:09.860Z"
   },
   {
    "duration": 23,
    "start_time": "2022-11-10T09:36:11.763Z"
   },
   {
    "duration": 33,
    "start_time": "2022-11-10T09:36:17.772Z"
   },
   {
    "duration": 26,
    "start_time": "2022-11-10T09:36:42.631Z"
   },
   {
    "duration": 29,
    "start_time": "2022-11-10T09:36:59.500Z"
   },
   {
    "duration": 26,
    "start_time": "2022-11-10T09:37:35.252Z"
   },
   {
    "duration": 30,
    "start_time": "2022-11-10T09:45:37.558Z"
   },
   {
    "duration": 25,
    "start_time": "2022-11-10T09:45:40.411Z"
   },
   {
    "duration": 28,
    "start_time": "2022-11-10T09:45:50.661Z"
   },
   {
    "duration": 28,
    "start_time": "2022-11-10T09:45:57.761Z"
   },
   {
    "duration": 28,
    "start_time": "2022-11-10T09:46:01.796Z"
   },
   {
    "duration": 29,
    "start_time": "2022-11-10T09:46:07.200Z"
   },
   {
    "duration": 27,
    "start_time": "2022-11-10T09:47:51.866Z"
   },
   {
    "duration": 30,
    "start_time": "2022-11-10T09:47:56.677Z"
   },
   {
    "duration": 29,
    "start_time": "2022-11-10T09:48:30.124Z"
   },
   {
    "duration": 30,
    "start_time": "2022-11-10T09:48:46.891Z"
   },
   {
    "duration": 26,
    "start_time": "2022-11-10T09:48:51.897Z"
   },
   {
    "duration": 20,
    "start_time": "2022-11-10T09:49:05.054Z"
   },
   {
    "duration": 21,
    "start_time": "2022-11-10T09:49:10.458Z"
   },
   {
    "duration": 115,
    "start_time": "2022-11-10T09:49:58.797Z"
   },
   {
    "duration": 22,
    "start_time": "2022-11-10T09:50:18.788Z"
   },
   {
    "duration": 30,
    "start_time": "2022-11-10T09:50:24.142Z"
   },
   {
    "duration": 22,
    "start_time": "2022-11-10T09:50:27.711Z"
   },
   {
    "duration": 28,
    "start_time": "2022-11-10T09:50:32.240Z"
   },
   {
    "duration": 31,
    "start_time": "2022-11-10T09:51:13.346Z"
   },
   {
    "duration": 21,
    "start_time": "2022-11-10T09:54:03.358Z"
   },
   {
    "duration": 21,
    "start_time": "2022-11-10T09:54:16.408Z"
   },
   {
    "duration": 82,
    "start_time": "2022-11-10T09:54:52.744Z"
   },
   {
    "duration": 1123,
    "start_time": "2022-11-10T09:57:18.762Z"
   },
   {
    "duration": 27,
    "start_time": "2022-11-10T09:57:52.256Z"
   },
   {
    "duration": 27,
    "start_time": "2022-11-10T09:57:55.502Z"
   },
   {
    "duration": 23,
    "start_time": "2022-11-10T09:58:04.304Z"
   },
   {
    "duration": 25,
    "start_time": "2022-11-10T09:58:07.925Z"
   },
   {
    "duration": 27,
    "start_time": "2022-11-10T09:58:57.733Z"
   },
   {
    "duration": 397,
    "start_time": "2022-11-10T10:00:13.684Z"
   },
   {
    "duration": 117,
    "start_time": "2022-11-10T10:00:24.051Z"
   },
   {
    "duration": 114,
    "start_time": "2022-11-10T10:01:06.158Z"
   },
   {
    "duration": 118,
    "start_time": "2022-11-10T10:01:11.854Z"
   },
   {
    "duration": 107,
    "start_time": "2022-11-10T10:01:41.624Z"
   },
   {
    "duration": 113,
    "start_time": "2022-11-10T10:01:46.853Z"
   },
   {
    "duration": 112,
    "start_time": "2022-11-10T10:02:00.010Z"
   },
   {
    "duration": 3277,
    "start_time": "2022-11-10T10:16:01.540Z"
   },
   {
    "duration": 155,
    "start_time": "2022-11-10T10:17:07.275Z"
   },
   {
    "duration": 119,
    "start_time": "2022-11-10T10:17:43.777Z"
   },
   {
    "duration": 150,
    "start_time": "2022-11-10T10:17:56.360Z"
   },
   {
    "duration": 169,
    "start_time": "2022-11-10T10:20:57.258Z"
   },
   {
    "duration": 1314,
    "start_time": "2022-11-10T10:22:04.948Z"
   },
   {
    "duration": 111,
    "start_time": "2022-11-10T10:22:43.957Z"
   },
   {
    "duration": 116,
    "start_time": "2022-11-10T10:22:56.974Z"
   },
   {
    "duration": 177,
    "start_time": "2022-11-10T10:28:46.366Z"
   },
   {
    "duration": 174,
    "start_time": "2022-11-10T10:29:06.452Z"
   },
   {
    "duration": 116,
    "start_time": "2022-11-10T10:30:39.069Z"
   },
   {
    "duration": 123,
    "start_time": "2022-11-10T10:30:51.954Z"
   },
   {
    "duration": 223,
    "start_time": "2022-11-10T10:30:58.083Z"
   },
   {
    "duration": 84,
    "start_time": "2022-11-10T10:31:09.227Z"
   },
   {
    "duration": 78,
    "start_time": "2022-11-10T10:31:38.032Z"
   },
   {
    "duration": 174,
    "start_time": "2022-11-10T10:32:13.779Z"
   },
   {
    "duration": 179,
    "start_time": "2022-11-10T10:33:28.265Z"
   },
   {
    "duration": 113,
    "start_time": "2022-11-10T10:34:05.198Z"
   },
   {
    "duration": 132,
    "start_time": "2022-11-10T10:34:08.077Z"
   },
   {
    "duration": 185,
    "start_time": "2022-11-10T10:34:32.477Z"
   },
   {
    "duration": 75,
    "start_time": "2022-11-10T10:34:58.808Z"
   },
   {
    "duration": 78,
    "start_time": "2022-11-10T10:35:27.188Z"
   },
   {
    "duration": 141,
    "start_time": "2022-11-10T10:35:48.608Z"
   },
   {
    "duration": 179,
    "start_time": "2022-11-10T10:36:27.265Z"
   },
   {
    "duration": 14243,
    "start_time": "2022-11-10T10:37:00.577Z"
   },
   {
    "duration": 13826,
    "start_time": "2022-11-10T10:38:40.393Z"
   },
   {
    "duration": 251,
    "start_time": "2022-11-10T10:40:03.301Z"
   },
   {
    "duration": 82,
    "start_time": "2022-11-10T10:40:57.958Z"
   },
   {
    "duration": 70,
    "start_time": "2022-11-10T10:41:24.301Z"
   },
   {
    "duration": 2864,
    "start_time": "2022-11-11T05:58:09.302Z"
   },
   {
    "duration": 222,
    "start_time": "2022-11-11T05:58:12.168Z"
   },
   {
    "duration": 28,
    "start_time": "2022-11-11T05:58:12.392Z"
   },
   {
    "duration": 33,
    "start_time": "2022-11-11T05:58:12.423Z"
   },
   {
    "duration": 18,
    "start_time": "2022-11-11T05:58:12.457Z"
   },
   {
    "duration": 373,
    "start_time": "2022-11-11T05:58:20.175Z"
   },
   {
    "duration": 35,
    "start_time": "2022-11-11T06:00:49.395Z"
   },
   {
    "duration": 35,
    "start_time": "2022-11-11T06:00:54.320Z"
   },
   {
    "duration": 37,
    "start_time": "2022-11-11T06:00:59.112Z"
   },
   {
    "duration": 37,
    "start_time": "2022-11-11T06:02:24.268Z"
   },
   {
    "duration": 44,
    "start_time": "2022-11-11T06:06:35.595Z"
   },
   {
    "duration": 43,
    "start_time": "2022-11-11T06:06:50.672Z"
   },
   {
    "duration": 53,
    "start_time": "2022-11-11T06:08:06.113Z"
   },
   {
    "duration": 48,
    "start_time": "2022-11-11T06:08:35.688Z"
   },
   {
    "duration": 110,
    "start_time": "2022-11-11T06:09:33.870Z"
   },
   {
    "duration": 218,
    "start_time": "2022-11-11T06:09:54.787Z"
   },
   {
    "duration": 219,
    "start_time": "2022-11-11T06:10:26.963Z"
   },
   {
    "duration": 216,
    "start_time": "2022-11-11T06:17:27.855Z"
   },
   {
    "duration": 27,
    "start_time": "2022-11-11T06:20:05.181Z"
   },
   {
    "duration": 6,
    "start_time": "2022-11-11T06:21:41.044Z"
   },
   {
    "duration": 4,
    "start_time": "2022-11-11T06:21:49.832Z"
   },
   {
    "duration": 4,
    "start_time": "2022-11-11T06:22:07.023Z"
   },
   {
    "duration": 35,
    "start_time": "2022-11-11T06:22:42.861Z"
   },
   {
    "duration": 10,
    "start_time": "2022-11-11T06:27:53.474Z"
   },
   {
    "duration": 67,
    "start_time": "2022-11-11T06:30:55.843Z"
   },
   {
    "duration": 70,
    "start_time": "2022-11-11T06:31:09.498Z"
   },
   {
    "duration": 613,
    "start_time": "2022-11-11T06:31:14.871Z"
   },
   {
    "duration": 27,
    "start_time": "2022-11-11T06:33:16.330Z"
   },
   {
    "duration": 607,
    "start_time": "2022-11-11T06:34:29.788Z"
   },
   {
    "duration": 586,
    "start_time": "2022-11-11T06:34:49.839Z"
   },
   {
    "duration": 663,
    "start_time": "2022-11-11T06:35:42.396Z"
   },
   {
    "duration": 2151,
    "start_time": "2022-11-11T06:38:50.388Z"
   },
   {
    "duration": 254,
    "start_time": "2022-11-11T06:38:52.542Z"
   },
   {
    "duration": 23,
    "start_time": "2022-11-11T06:38:52.798Z"
   },
   {
    "duration": 31,
    "start_time": "2022-11-11T06:38:52.822Z"
   },
   {
    "duration": 25,
    "start_time": "2022-11-11T06:38:52.854Z"
   },
   {
    "duration": 247,
    "start_time": "2022-11-11T06:38:52.881Z"
   },
   {
    "duration": 547,
    "start_time": "2022-11-11T06:38:55.908Z"
   },
   {
    "duration": 6,
    "start_time": "2022-11-11T06:39:07.783Z"
   },
   {
    "duration": 5,
    "start_time": "2022-11-11T06:39:21.038Z"
   },
   {
    "duration": 31,
    "start_time": "2022-11-11T06:39:30.415Z"
   },
   {
    "duration": 27,
    "start_time": "2022-11-11T06:39:47.177Z"
   },
   {
    "duration": 13,
    "start_time": "2022-11-11T06:40:45.566Z"
   },
   {
    "duration": 12,
    "start_time": "2022-11-11T06:40:53.700Z"
   },
   {
    "duration": 13,
    "start_time": "2022-11-11T06:45:26.171Z"
   },
   {
    "duration": 14,
    "start_time": "2022-11-11T06:45:38.338Z"
   },
   {
    "duration": 35,
    "start_time": "2022-11-11T06:45:52.019Z"
   },
   {
    "duration": 49,
    "start_time": "2022-11-11T06:46:04.677Z"
   },
   {
    "duration": 37,
    "start_time": "2022-11-11T06:46:13.721Z"
   },
   {
    "duration": 16,
    "start_time": "2022-11-11T06:46:30.784Z"
   },
   {
    "duration": 15,
    "start_time": "2022-11-11T06:46:43.028Z"
   },
   {
    "duration": 2077,
    "start_time": "2022-11-11T06:46:49.228Z"
   },
   {
    "duration": 250,
    "start_time": "2022-11-11T06:46:51.307Z"
   },
   {
    "duration": 18,
    "start_time": "2022-11-11T06:46:51.559Z"
   },
   {
    "duration": 45,
    "start_time": "2022-11-11T06:46:51.579Z"
   },
   {
    "duration": 26,
    "start_time": "2022-11-11T06:46:51.626Z"
   },
   {
    "duration": 237,
    "start_time": "2022-11-11T06:46:51.653Z"
   },
   {
    "duration": 14,
    "start_time": "2022-11-11T06:46:54.213Z"
   },
   {
    "duration": 12,
    "start_time": "2022-11-11T06:47:52.206Z"
   },
   {
    "duration": 14,
    "start_time": "2022-11-11T06:52:03.350Z"
   },
   {
    "duration": 14,
    "start_time": "2022-11-11T06:56:45.785Z"
   },
   {
    "duration": 31,
    "start_time": "2022-11-11T06:57:09.658Z"
   },
   {
    "duration": 32,
    "start_time": "2022-11-11T06:57:24.997Z"
   },
   {
    "duration": 32,
    "start_time": "2022-11-11T07:00:28.663Z"
   },
   {
    "duration": 58,
    "start_time": "2022-11-11T07:00:57.609Z"
   },
   {
    "duration": 17,
    "start_time": "2022-11-11T07:03:20.000Z"
   },
   {
    "duration": 14,
    "start_time": "2022-11-11T07:03:24.186Z"
   },
   {
    "duration": 16,
    "start_time": "2022-11-11T07:03:31.139Z"
   },
   {
    "duration": 16,
    "start_time": "2022-11-11T07:03:34.826Z"
   },
   {
    "duration": 17,
    "start_time": "2022-11-11T07:03:44.913Z"
   },
   {
    "duration": 2105,
    "start_time": "2022-11-11T07:04:56.129Z"
   },
   {
    "duration": 10,
    "start_time": "2022-11-11T07:07:50.744Z"
   },
   {
    "duration": 131,
    "start_time": "2022-11-11T07:09:01.209Z"
   },
   {
    "duration": 133,
    "start_time": "2022-11-11T07:10:49.785Z"
   },
   {
    "duration": 144,
    "start_time": "2022-11-11T07:11:06.125Z"
   },
   {
    "duration": 2078,
    "start_time": "2022-11-11T07:11:10.406Z"
   },
   {
    "duration": 234,
    "start_time": "2022-11-11T07:11:12.485Z"
   },
   {
    "duration": 18,
    "start_time": "2022-11-11T07:11:12.721Z"
   },
   {
    "duration": 30,
    "start_time": "2022-11-11T07:11:12.741Z"
   },
   {
    "duration": 51,
    "start_time": "2022-11-11T07:11:12.772Z"
   },
   {
    "duration": 213,
    "start_time": "2022-11-11T07:11:12.825Z"
   },
   {
    "duration": 138,
    "start_time": "2022-11-11T07:11:13.040Z"
   },
   {
    "duration": 168,
    "start_time": "2022-11-11T07:11:57.176Z"
   },
   {
    "duration": 158,
    "start_time": "2022-11-11T07:17:02.868Z"
   },
   {
    "duration": 176,
    "start_time": "2022-11-11T07:17:17.888Z"
   },
   {
    "duration": 178,
    "start_time": "2022-11-11T07:18:37.110Z"
   },
   {
    "duration": 1389,
    "start_time": "2022-11-11T07:27:50.798Z"
   },
   {
    "duration": 1288,
    "start_time": "2022-11-11T07:28:01.855Z"
   },
   {
    "duration": 151,
    "start_time": "2022-11-11T07:28:09.572Z"
   },
   {
    "duration": 253,
    "start_time": "2022-11-11T07:28:35.234Z"
   },
   {
    "duration": 173,
    "start_time": "2022-11-11T07:28:49.599Z"
   },
   {
    "duration": 171,
    "start_time": "2022-11-11T07:30:01.165Z"
   },
   {
    "duration": 170,
    "start_time": "2022-11-11T07:31:21.443Z"
   },
   {
    "duration": 168,
    "start_time": "2022-11-11T07:31:35.423Z"
   },
   {
    "duration": 189,
    "start_time": "2022-11-11T07:35:27.935Z"
   },
   {
    "duration": 187,
    "start_time": "2022-11-11T07:36:53.763Z"
   },
   {
    "duration": 167,
    "start_time": "2022-11-11T07:37:03.849Z"
   },
   {
    "duration": 172,
    "start_time": "2022-11-11T07:41:00.787Z"
   },
   {
    "duration": 148,
    "start_time": "2022-11-11T07:51:25.478Z"
   },
   {
    "duration": 181,
    "start_time": "2022-11-11T07:52:00.111Z"
   },
   {
    "duration": 243,
    "start_time": "2022-11-11T07:52:35.971Z"
   },
   {
    "duration": 274,
    "start_time": "2022-11-11T07:53:09.701Z"
   },
   {
    "duration": 169,
    "start_time": "2022-11-11T07:54:31.373Z"
   },
   {
    "duration": 77,
    "start_time": "2022-11-11T07:55:44.897Z"
   },
   {
    "duration": 79,
    "start_time": "2022-11-11T07:55:56.179Z"
   },
   {
    "duration": 170,
    "start_time": "2022-11-11T07:56:14.094Z"
   },
   {
    "duration": 173,
    "start_time": "2022-11-11T07:56:30.280Z"
   },
   {
    "duration": 178,
    "start_time": "2022-11-11T07:56:37.122Z"
   },
   {
    "duration": 145,
    "start_time": "2022-11-11T08:09:20.678Z"
   },
   {
    "duration": 19,
    "start_time": "2022-11-11T10:39:35.531Z"
   },
   {
    "duration": 71,
    "start_time": "2022-11-11T10:41:36.171Z"
   },
   {
    "duration": 13,
    "start_time": "2022-11-11T10:41:40.273Z"
   },
   {
    "duration": 4,
    "start_time": "2022-11-11T10:42:16.312Z"
   },
   {
    "duration": 4,
    "start_time": "2022-11-11T10:42:18.394Z"
   },
   {
    "duration": 6,
    "start_time": "2022-11-11T10:42:28.555Z"
   },
   {
    "duration": 6,
    "start_time": "2022-11-11T10:43:34.340Z"
   },
   {
    "duration": 69,
    "start_time": "2022-11-11T10:46:19.653Z"
   },
   {
    "duration": 75,
    "start_time": "2022-11-11T10:46:27.303Z"
   },
   {
    "duration": 27,
    "start_time": "2022-11-11T10:46:32.913Z"
   },
   {
    "duration": 21,
    "start_time": "2022-11-11T10:46:59.704Z"
   },
   {
    "duration": 18,
    "start_time": "2022-11-11T10:47:16.562Z"
   },
   {
    "duration": 23,
    "start_time": "2022-11-11T10:47:28.246Z"
   },
   {
    "duration": 57,
    "start_time": "2022-11-11T10:49:05.177Z"
   },
   {
    "duration": 72,
    "start_time": "2022-11-11T10:54:22.492Z"
   },
   {
    "duration": 1113,
    "start_time": "2022-11-11T10:54:30.942Z"
   },
   {
    "duration": 28,
    "start_time": "2022-11-11T10:58:41.024Z"
   },
   {
    "duration": 647,
    "start_time": "2022-11-11T10:58:51.757Z"
   },
   {
    "duration": 20,
    "start_time": "2022-11-11T10:59:10.454Z"
   },
   {
    "duration": 19,
    "start_time": "2022-11-11T10:59:24.208Z"
   },
   {
    "duration": 545,
    "start_time": "2022-11-11T10:59:30.895Z"
   },
   {
    "duration": 593,
    "start_time": "2022-11-11T10:59:37.714Z"
   },
   {
    "duration": 1163,
    "start_time": "2022-11-11T11:00:22.874Z"
   },
   {
    "duration": 1245,
    "start_time": "2022-11-11T11:00:36.551Z"
   },
   {
    "duration": 1211,
    "start_time": "2022-11-11T11:00:42.727Z"
   },
   {
    "duration": 69,
    "start_time": "2022-11-11T11:01:49.679Z"
   },
   {
    "duration": 1230,
    "start_time": "2022-11-11T11:01:53.655Z"
   },
   {
    "duration": 1323,
    "start_time": "2022-11-11T11:02:06.643Z"
   },
   {
    "duration": 1193,
    "start_time": "2022-11-11T11:02:13.255Z"
   },
   {
    "duration": 1239,
    "start_time": "2022-11-11T11:03:06.756Z"
   },
   {
    "duration": 23,
    "start_time": "2022-11-11T11:04:12.475Z"
   },
   {
    "duration": 24,
    "start_time": "2022-11-11T11:04:23.675Z"
   },
   {
    "duration": 22,
    "start_time": "2022-11-11T11:04:31.969Z"
   },
   {
    "duration": 425,
    "start_time": "2022-11-11T11:09:32.389Z"
   },
   {
    "duration": 436,
    "start_time": "2022-11-11T11:14:04.801Z"
   },
   {
    "duration": 346,
    "start_time": "2022-11-11T11:14:28.244Z"
   },
   {
    "duration": 363,
    "start_time": "2022-11-11T11:14:35.994Z"
   },
   {
    "duration": 1176,
    "start_time": "2022-11-11T11:21:06.917Z"
   },
   {
    "duration": 14,
    "start_time": "2022-11-11T11:21:22.043Z"
   },
   {
    "duration": 23,
    "start_time": "2022-11-11T11:21:51.189Z"
   },
   {
    "duration": 1139,
    "start_time": "2022-11-11T11:22:46.490Z"
   },
   {
    "duration": 23,
    "start_time": "2022-11-11T11:23:04.241Z"
   },
   {
    "duration": 34,
    "start_time": "2022-11-11T11:23:20.951Z"
   },
   {
    "duration": 21,
    "start_time": "2022-11-11T11:24:06.237Z"
   },
   {
    "duration": 22,
    "start_time": "2022-11-11T11:24:17.836Z"
   },
   {
    "duration": 19,
    "start_time": "2022-11-11T11:24:29.075Z"
   },
   {
    "duration": 75,
    "start_time": "2022-11-11T11:25:19.790Z"
   },
   {
    "duration": 318,
    "start_time": "2022-11-11T11:27:23.070Z"
   },
   {
    "duration": 2133,
    "start_time": "2022-11-11T11:27:32.110Z"
   },
   {
    "duration": 235,
    "start_time": "2022-11-11T11:27:34.246Z"
   },
   {
    "duration": 26,
    "start_time": "2022-11-11T11:27:34.483Z"
   },
   {
    "duration": 32,
    "start_time": "2022-11-11T11:27:34.511Z"
   },
   {
    "duration": 1139,
    "start_time": "2022-11-11T11:27:34.545Z"
   },
   {
    "duration": 0,
    "start_time": "2022-11-11T11:27:35.686Z"
   },
   {
    "duration": 0,
    "start_time": "2022-11-11T11:27:35.687Z"
   },
   {
    "duration": 0,
    "start_time": "2022-11-11T11:27:35.689Z"
   },
   {
    "duration": 14,
    "start_time": "2022-11-11T11:27:39.720Z"
   },
   {
    "duration": 2059,
    "start_time": "2022-11-11T11:27:59.486Z"
   },
   {
    "duration": 246,
    "start_time": "2022-11-11T11:28:01.547Z"
   },
   {
    "duration": 28,
    "start_time": "2022-11-11T11:28:01.795Z"
   },
   {
    "duration": 49,
    "start_time": "2022-11-11T11:28:01.826Z"
   },
   {
    "duration": 1205,
    "start_time": "2022-11-11T11:28:01.877Z"
   },
   {
    "duration": 0,
    "start_time": "2022-11-11T11:28:03.083Z"
   },
   {
    "duration": 0,
    "start_time": "2022-11-11T11:28:03.085Z"
   },
   {
    "duration": 38,
    "start_time": "2022-11-11T11:29:07.782Z"
   },
   {
    "duration": 530,
    "start_time": "2022-11-11T11:29:14.637Z"
   },
   {
    "duration": 448,
    "start_time": "2022-11-11T11:29:22.115Z"
   },
   {
    "duration": 315,
    "start_time": "2022-11-11T11:44:15.663Z"
   },
   {
    "duration": 113,
    "start_time": "2022-11-11T12:07:43.799Z"
   },
   {
    "duration": 105,
    "start_time": "2022-11-11T12:07:56.556Z"
   },
   {
    "duration": 134,
    "start_time": "2022-11-11T12:08:06.836Z"
   },
   {
    "duration": 150,
    "start_time": "2022-11-11T12:08:33.982Z"
   },
   {
    "duration": 201,
    "start_time": "2022-11-11T12:08:39.348Z"
   },
   {
    "duration": 158,
    "start_time": "2022-11-11T12:10:32.281Z"
   },
   {
    "duration": 152,
    "start_time": "2022-11-11T12:10:38.688Z"
   },
   {
    "duration": 151,
    "start_time": "2022-11-11T12:11:19.370Z"
   },
   {
    "duration": 163,
    "start_time": "2022-11-11T12:11:29.163Z"
   },
   {
    "duration": 140,
    "start_time": "2022-11-11T12:12:20.387Z"
   },
   {
    "duration": 167,
    "start_time": "2022-11-11T12:13:29.416Z"
   },
   {
    "duration": 131,
    "start_time": "2022-11-11T12:13:34.784Z"
   },
   {
    "duration": 300,
    "start_time": "2022-11-11T12:15:21.836Z"
   },
   {
    "duration": 379,
    "start_time": "2022-11-11T12:15:43.761Z"
   },
   {
    "duration": 314,
    "start_time": "2022-11-11T12:18:01.756Z"
   },
   {
    "duration": 297,
    "start_time": "2022-11-11T12:18:21.940Z"
   },
   {
    "duration": 295,
    "start_time": "2022-11-11T12:18:33.085Z"
   },
   {
    "duration": 501,
    "start_time": "2022-11-11T12:20:40.987Z"
   },
   {
    "duration": 523,
    "start_time": "2022-11-11T12:20:51.584Z"
   },
   {
    "duration": 315,
    "start_time": "2022-11-11T12:25:19.967Z"
   },
   {
    "duration": 524,
    "start_time": "2022-11-11T12:25:31.059Z"
   },
   {
    "duration": 669,
    "start_time": "2022-11-11T12:25:52.220Z"
   },
   {
    "duration": 627,
    "start_time": "2022-11-11T12:26:05.421Z"
   },
   {
    "duration": 565,
    "start_time": "2022-11-11T12:26:11.470Z"
   },
   {
    "duration": 74,
    "start_time": "2022-11-11T12:26:49.687Z"
   },
   {
    "duration": 752,
    "start_time": "2022-11-11T12:26:56.921Z"
   },
   {
    "duration": 621,
    "start_time": "2022-11-11T12:27:32.136Z"
   },
   {
    "duration": 605,
    "start_time": "2022-11-11T12:28:13.568Z"
   },
   {
    "duration": 731,
    "start_time": "2022-11-11T12:28:21.627Z"
   },
   {
    "duration": 570,
    "start_time": "2022-11-11T12:28:39.077Z"
   },
   {
    "duration": 606,
    "start_time": "2022-11-11T12:28:53.523Z"
   },
   {
    "duration": 734,
    "start_time": "2022-11-11T12:31:20.609Z"
   },
   {
    "duration": 601,
    "start_time": "2022-11-11T12:32:21.514Z"
   },
   {
    "duration": 695,
    "start_time": "2022-11-11T12:32:38.323Z"
   },
   {
    "duration": 744,
    "start_time": "2022-11-11T12:34:15.428Z"
   },
   {
    "duration": 747,
    "start_time": "2022-11-11T12:34:26.366Z"
   },
   {
    "duration": 861,
    "start_time": "2022-11-11T12:34:42.954Z"
   },
   {
    "duration": 1038,
    "start_time": "2022-11-11T12:37:41.743Z"
   },
   {
    "duration": 1011,
    "start_time": "2022-11-11T12:37:52.219Z"
   },
   {
    "duration": 1237,
    "start_time": "2022-11-11T12:43:45.576Z"
   },
   {
    "duration": 1065,
    "start_time": "2022-11-11T12:44:02.277Z"
   },
   {
    "duration": 1254,
    "start_time": "2022-11-11T12:46:02.162Z"
   },
   {
    "duration": 1349,
    "start_time": "2022-11-11T12:46:25.871Z"
   },
   {
    "duration": 1206,
    "start_time": "2022-11-11T12:49:09.104Z"
   },
   {
    "duration": 1320,
    "start_time": "2022-11-11T13:03:03.558Z"
   },
   {
    "duration": 1305,
    "start_time": "2022-11-11T13:03:37.145Z"
   },
   {
    "duration": 1088,
    "start_time": "2022-11-11T13:05:38.862Z"
   },
   {
    "duration": 158,
    "start_time": "2022-11-11T13:06:32.935Z"
   },
   {
    "duration": 80,
    "start_time": "2022-11-11T13:06:35.162Z"
   },
   {
    "duration": 1382,
    "start_time": "2022-11-11T13:06:39.647Z"
   },
   {
    "duration": 1504,
    "start_time": "2022-11-11T13:15:03.997Z"
   },
   {
    "duration": 1395,
    "start_time": "2022-11-11T13:15:32.412Z"
   },
   {
    "duration": 1648,
    "start_time": "2022-11-11T13:16:31.512Z"
   },
   {
    "duration": 1665,
    "start_time": "2022-11-11T13:16:59.293Z"
   },
   {
    "duration": 3032,
    "start_time": "2022-11-14T07:54:43.887Z"
   },
   {
    "duration": 218,
    "start_time": "2022-11-14T07:54:46.921Z"
   },
   {
    "duration": 19,
    "start_time": "2022-11-14T07:54:47.141Z"
   },
   {
    "duration": 32,
    "start_time": "2022-11-14T07:54:47.161Z"
   },
   {
    "duration": 57,
    "start_time": "2022-11-14T07:54:47.194Z"
   },
   {
    "duration": 230,
    "start_time": "2022-11-14T07:54:47.253Z"
   },
   {
    "duration": 161,
    "start_time": "2022-11-14T07:54:47.485Z"
   },
   {
    "duration": 326,
    "start_time": "2022-11-14T07:54:47.647Z"
   },
   {
    "duration": 1634,
    "start_time": "2022-11-14T07:54:58.268Z"
   },
   {
    "duration": 1983,
    "start_time": "2022-11-14T07:56:00.242Z"
   },
   {
    "duration": 2207,
    "start_time": "2022-11-14T08:09:50.499Z"
   },
   {
    "duration": 2343,
    "start_time": "2022-11-14T08:17:06.960Z"
   },
   {
    "duration": 2380,
    "start_time": "2022-11-14T08:23:58.558Z"
   },
   {
    "duration": 2429,
    "start_time": "2022-11-14T08:24:35.461Z"
   },
   {
    "duration": 2405,
    "start_time": "2022-11-14T08:25:05.766Z"
   },
   {
    "duration": 2593,
    "start_time": "2022-11-14T08:25:35.145Z"
   },
   {
    "duration": 3158,
    "start_time": "2022-11-14T08:29:59.705Z"
   },
   {
    "duration": 2278,
    "start_time": "2022-11-14T08:30:13.281Z"
   },
   {
    "duration": 228,
    "start_time": "2022-11-14T08:30:15.561Z"
   },
   {
    "duration": 18,
    "start_time": "2022-11-14T08:30:15.791Z"
   },
   {
    "duration": 45,
    "start_time": "2022-11-14T08:30:15.811Z"
   },
   {
    "duration": 29,
    "start_time": "2022-11-14T08:30:15.858Z"
   },
   {
    "duration": 296,
    "start_time": "2022-11-14T08:30:15.888Z"
   },
   {
    "duration": 162,
    "start_time": "2022-11-14T08:30:16.186Z"
   },
   {
    "duration": 367,
    "start_time": "2022-11-14T08:30:16.351Z"
   },
   {
    "duration": 3241,
    "start_time": "2022-11-14T08:31:51.051Z"
   },
   {
    "duration": 2653,
    "start_time": "2022-11-14T08:32:03.458Z"
   },
   {
    "duration": 297,
    "start_time": "2022-11-14T08:32:06.113Z"
   },
   {
    "duration": 33,
    "start_time": "2022-11-14T08:32:06.411Z"
   },
   {
    "duration": 45,
    "start_time": "2022-11-14T08:32:06.447Z"
   },
   {
    "duration": 68,
    "start_time": "2022-11-14T08:32:06.493Z"
   },
   {
    "duration": 253,
    "start_time": "2022-11-14T08:32:06.563Z"
   },
   {
    "duration": 180,
    "start_time": "2022-11-14T08:32:06.818Z"
   },
   {
    "duration": 407,
    "start_time": "2022-11-14T08:32:07.000Z"
   },
   {
    "duration": 2673,
    "start_time": "2022-11-14T08:32:53.083Z"
   },
   {
    "duration": 2325,
    "start_time": "2022-11-14T08:33:39.835Z"
   },
   {
    "duration": 2763,
    "start_time": "2022-11-14T08:34:19.418Z"
   },
   {
    "duration": 241,
    "start_time": "2022-11-14T10:37:59.003Z"
   },
   {
    "duration": 180,
    "start_time": "2022-11-14T10:40:07.716Z"
   },
   {
    "duration": 187,
    "start_time": "2022-11-14T10:40:16.772Z"
   },
   {
    "duration": 202,
    "start_time": "2022-11-14T10:41:03.171Z"
   },
   {
    "duration": 196,
    "start_time": "2022-11-14T10:41:22.761Z"
   },
   {
    "duration": 214,
    "start_time": "2022-11-14T10:41:59.483Z"
   },
   {
    "duration": 180,
    "start_time": "2022-11-14T10:42:11.979Z"
   },
   {
    "duration": 195,
    "start_time": "2022-11-14T10:42:20.563Z"
   },
   {
    "duration": 49,
    "start_time": "2022-11-14T15:20:29.783Z"
   },
   {
    "duration": 3108,
    "start_time": "2022-11-14T15:20:33.945Z"
   },
   {
    "duration": 214,
    "start_time": "2022-11-14T15:20:37.055Z"
   },
   {
    "duration": 19,
    "start_time": "2022-11-14T15:20:37.271Z"
   },
   {
    "duration": 30,
    "start_time": "2022-11-14T15:20:37.291Z"
   },
   {
    "duration": 32,
    "start_time": "2022-11-14T15:20:37.333Z"
   },
   {
    "duration": 225,
    "start_time": "2022-11-14T15:20:37.366Z"
   },
   {
    "duration": 158,
    "start_time": "2022-11-14T15:20:37.593Z"
   },
   {
    "duration": 355,
    "start_time": "2022-11-14T15:20:37.753Z"
   },
   {
    "duration": 2277,
    "start_time": "2022-11-14T15:20:38.110Z"
   },
   {
    "duration": 2096,
    "start_time": "2022-11-14T15:20:44.681Z"
   },
   {
    "duration": 235,
    "start_time": "2022-11-14T15:20:46.780Z"
   },
   {
    "duration": 22,
    "start_time": "2022-11-14T15:20:47.016Z"
   },
   {
    "duration": 31,
    "start_time": "2022-11-14T15:20:47.040Z"
   },
   {
    "duration": 30,
    "start_time": "2022-11-14T15:20:47.073Z"
   },
   {
    "duration": 232,
    "start_time": "2022-11-14T15:20:47.105Z"
   },
   {
    "duration": 149,
    "start_time": "2022-11-14T15:20:47.338Z"
   },
   {
    "duration": 420,
    "start_time": "2022-11-14T15:20:47.489Z"
   },
   {
    "duration": 2326,
    "start_time": "2022-11-14T15:20:47.910Z"
   },
   {
    "duration": 188,
    "start_time": "2022-11-14T15:20:58.046Z"
   },
   {
    "duration": 238,
    "start_time": "2022-11-14T15:30:11.043Z"
   },
   {
    "duration": 997,
    "start_time": "2022-11-14T15:30:56.250Z"
   },
   {
    "duration": 378,
    "start_time": "2022-11-14T15:31:44.330Z"
   },
   {
    "duration": 326,
    "start_time": "2022-11-14T15:32:06.641Z"
   },
   {
    "duration": 302,
    "start_time": "2022-11-14T15:33:28.889Z"
   },
   {
    "duration": 306,
    "start_time": "2022-11-14T15:33:43.441Z"
   },
   {
    "duration": 189,
    "start_time": "2022-11-14T15:35:09.256Z"
   },
   {
    "duration": 191,
    "start_time": "2022-11-14T15:35:22.127Z"
   },
   {
    "duration": 202,
    "start_time": "2022-11-14T15:35:33.976Z"
   },
   {
    "duration": 211,
    "start_time": "2022-11-14T15:51:21.233Z"
   },
   {
    "duration": 272,
    "start_time": "2022-11-14T15:51:37.640Z"
   },
   {
    "duration": 205,
    "start_time": "2022-11-14T15:51:43.664Z"
   },
   {
    "duration": 201,
    "start_time": "2022-11-14T15:51:54.287Z"
   },
   {
    "duration": 205,
    "start_time": "2022-11-14T15:52:02.991Z"
   },
   {
    "duration": 216,
    "start_time": "2022-11-14T15:54:02.031Z"
   },
   {
    "duration": 3457,
    "start_time": "2022-11-15T07:37:30.091Z"
   },
   {
    "duration": 237,
    "start_time": "2022-11-15T07:37:33.550Z"
   },
   {
    "duration": 20,
    "start_time": "2022-11-15T07:37:33.788Z"
   },
   {
    "duration": 42,
    "start_time": "2022-11-15T07:37:33.810Z"
   },
   {
    "duration": 36,
    "start_time": "2022-11-15T07:37:33.854Z"
   },
   {
    "duration": 339,
    "start_time": "2022-11-15T07:37:33.892Z"
   },
   {
    "duration": 183,
    "start_time": "2022-11-15T07:37:34.234Z"
   },
   {
    "duration": 363,
    "start_time": "2022-11-15T07:37:34.422Z"
   },
   {
    "duration": 2500,
    "start_time": "2022-11-15T07:37:34.786Z"
   },
   {
    "duration": 298,
    "start_time": "2022-11-15T07:37:42.551Z"
   },
   {
    "duration": 133,
    "start_time": "2022-11-15T07:48:33.156Z"
   },
   {
    "duration": 85,
    "start_time": "2022-11-15T07:49:28.230Z"
   },
   {
    "duration": 143,
    "start_time": "2022-11-15T07:49:50.759Z"
   },
   {
    "duration": 131,
    "start_time": "2022-11-15T07:49:56.659Z"
   },
   {
    "duration": 30,
    "start_time": "2022-11-15T07:55:57.021Z"
   },
   {
    "duration": 133,
    "start_time": "2022-11-15T07:56:20.253Z"
   },
   {
    "duration": 2141,
    "start_time": "2022-11-15T07:56:23.849Z"
   },
   {
    "duration": 245,
    "start_time": "2022-11-15T07:56:25.992Z"
   },
   {
    "duration": 20,
    "start_time": "2022-11-15T07:56:26.238Z"
   },
   {
    "duration": 33,
    "start_time": "2022-11-15T07:56:26.260Z"
   },
   {
    "duration": 55,
    "start_time": "2022-11-15T07:56:26.295Z"
   },
   {
    "duration": 234,
    "start_time": "2022-11-15T07:56:26.351Z"
   },
   {
    "duration": 156,
    "start_time": "2022-11-15T07:56:26.587Z"
   },
   {
    "duration": 349,
    "start_time": "2022-11-15T07:56:26.745Z"
   },
   {
    "duration": 2370,
    "start_time": "2022-11-15T07:56:27.096Z"
   },
   {
    "duration": 208,
    "start_time": "2022-11-15T07:56:29.468Z"
   },
   {
    "duration": 210,
    "start_time": "2022-11-15T07:56:36.413Z"
   },
   {
    "duration": 2370,
    "start_time": "2022-11-15T07:57:27.384Z"
   },
   {
    "duration": 192,
    "start_time": "2022-11-15T07:58:07.658Z"
   },
   {
    "duration": 18,
    "start_time": "2022-11-15T07:59:54.712Z"
   },
   {
    "duration": 17,
    "start_time": "2022-11-15T08:01:24.043Z"
   },
   {
    "duration": 19,
    "start_time": "2022-11-15T08:01:39.103Z"
   },
   {
    "duration": 95,
    "start_time": "2022-11-15T08:03:28.336Z"
   },
   {
    "duration": 125,
    "start_time": "2022-11-15T08:03:32.816Z"
   },
   {
    "duration": 124,
    "start_time": "2022-11-15T08:03:47.580Z"
   },
   {
    "duration": 153,
    "start_time": "2022-11-15T08:04:00.838Z"
   },
   {
    "duration": 148,
    "start_time": "2022-11-15T08:04:23.120Z"
   },
   {
    "duration": 148,
    "start_time": "2022-11-15T08:11:58.327Z"
   },
   {
    "duration": 181,
    "start_time": "2022-11-15T08:12:04.092Z"
   },
   {
    "duration": 206,
    "start_time": "2022-11-15T08:12:49.979Z"
   },
   {
    "duration": 456,
    "start_time": "2022-11-15T08:12:55.247Z"
   },
   {
    "duration": 195,
    "start_time": "2022-11-15T08:13:00.351Z"
   },
   {
    "duration": 223,
    "start_time": "2022-11-15T08:13:22.763Z"
   },
   {
    "duration": 143,
    "start_time": "2022-11-15T08:13:36.927Z"
   },
   {
    "duration": 136,
    "start_time": "2022-11-15T08:14:47.888Z"
   },
   {
    "duration": 137,
    "start_time": "2022-11-15T08:15:13.116Z"
   },
   {
    "duration": 278,
    "start_time": "2022-11-15T08:15:57.449Z"
   },
   {
    "duration": 284,
    "start_time": "2022-11-15T08:16:26.716Z"
   },
   {
    "duration": 280,
    "start_time": "2022-11-15T08:16:33.443Z"
   },
   {
    "duration": 506,
    "start_time": "2022-11-15T08:18:16.421Z"
   },
   {
    "duration": 434,
    "start_time": "2022-11-15T08:18:40.877Z"
   },
   {
    "duration": 416,
    "start_time": "2022-11-15T08:18:47.158Z"
   },
   {
    "duration": 652,
    "start_time": "2022-11-15T08:20:20.759Z"
   },
   {
    "duration": 1051,
    "start_time": "2022-11-15T08:22:32.827Z"
   },
   {
    "duration": 1091,
    "start_time": "2022-11-15T08:23:13.007Z"
   },
   {
    "duration": 770,
    "start_time": "2022-11-15T08:23:26.657Z"
   },
   {
    "duration": 710,
    "start_time": "2022-11-15T08:24:24.472Z"
   },
   {
    "duration": 1248,
    "start_time": "2022-11-15T08:26:49.676Z"
   },
   {
    "duration": 71,
    "start_time": "2022-11-15T08:28:28.905Z"
   },
   {
    "duration": 1260,
    "start_time": "2022-11-15T08:53:58.695Z"
   },
   {
    "duration": 1316,
    "start_time": "2022-11-15T08:55:03.991Z"
   },
   {
    "duration": 1170,
    "start_time": "2022-11-15T08:55:19.631Z"
   },
   {
    "duration": 86,
    "start_time": "2022-11-15T08:56:00.428Z"
   },
   {
    "duration": 1295,
    "start_time": "2022-11-15T08:56:08.760Z"
   },
   {
    "duration": 1224,
    "start_time": "2022-11-15T08:56:54.962Z"
   },
   {
    "duration": 3316,
    "start_time": "2022-11-15T13:46:06.546Z"
   },
   {
    "duration": 243,
    "start_time": "2022-11-15T13:46:09.864Z"
   },
   {
    "duration": 21,
    "start_time": "2022-11-15T13:46:10.109Z"
   },
   {
    "duration": 34,
    "start_time": "2022-11-15T13:46:10.138Z"
   },
   {
    "duration": 38,
    "start_time": "2022-11-15T13:46:10.174Z"
   },
   {
    "duration": 251,
    "start_time": "2022-11-15T13:46:10.213Z"
   },
   {
    "duration": 176,
    "start_time": "2022-11-15T13:46:10.465Z"
   },
   {
    "duration": 348,
    "start_time": "2022-11-15T13:46:10.643Z"
   },
   {
    "duration": 2585,
    "start_time": "2022-11-15T13:46:10.992Z"
   },
   {
    "duration": 319,
    "start_time": "2022-11-15T13:46:13.580Z"
   },
   {
    "duration": 115,
    "start_time": "2022-11-15T13:49:27.189Z"
   },
   {
    "duration": 4,
    "start_time": "2022-11-15T13:49:37.868Z"
   },
   {
    "duration": 38,
    "start_time": "2022-11-15T13:49:44.243Z"
   },
   {
    "duration": 10,
    "start_time": "2022-11-15T13:50:14.124Z"
   },
   {
    "duration": 16,
    "start_time": "2022-11-15T13:50:51.556Z"
   },
   {
    "duration": 39,
    "start_time": "2022-11-15T13:51:11.283Z"
   },
   {
    "duration": 12,
    "start_time": "2022-11-15T13:52:58.753Z"
   },
   {
    "duration": 9,
    "start_time": "2022-11-15T13:53:09.810Z"
   },
   {
    "duration": 351,
    "start_time": "2022-11-15T13:56:41.209Z"
   },
   {
    "duration": 355,
    "start_time": "2022-11-15T13:57:35.177Z"
   },
   {
    "duration": 6,
    "start_time": "2022-11-15T14:02:27.151Z"
   },
   {
    "duration": 8,
    "start_time": "2022-11-15T14:02:42.390Z"
   },
   {
    "duration": 78,
    "start_time": "2022-11-15T14:09:08.667Z"
   },
   {
    "duration": 101,
    "start_time": "2022-11-15T14:09:20.557Z"
   },
   {
    "duration": 12,
    "start_time": "2022-11-15T14:09:28.093Z"
   },
   {
    "duration": 12,
    "start_time": "2022-11-15T14:09:50.945Z"
   },
   {
    "duration": 77,
    "start_time": "2022-11-15T14:10:18.707Z"
   },
   {
    "duration": 8,
    "start_time": "2022-11-15T14:10:21.733Z"
   },
   {
    "duration": 12,
    "start_time": "2022-11-15T14:10:31.730Z"
   },
   {
    "duration": 11,
    "start_time": "2022-11-15T14:10:51.082Z"
   },
   {
    "duration": 7,
    "start_time": "2022-11-15T14:10:57.252Z"
   },
   {
    "duration": 13,
    "start_time": "2022-11-15T14:11:16.467Z"
   },
   {
    "duration": 11,
    "start_time": "2022-11-15T14:11:20.389Z"
   },
   {
    "duration": 11,
    "start_time": "2022-11-15T14:11:31.186Z"
   },
   {
    "duration": 6,
    "start_time": "2022-11-15T14:11:54.323Z"
   },
   {
    "duration": 8,
    "start_time": "2022-11-15T14:12:02.666Z"
   },
   {
    "duration": 6,
    "start_time": "2022-11-15T14:15:20.048Z"
   },
   {
    "duration": 590,
    "start_time": "2022-11-15T14:15:45.425Z"
   },
   {
    "duration": 14,
    "start_time": "2022-11-15T14:16:16.904Z"
   },
   {
    "duration": 570,
    "start_time": "2022-11-15T14:16:55.375Z"
   },
   {
    "duration": 585,
    "start_time": "2022-11-15T14:17:23.161Z"
   },
   {
    "duration": 607,
    "start_time": "2022-11-15T14:23:36.676Z"
   },
   {
    "duration": 7,
    "start_time": "2022-11-15T14:23:44.596Z"
   },
   {
    "duration": 11,
    "start_time": "2022-11-15T14:23:49.996Z"
   },
   {
    "duration": 11,
    "start_time": "2022-11-15T14:24:20.787Z"
   },
   {
    "duration": 1120,
    "start_time": "2022-11-15T14:24:27.229Z"
   },
   {
    "duration": 1209,
    "start_time": "2022-11-15T14:24:40.468Z"
   },
   {
    "duration": 10,
    "start_time": "2022-11-15T14:24:51.267Z"
   },
   {
    "duration": 94,
    "start_time": "2022-11-15T14:24:58.667Z"
   },
   {
    "duration": 14,
    "start_time": "2022-11-15T14:26:01.739Z"
   },
   {
    "duration": 10,
    "start_time": "2022-11-15T14:26:06.779Z"
   },
   {
    "duration": 9,
    "start_time": "2022-11-15T14:26:18.411Z"
   },
   {
    "duration": 10,
    "start_time": "2022-11-15T14:26:33.579Z"
   },
   {
    "duration": 11,
    "start_time": "2022-11-15T14:29:34.194Z"
   },
   {
    "duration": 11,
    "start_time": "2022-11-15T14:29:40.977Z"
   },
   {
    "duration": 76,
    "start_time": "2022-11-15T14:30:27.844Z"
   },
   {
    "duration": 1192,
    "start_time": "2022-11-15T14:30:36.480Z"
   },
   {
    "duration": 88,
    "start_time": "2022-11-15T14:30:53.645Z"
   },
   {
    "duration": 15,
    "start_time": "2022-11-15T14:31:01.321Z"
   },
   {
    "duration": 12,
    "start_time": "2022-11-15T14:31:12.672Z"
   },
   {
    "duration": 643,
    "start_time": "2022-11-15T14:31:22.504Z"
   },
   {
    "duration": 14,
    "start_time": "2022-11-15T14:34:38.098Z"
   },
   {
    "duration": 14,
    "start_time": "2022-11-15T14:34:55.510Z"
   },
   {
    "duration": 14,
    "start_time": "2022-11-15T14:35:29.527Z"
   },
   {
    "duration": 14,
    "start_time": "2022-11-15T14:36:23.558Z"
   },
   {
    "duration": 18,
    "start_time": "2022-11-15T14:36:38.358Z"
   },
   {
    "duration": 16,
    "start_time": "2022-11-15T14:37:02.925Z"
   },
   {
    "duration": 13,
    "start_time": "2022-11-15T14:41:15.261Z"
   },
   {
    "duration": 74,
    "start_time": "2022-11-15T14:41:39.443Z"
   },
   {
    "duration": 78,
    "start_time": "2022-11-15T14:41:49.850Z"
   },
   {
    "duration": 669,
    "start_time": "2022-11-15T14:41:56.906Z"
   },
   {
    "duration": 33,
    "start_time": "2022-11-15T14:42:03.613Z"
   },
   {
    "duration": 43,
    "start_time": "2022-11-15T14:42:18.146Z"
   },
   {
    "duration": 57,
    "start_time": "2022-11-15T14:42:39.779Z"
   },
   {
    "duration": 64,
    "start_time": "2022-11-15T14:42:54.154Z"
   },
   {
    "duration": 63,
    "start_time": "2022-11-15T14:43:56.434Z"
   },
   {
    "duration": 66,
    "start_time": "2022-11-15T14:44:14.633Z"
   },
   {
    "duration": 57,
    "start_time": "2022-11-15T14:46:29.904Z"
   },
   {
    "duration": 101,
    "start_time": "2022-11-15T14:46:57.545Z"
   },
   {
    "duration": 100,
    "start_time": "2022-11-15T14:47:18.152Z"
   },
   {
    "duration": 108,
    "start_time": "2022-11-15T14:47:41.192Z"
   },
   {
    "duration": 102,
    "start_time": "2022-11-15T14:47:51.007Z"
   },
   {
    "duration": 108,
    "start_time": "2022-11-15T14:49:06.463Z"
   },
   {
    "duration": 90,
    "start_time": "2022-11-15T14:49:39.767Z"
   },
   {
    "duration": 94,
    "start_time": "2022-11-15T14:49:54.231Z"
   },
   {
    "duration": 104,
    "start_time": "2022-11-15T14:50:02.537Z"
   },
   {
    "duration": 115,
    "start_time": "2022-11-15T14:50:15.711Z"
   },
   {
    "duration": 106,
    "start_time": "2022-11-15T14:52:28.061Z"
   },
   {
    "duration": 113,
    "start_time": "2022-11-15T14:53:10.029Z"
   },
   {
    "duration": 2299,
    "start_time": "2022-11-15T14:53:16.391Z"
   },
   {
    "duration": 265,
    "start_time": "2022-11-15T14:53:18.692Z"
   },
   {
    "duration": 20,
    "start_time": "2022-11-15T14:53:18.959Z"
   },
   {
    "duration": 34,
    "start_time": "2022-11-15T14:53:18.981Z"
   },
   {
    "duration": 33,
    "start_time": "2022-11-15T14:53:19.038Z"
   },
   {
    "duration": 301,
    "start_time": "2022-11-15T14:53:19.073Z"
   },
   {
    "duration": 203,
    "start_time": "2022-11-15T14:53:19.376Z"
   },
   {
    "duration": 393,
    "start_time": "2022-11-15T14:53:19.581Z"
   },
   {
    "duration": 2603,
    "start_time": "2022-11-15T14:53:19.976Z"
   },
   {
    "duration": 305,
    "start_time": "2022-11-15T14:53:22.582Z"
   },
   {
    "duration": 1237,
    "start_time": "2022-11-15T14:53:22.889Z"
   },
   {
    "duration": 122,
    "start_time": "2022-11-15T14:53:28.985Z"
   },
   {
    "duration": 103,
    "start_time": "2022-11-15T14:53:38.396Z"
   },
   {
    "duration": 117,
    "start_time": "2022-11-15T14:53:49.132Z"
   },
   {
    "duration": 105,
    "start_time": "2022-11-15T14:56:17.500Z"
   },
   {
    "duration": 109,
    "start_time": "2022-11-15T14:56:41.219Z"
   },
   {
    "duration": 105,
    "start_time": "2022-11-15T14:57:23.662Z"
   },
   {
    "duration": 107,
    "start_time": "2022-11-15T14:57:41.378Z"
   },
   {
    "duration": 111,
    "start_time": "2022-11-15T14:58:01.211Z"
   },
   {
    "duration": 79,
    "start_time": "2022-11-15T14:58:11.013Z"
   },
   {
    "duration": 105,
    "start_time": "2022-11-15T14:58:16.269Z"
   },
   {
    "duration": 109,
    "start_time": "2022-11-15T15:04:02.528Z"
   },
   {
    "duration": 107,
    "start_time": "2022-11-15T15:04:46.248Z"
   },
   {
    "duration": 104,
    "start_time": "2022-11-15T15:05:00.943Z"
   },
   {
    "duration": 103,
    "start_time": "2022-11-15T15:05:40.719Z"
   },
   {
    "duration": 89,
    "start_time": "2022-11-15T15:06:12.095Z"
   },
   {
    "duration": 147,
    "start_time": "2022-11-15T15:12:52.147Z"
   },
   {
    "duration": 96,
    "start_time": "2022-11-15T15:17:15.882Z"
   },
   {
    "duration": 95,
    "start_time": "2022-11-15T15:18:43.682Z"
   },
   {
    "duration": 94,
    "start_time": "2022-11-15T15:19:11.017Z"
   },
   {
    "duration": 2743,
    "start_time": "2022-11-16T05:48:36.026Z"
   },
   {
    "duration": 212,
    "start_time": "2022-11-16T05:48:38.772Z"
   },
   {
    "duration": 19,
    "start_time": "2022-11-16T05:48:38.986Z"
   },
   {
    "duration": 29,
    "start_time": "2022-11-16T05:48:39.012Z"
   },
   {
    "duration": 30,
    "start_time": "2022-11-16T05:48:39.042Z"
   },
   {
    "duration": 211,
    "start_time": "2022-11-16T05:48:39.074Z"
   },
   {
    "duration": 144,
    "start_time": "2022-11-16T05:48:39.287Z"
   },
   {
    "duration": 321,
    "start_time": "2022-11-16T05:48:39.433Z"
   },
   {
    "duration": 2158,
    "start_time": "2022-11-16T05:48:39.755Z"
   },
   {
    "duration": 267,
    "start_time": "2022-11-16T05:48:41.915Z"
   },
   {
    "duration": 1020,
    "start_time": "2022-11-16T05:48:42.184Z"
   },
   {
    "duration": 73,
    "start_time": "2022-11-16T05:48:43.212Z"
   },
   {
    "duration": 80,
    "start_time": "2022-11-16T05:49:14.798Z"
   },
   {
    "duration": 74,
    "start_time": "2022-11-16T05:49:33.726Z"
   },
   {
    "duration": 75,
    "start_time": "2022-11-16T05:50:03.526Z"
   },
   {
    "duration": 69,
    "start_time": "2022-11-16T05:55:25.643Z"
   },
   {
    "duration": 11,
    "start_time": "2022-11-16T05:57:30.754Z"
   },
   {
    "duration": 12,
    "start_time": "2022-11-16T05:57:49.387Z"
   },
   {
    "duration": 12,
    "start_time": "2022-11-16T05:57:56.882Z"
   },
   {
    "duration": 12,
    "start_time": "2022-11-16T05:58:46.835Z"
   },
   {
    "duration": 12,
    "start_time": "2022-11-16T06:00:59.384Z"
   },
   {
    "duration": 13,
    "start_time": "2022-11-16T06:01:18.240Z"
   },
   {
    "duration": 11,
    "start_time": "2022-11-16T06:01:26.449Z"
   },
   {
    "duration": 13,
    "start_time": "2022-11-16T06:01:32.600Z"
   },
   {
    "duration": 117,
    "start_time": "2022-11-16T06:02:20.472Z"
   },
   {
    "duration": 132,
    "start_time": "2022-11-16T06:02:40.904Z"
   },
   {
    "duration": 194,
    "start_time": "2022-11-16T06:02:55.672Z"
   },
   {
    "duration": 119,
    "start_time": "2022-11-16T06:03:14.328Z"
   },
   {
    "duration": 210,
    "start_time": "2022-11-16T06:03:46.999Z"
   },
   {
    "duration": 220,
    "start_time": "2022-11-16T06:07:25.622Z"
   },
   {
    "duration": 238,
    "start_time": "2022-11-16T06:08:02.205Z"
   },
   {
    "duration": 243,
    "start_time": "2022-11-16T06:08:50.669Z"
   },
   {
    "duration": 261,
    "start_time": "2022-11-16T06:09:05.996Z"
   },
   {
    "duration": 318,
    "start_time": "2022-11-16T06:09:17.549Z"
   },
   {
    "duration": 73,
    "start_time": "2022-11-16T06:11:03.940Z"
   },
   {
    "duration": 306,
    "start_time": "2022-11-16T06:11:30.452Z"
   },
   {
    "duration": 237,
    "start_time": "2022-11-16T06:11:40.811Z"
   },
   {
    "duration": 252,
    "start_time": "2022-11-16T06:12:00.596Z"
   },
   {
    "duration": 78,
    "start_time": "2022-11-16T06:20:14.238Z"
   },
   {
    "duration": 274,
    "start_time": "2022-11-16T06:29:36.314Z"
   },
   {
    "duration": 274,
    "start_time": "2022-11-16T06:30:22.611Z"
   },
   {
    "duration": 359,
    "start_time": "2022-11-16T06:32:08.712Z"
   },
   {
    "duration": 75,
    "start_time": "2022-11-16T06:50:26.457Z"
   },
   {
    "duration": 26,
    "start_time": "2022-11-16T06:50:31.792Z"
   },
   {
    "duration": 32,
    "start_time": "2022-11-16T06:52:29.992Z"
   },
   {
    "duration": 28,
    "start_time": "2022-11-16T06:52:49.360Z"
   },
   {
    "duration": 30,
    "start_time": "2022-11-16T06:53:48.615Z"
   },
   {
    "duration": 226,
    "start_time": "2022-11-16T07:26:58.823Z"
   },
   {
    "duration": 250,
    "start_time": "2022-11-16T07:38:45.631Z"
   },
   {
    "duration": 2332,
    "start_time": "2022-11-16T09:20:22.636Z"
   },
   {
    "duration": 2506,
    "start_time": "2022-11-16T09:20:43.075Z"
   },
   {
    "duration": 2365,
    "start_time": "2022-11-16T09:21:32.219Z"
   },
   {
    "duration": 180,
    "start_time": "2022-11-16T09:22:06.315Z"
   },
   {
    "duration": 163,
    "start_time": "2022-11-16T09:22:15.674Z"
   },
   {
    "duration": 142,
    "start_time": "2022-11-16T09:23:15.067Z"
   },
   {
    "duration": 177,
    "start_time": "2022-11-16T09:25:14.825Z"
   },
   {
    "duration": 164,
    "start_time": "2022-11-16T09:25:43.242Z"
   },
   {
    "duration": 312,
    "start_time": "2022-11-16T09:25:50.138Z"
   },
   {
    "duration": 153,
    "start_time": "2022-11-16T09:29:16.449Z"
   },
   {
    "duration": 140,
    "start_time": "2022-11-16T09:29:56.255Z"
   },
   {
    "duration": 150,
    "start_time": "2022-11-16T09:32:18.278Z"
   },
   {
    "duration": 153,
    "start_time": "2022-11-16T09:32:26.534Z"
   },
   {
    "duration": 1935,
    "start_time": "2022-11-16T09:32:35.639Z"
   },
   {
    "duration": 215,
    "start_time": "2022-11-16T09:32:37.577Z"
   },
   {
    "duration": 27,
    "start_time": "2022-11-16T09:32:37.793Z"
   },
   {
    "duration": 28,
    "start_time": "2022-11-16T09:32:37.822Z"
   },
   {
    "duration": 27,
    "start_time": "2022-11-16T09:32:37.851Z"
   },
   {
    "duration": 220,
    "start_time": "2022-11-16T09:32:37.879Z"
   },
   {
    "duration": 171,
    "start_time": "2022-11-16T09:32:40.869Z"
   },
   {
    "duration": 163,
    "start_time": "2022-11-16T09:33:23.126Z"
   },
   {
    "duration": 168,
    "start_time": "2022-11-16T09:34:41.061Z"
   },
   {
    "duration": 166,
    "start_time": "2022-11-16T09:43:00.962Z"
   },
   {
    "duration": 161,
    "start_time": "2022-11-16T09:43:05.849Z"
   },
   {
    "duration": 146,
    "start_time": "2022-11-16T09:43:31.216Z"
   },
   {
    "duration": 144,
    "start_time": "2022-11-16T09:44:01.896Z"
   },
   {
    "duration": 151,
    "start_time": "2022-11-16T09:44:33.647Z"
   },
   {
    "duration": 149,
    "start_time": "2022-11-16T09:46:28.238Z"
   },
   {
    "duration": 159,
    "start_time": "2022-11-16T09:46:31.896Z"
   },
   {
    "duration": 68,
    "start_time": "2022-11-16T09:46:43.550Z"
   },
   {
    "duration": 70,
    "start_time": "2022-11-16T09:46:52.998Z"
   },
   {
    "duration": 159,
    "start_time": "2022-11-16T09:46:56.526Z"
   },
   {
    "duration": 1898,
    "start_time": "2022-11-16T09:49:20.662Z"
   },
   {
    "duration": 212,
    "start_time": "2022-11-16T09:49:22.563Z"
   },
   {
    "duration": 18,
    "start_time": "2022-11-16T09:49:22.777Z"
   },
   {
    "duration": 41,
    "start_time": "2022-11-16T09:49:22.797Z"
   },
   {
    "duration": 27,
    "start_time": "2022-11-16T09:49:22.839Z"
   },
   {
    "duration": 228,
    "start_time": "2022-11-16T09:49:22.868Z"
   },
   {
    "duration": 165,
    "start_time": "2022-11-16T09:49:28.804Z"
   },
   {
    "duration": 152,
    "start_time": "2022-11-16T09:52:02.916Z"
   },
   {
    "duration": 2010,
    "start_time": "2022-11-16T09:53:00.807Z"
   },
   {
    "duration": 213,
    "start_time": "2022-11-16T09:53:02.819Z"
   },
   {
    "duration": 17,
    "start_time": "2022-11-16T09:53:03.033Z"
   },
   {
    "duration": 29,
    "start_time": "2022-11-16T09:53:03.052Z"
   },
   {
    "duration": 47,
    "start_time": "2022-11-16T09:53:03.083Z"
   },
   {
    "duration": 199,
    "start_time": "2022-11-16T09:53:03.132Z"
   },
   {
    "duration": 144,
    "start_time": "2022-11-16T09:53:03.333Z"
   },
   {
    "duration": 437,
    "start_time": "2022-11-16T09:53:03.479Z"
   },
   {
    "duration": 2331,
    "start_time": "2022-11-16T09:53:19.505Z"
   },
   {
    "duration": 2379,
    "start_time": "2022-11-16T09:56:54.417Z"
   },
   {
    "duration": 65,
    "start_time": "2022-11-16T11:04:54.808Z"
   },
   {
    "duration": 370,
    "start_time": "2022-11-16T11:04:58.351Z"
   },
   {
    "duration": 477,
    "start_time": "2022-11-16T11:05:22.159Z"
   },
   {
    "duration": 1071,
    "start_time": "2022-11-16T11:41:18.742Z"
   },
   {
    "duration": 1112,
    "start_time": "2022-11-16T11:41:26.717Z"
   },
   {
    "duration": 1000,
    "start_time": "2022-11-16T11:42:11.501Z"
   },
   {
    "duration": 1120,
    "start_time": "2022-11-16T11:42:45.587Z"
   },
   {
    "duration": 1004,
    "start_time": "2022-11-16T11:43:21.317Z"
   },
   {
    "duration": 1113,
    "start_time": "2022-11-16T11:44:15.340Z"
   },
   {
    "duration": 1034,
    "start_time": "2022-11-16T11:50:16.433Z"
   },
   {
    "duration": 1153,
    "start_time": "2022-11-16T12:02:40.398Z"
   },
   {
    "duration": 1171,
    "start_time": "2022-11-16T12:03:10.308Z"
   },
   {
    "duration": 1929,
    "start_time": "2022-11-16T15:04:11.202Z"
   },
   {
    "duration": 212,
    "start_time": "2022-11-16T15:04:13.132Z"
   },
   {
    "duration": 17,
    "start_time": "2022-11-16T15:04:13.345Z"
   },
   {
    "duration": 29,
    "start_time": "2022-11-16T15:04:13.363Z"
   },
   {
    "duration": 43,
    "start_time": "2022-11-16T15:04:13.394Z"
   },
   {
    "duration": 209,
    "start_time": "2022-11-16T15:04:13.438Z"
   },
   {
    "duration": 155,
    "start_time": "2022-11-16T15:04:13.649Z"
   },
   {
    "duration": 439,
    "start_time": "2022-11-16T15:04:13.805Z"
   },
   {
    "duration": 2317,
    "start_time": "2022-11-16T15:04:14.246Z"
   },
   {
    "duration": 394,
    "start_time": "2022-11-16T15:04:16.566Z"
   },
   {
    "duration": 1144,
    "start_time": "2022-11-16T15:04:16.962Z"
   },
   {
    "duration": 74,
    "start_time": "2022-11-16T15:04:18.112Z"
   },
   {
    "duration": 266,
    "start_time": "2022-11-16T15:04:18.188Z"
   },
   {
    "duration": 52,
    "start_time": "2022-11-16T15:45:35.735Z"
   },
   {
    "duration": 2807,
    "start_time": "2022-11-16T15:45:42.891Z"
   },
   {
    "duration": 267,
    "start_time": "2022-11-16T15:45:45.700Z"
   },
   {
    "duration": 22,
    "start_time": "2022-11-16T15:45:45.970Z"
   },
   {
    "duration": 60,
    "start_time": "2022-11-16T15:45:45.995Z"
   },
   {
    "duration": 37,
    "start_time": "2022-11-16T15:45:46.057Z"
   },
   {
    "duration": 255,
    "start_time": "2022-11-16T15:45:46.097Z"
   },
   {
    "duration": 188,
    "start_time": "2022-11-16T15:45:46.355Z"
   },
   {
    "duration": 5,
    "start_time": "2022-11-16T15:45:46.545Z"
   },
   {
    "duration": 365,
    "start_time": "2022-11-16T15:45:46.553Z"
   },
   {
    "duration": 2777,
    "start_time": "2022-11-16T15:45:46.921Z"
   },
   {
    "duration": 438,
    "start_time": "2022-11-16T15:45:49.700Z"
   },
   {
    "duration": 1202,
    "start_time": "2022-11-16T15:45:50.140Z"
   },
   {
    "duration": 107,
    "start_time": "2022-11-16T15:45:51.344Z"
   },
   {
    "duration": 369,
    "start_time": "2022-11-16T15:45:51.452Z"
   },
   {
    "duration": 44,
    "start_time": "2022-11-16T16:58:02.617Z"
   },
   {
    "duration": 2877,
    "start_time": "2022-11-16T16:58:09.800Z"
   },
   {
    "duration": 15,
    "start_time": "2022-11-16T16:58:12.679Z"
   },
   {
    "duration": 8,
    "start_time": "2022-11-16T16:58:12.696Z"
   },
   {
    "duration": 0,
    "start_time": "2022-11-16T16:58:12.706Z"
   },
   {
    "duration": 0,
    "start_time": "2022-11-16T16:58:12.707Z"
   },
   {
    "duration": 0,
    "start_time": "2022-11-16T16:58:12.708Z"
   },
   {
    "duration": 0,
    "start_time": "2022-11-16T16:58:12.709Z"
   },
   {
    "duration": 0,
    "start_time": "2022-11-16T16:58:12.710Z"
   },
   {
    "duration": 0,
    "start_time": "2022-11-16T16:58:12.711Z"
   },
   {
    "duration": 0,
    "start_time": "2022-11-16T16:58:12.712Z"
   },
   {
    "duration": 0,
    "start_time": "2022-11-16T16:58:12.713Z"
   },
   {
    "duration": 0,
    "start_time": "2022-11-16T16:58:12.714Z"
   },
   {
    "duration": 0,
    "start_time": "2022-11-16T16:58:12.715Z"
   },
   {
    "duration": 0,
    "start_time": "2022-11-16T16:58:12.716Z"
   },
   {
    "duration": 67,
    "start_time": "2022-11-16T16:59:32.687Z"
   },
   {
    "duration": 39,
    "start_time": "2022-11-16T16:59:44.586Z"
   },
   {
    "duration": 7,
    "start_time": "2022-11-16T16:59:49.071Z"
   },
   {
    "duration": 15,
    "start_time": "2022-11-16T16:59:58.430Z"
   },
   {
    "duration": 15,
    "start_time": "2022-11-16T17:00:03.825Z"
   },
   {
    "duration": 1947,
    "start_time": "2022-11-16T17:01:40.769Z"
   },
   {
    "duration": 16,
    "start_time": "2022-11-16T17:01:42.718Z"
   },
   {
    "duration": 13,
    "start_time": "2022-11-16T17:01:42.736Z"
   },
   {
    "duration": 19,
    "start_time": "2022-11-16T17:01:42.751Z"
   },
   {
    "duration": 50,
    "start_time": "2022-11-16T17:01:42.772Z"
   },
   {
    "duration": 1930,
    "start_time": "2022-11-16T17:13:52.314Z"
   },
   {
    "duration": 15,
    "start_time": "2022-11-16T17:13:54.246Z"
   },
   {
    "duration": 10,
    "start_time": "2022-11-16T17:13:54.263Z"
   },
   {
    "duration": 17,
    "start_time": "2022-11-16T17:13:54.275Z"
   },
   {
    "duration": 32,
    "start_time": "2022-11-16T17:13:54.313Z"
   },
   {
    "duration": 27,
    "start_time": "2022-11-16T17:13:54.347Z"
   },
   {
    "duration": 226,
    "start_time": "2022-11-16T17:13:54.376Z"
   },
   {
    "duration": 167,
    "start_time": "2022-11-16T17:13:54.603Z"
   },
   {
    "duration": 333,
    "start_time": "2022-11-16T17:13:54.772Z"
   },
   {
    "duration": 2290,
    "start_time": "2022-11-16T17:13:57.455Z"
   }
  ],
  "kernelspec": {
   "display_name": "Python 3 (ipykernel)",
   "language": "python",
   "name": "python3"
  },
  "language_info": {
   "codemirror_mode": {
    "name": "ipython",
    "version": 3
   },
   "file_extension": ".py",
   "mimetype": "text/x-python",
   "name": "python",
   "nbconvert_exporter": "python",
   "pygments_lexer": "ipython3",
   "version": "3.9.5"
  },
  "toc": {
   "base_numbering": 1,
   "nav_menu": {},
   "number_sections": true,
   "sideBar": true,
   "skip_h1_title": true,
   "title_cell": "Table of Contents",
   "title_sidebar": "Contents",
   "toc_cell": false,
   "toc_position": {},
   "toc_section_display": true,
   "toc_window_display": false
  }
 },
 "nbformat": 4,
 "nbformat_minor": 2
}
